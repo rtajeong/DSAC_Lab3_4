{
  "nbformat": 4,
  "nbformat_minor": 0,
  "metadata": {
    "kernelspec": {
      "display_name": "Python 3",
      "language": "python",
      "name": "python3"
    },
    "language_info": {
      "codemirror_mode": {
        "name": "ipython",
        "version": 3
      },
      "file_extension": ".py",
      "mimetype": "text/x-python",
      "name": "python",
      "nbconvert_exporter": "python",
      "pygments_lexer": "ipython3",
      "version": "3.6.8"
    },
    "colab": {
      "name": "lab47_video.ipynb",
      "provenance": [],
      "toc_visible": true,
      "include_colab_link": true
    }
  },
  "cells": [
    {
      "cell_type": "markdown",
      "metadata": {
        "id": "view-in-github",
        "colab_type": "text"
      },
      "source": [
        "<a href=\"https://colab.research.google.com/github/rtajeong/DSAC_Lab3_4/blob/master/kn_lab47_video.ipynb\" target=\"_parent\"><img src=\"https://colab.research.google.com/assets/colab-badge.svg\" alt=\"Open In Colab\"/></a>"
      ]
    },
    {
      "cell_type": "markdown",
      "metadata": {
        "id": "6HM7yCMn2cLs"
      },
      "source": [
        "# 동영상 재생"
      ]
    },
    {
      "cell_type": "markdown",
      "metadata": {
        "id": "ibFdJ3g82cMG"
      },
      "source": [
        "### Camera로 부터 영상 재생 - Camera로부터 영상을 읽어, 화면에 보이기 위한 절차\n",
        "\n",
        "- VideoCapture Object를 생성합니다. 변수로는 camera device index나 동영상 파일명을 \n",
        "  넘겨줍니다. 일반적으로 0 이면 Camera와 연결이 됩니다.\n",
        "- Loop를 돌면서 frame을 읽어 들입니다.\n",
        "- 읽은 frame에 대해서 변환작업을 수행한 후, 화면에 보여줍니다.\n",
        "- 영상 재생이 끝나면, VideoCapure Object를 release하고 window를 닫습니다."
      ]
    },
    {
      "cell_type": "markdown",
      "metadata": {
        "id": "V91IgEW52cMI"
      },
      "source": [
        "- 동영상 재생시에는 해당 동영상의 Codec이 설치되어 있어야 합니다.\n",
        "\n",
        "- fourcc정보는 cv2.VideoWriter_fourcc('M','J','P','G') 또는 cv2.VideoWriter_fourcc(*'MJPG) \n",
        "  와 같이 표현할 수 있습니다. 각 OS마다 지원하는 codec 다릅니다.(Windows는 DIVX)"
      ]
    },
    {
      "cell_type": "code",
      "metadata": {
        "id": "oaXtulVK2cMI"
      },
      "source": [
        "import cv2\n",
        "import numpy as np"
      ],
      "execution_count": null,
      "outputs": []
    },
    {
      "cell_type": "code",
      "metadata": {
        "id": "9VVCJevQ2cMK"
      },
      "source": [
        "cap = cv2.VideoCapture(0)\n",
        "# fmt = cv2.VideoWriter_fourcc('m','p','4','v')\n",
        "fmt = cv2.VideoWriter_fourcc('d','i','v','x')\n",
        "fps = 20.0\n",
        "size = (640,360)\n",
        "writer = cv2.VideoWriter('test2.m4v', fmt, fps, size)"
      ],
      "execution_count": null,
      "outputs": []
    },
    {
      "cell_type": "code",
      "metadata": {
        "id": "hF5eNq8R2cML"
      },
      "source": [
        "while True: \n",
        "    _, frame = cap.read()\n",
        "    frame = cv2.resize(frame, size)\n",
        "    writer.write(frame)\n",
        "    cv2.imshow('frame', frame)\n",
        "    if cv2.waitKey(1) == 27:    # Esc  key\n",
        "        break\n",
        "\n",
        "writer.release()\n",
        "cap.release()\n",
        "cv2.destroyAllWindows()"
      ],
      "execution_count": null,
      "outputs": []
    },
    {
      "cell_type": "code",
      "metadata": {
        "id": "AtnSp9bh2cML"
      },
      "source": [
        ""
      ],
      "execution_count": null,
      "outputs": []
    }
  ]
}