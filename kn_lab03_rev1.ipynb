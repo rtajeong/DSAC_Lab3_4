{
  "nbformat": 4,
  "nbformat_minor": 0,
  "metadata": {
    "colab": {
      "name": "kn_lab03_rev1.ipynb",
      "provenance": [],
      "collapsed_sections": [],
      "mount_file_id": "1vFir82Hz8O_IXHl5lOTdB-bUuvxkFZJH",
      "authorship_tag": "ABX9TyNHFHy8s5KtmIpNKIXIBHS6",
      "include_colab_link": true
    },
    "kernelspec": {
      "name": "python3",
      "display_name": "Python 3"
    }
  },
  "cells": [
    {
      "cell_type": "markdown",
      "metadata": {
        "id": "view-in-github",
        "colab_type": "text"
      },
      "source": [
        "<a href=\"https://colab.research.google.com/github/rtajeong/DSAC_Lab3_4/blob/master/kn_lab03_rev1.ipynb\" target=\"_parent\"><img src=\"https://colab.research.google.com/assets/colab-badge.svg\" alt=\"Open In Colab\"/></a>"
      ]
    },
    {
      "cell_type": "markdown",
      "metadata": {
        "id": "TGhAi37Lytnp"
      },
      "source": [
        "# DecisionTree and RandomForest"
      ]
    },
    {
      "cell_type": "code",
      "metadata": {
        "id": "qZcAGlXQy1FI"
      },
      "source": [
        "import numpy as np\r\n",
        "from sklearn.datasets import load_iris\r\n",
        "from sklearn.model_selection import train_test_split\r\n",
        "import matplotlib.pyplot as plt\r\n",
        "%matplotlib inline"
      ],
      "execution_count": 1,
      "outputs": []
    },
    {
      "cell_type": "code",
      "metadata": {
        "id": "VFocEXRbSk_p"
      },
      "source": [
        "from sklearn.tree import DecisionTreeClassifier"
      ],
      "execution_count": 2,
      "outputs": []
    },
    {
      "cell_type": "code",
      "metadata": {
        "id": "xnFxydh4Ssm4"
      },
      "source": [
        "iris = load_iris()\r\n",
        "X, y = iris.data, iris.target"
      ],
      "execution_count": 3,
      "outputs": []
    },
    {
      "cell_type": "code",
      "metadata": {
        "id": "5a5zJ88wS_QN"
      },
      "source": [
        "X = X[:,:2]"
      ],
      "execution_count": 4,
      "outputs": []
    },
    {
      "cell_type": "code",
      "metadata": {
        "id": "CmAYOyLMTEIs"
      },
      "source": [
        "X_train, X_test, y_train, y_test = train_test_split(X, y)"
      ],
      "execution_count": 13,
      "outputs": []
    },
    {
      "cell_type": "code",
      "metadata": {
        "colab": {
          "base_uri": "https://localhost:8080/"
        },
        "id": "rJ_BjXX_TFRT",
        "outputId": "2e136925-9c62-4c1a-f824-edf3bd670076"
      },
      "source": [
        "X_train.shape, X_test.shape"
      ],
      "execution_count": 14,
      "outputs": [
        {
          "output_type": "execute_result",
          "data": {
            "text/plain": [
              "((112, 2), (38, 2))"
            ]
          },
          "metadata": {
            "tags": []
          },
          "execution_count": 14
        }
      ]
    },
    {
      "cell_type": "code",
      "metadata": {
        "colab": {
          "base_uri": "https://localhost:8080/"
        },
        "id": "seJGvf5XTh2w",
        "outputId": "140df2d6-cdb3-4aba-e152-76f59e8c5b30"
      },
      "source": [
        "clf = DecisionTreeClassifier(max_depth=2)\r\n",
        "clf.fit(X_train, y_train)"
      ],
      "execution_count": 38,
      "outputs": [
        {
          "output_type": "execute_result",
          "data": {
            "text/plain": [
              "DecisionTreeClassifier(ccp_alpha=0.0, class_weight=None, criterion='gini',\n",
              "                       max_depth=2, max_features=None, max_leaf_nodes=None,\n",
              "                       min_impurity_decrease=0.0, min_impurity_split=None,\n",
              "                       min_samples_leaf=1, min_samples_split=2,\n",
              "                       min_weight_fraction_leaf=0.0, presort='deprecated',\n",
              "                       random_state=None, splitter='best')"
            ]
          },
          "metadata": {
            "tags": []
          },
          "execution_count": 38
        }
      ]
    },
    {
      "cell_type": "code",
      "metadata": {
        "colab": {
          "base_uri": "https://localhost:8080/",
          "height": 375
        },
        "id": "d5-HaapQT_w4",
        "outputId": "4f27bbad-25b7-4004-e987-571cb794f573"
      },
      "source": [
        "from sklearn import tree\r\n",
        "tree.plot_tree(clf, filled=True)"
      ],
      "execution_count": 39,
      "outputs": [
        {
          "output_type": "execute_result",
          "data": {
            "text/plain": [
              "[Text(167.4, 181.2, 'X[0] <= 5.45\\ngini = 0.666\\nsamples = 112\\nvalue = [38, 38, 36]'),\n",
              " Text(83.7, 108.72, 'X[1] <= 2.8\\ngini = 0.153\\nsamples = 36\\nvalue = [33, 3, 0]'),\n",
              " Text(41.85, 36.23999999999998, 'gini = 0.444\\nsamples = 3\\nvalue = [1, 2, 0]'),\n",
              " Text(125.55000000000001, 36.23999999999998, 'gini = 0.059\\nsamples = 33\\nvalue = [32, 1, 0]'),\n",
              " Text(251.10000000000002, 108.72, 'X[0] <= 6.15\\ngini = 0.559\\nsamples = 76\\nvalue = [5, 35, 36]'),\n",
              " Text(209.25, 36.23999999999998, 'gini = 0.498\\nsamples = 36\\nvalue = [5, 24, 7]'),\n",
              " Text(292.95, 36.23999999999998, 'gini = 0.399\\nsamples = 40\\nvalue = [0, 11, 29]')]"
            ]
          },
          "metadata": {
            "tags": []
          },
          "execution_count": 39
        },
        {
          "output_type": "display_data",
          "data": {
            "image/png": "[encoded data removed]",
            "text/plain": [
              "<Figure size 432x288 with 1 Axes>"
            ]
          },
          "metadata": {
            "tags": [],
            "needs_background": "light"
          }
        }
      ]
    },
    {
      "cell_type": "code",
      "metadata": {
        "id": "9JbtcSx-VBKB"
      },
      "source": [
        "# !pip install graphviz\r\n",
        "# conda install python-graphviz (in cmd 창)"
      ],
      "execution_count": 40,
      "outputs": []
    },
    {
      "cell_type": "code",
      "metadata": {
        "id": "1tw6CgQGVup5"
      },
      "source": [
        "from sklearn.tree import export_graphviz\r\n",
        "import graphviz"
      ],
      "execution_count": 41,
      "outputs": []
    },
    {
      "cell_type": "code",
      "metadata": {
        "id": "hgbX__ntV4pl"
      },
      "source": [
        "export_graphviz(\r\n",
        "    clf,\r\n",
        "    out_file=\"./iris.dot\",\r\n",
        "    feature_names = iris.feature_names[:2],\r\n",
        "    class_names = iris.target_names,\r\n",
        "    filled = True\r\n",
        ")\r\n"
      ],
      "execution_count": 42,
      "outputs": []
    },
    {
      "cell_type": "code",
      "metadata": {
        "colab": {
          "base_uri": "https://localhost:8080/",
          "height": 438
        },
        "id": "VV5NBPG5WT-B",
        "outputId": "c15af469-9795-4980-8369-48d8bdace916"
      },
      "source": [
        "with open(\"./iris.dot\") as f:\r\n",
        "    dot_graph = str(open(\"./iris.dot\", \"rb\").read(), \"utf8\")\r\n",
        "graphviz.Source(dot_graph)"
      ],
      "execution_count": 43,
      "outputs": [
        {
          "output_type": "execute_result",
          "data": {
            "text/plain": [
              "<graphviz.files.Source at 0x7f3a592525f8>"
            ],
            "image/svg+xml": "<?xml version=\"1.0\" encoding=\"UTF-8\" standalone=\"no\"?>\n<!DOCTYPE svg PUBLIC \"-//W3C//DTD SVG 1.1//EN\"\n \"http://www.w3.org/Graphics/SVG/1.1/DTD/svg11.dtd\">\n<!-- Generated by graphviz version 2.40.1 (20161225.0304)\n -->\n<!-- Title: Tree Pages: 1 -->\n<svg width=\"557pt\" height=\"314pt\"\n viewBox=\"0.00 0.00 556.50 314.00\" xmlns=\"http://www.w3.org/2000/svg\" xmlns:xlink=\"http://www.w3.org/1999/xlink\">\n<g id=\"graph0\" class=\"graph\" transform=\"scale(1 1) rotate(0) translate(4 310)\">\n<title>Tree</title>\n<polygon fill=\"#ffffff\" stroke=\"transparent\" points=\"-4,4 -4,-310 552.5,-310 552.5,4 -4,4\"/>\n<!-- 0 -->\n<g id=\"node1\" class=\"node\">\n<title>0</title>\n<polygon fill=\"#ffffff\" stroke=\"#000000\" points=\"352,-306 187,-306 187,-223 352,-223 352,-306\"/>\n<text text-anchor=\"middle\" x=\"269.5\" y=\"-290.8\" font-family=\"Times,serif\" font-size=\"14.00\" fill=\"#000000\">sepal length (cm) &lt;= 5.45</text>\n<text text-anchor=\"middle\" x=\"269.5\" y=\"-275.8\" font-family=\"Times,serif\" font-size=\"14.00\" fill=\"#000000\">gini = 0.666</text>\n<text text-anchor=\"middle\" x=\"269.5\" y=\"-260.8\" font-family=\"Times,serif\" font-size=\"14.00\" fill=\"#000000\">samples = 112</text>\n<text text-anchor=\"middle\" x=\"269.5\" y=\"-245.8\" font-family=\"Times,serif\" font-size=\"14.00\" fill=\"#000000\">value = [38, 38, 36]</text>\n<text text-anchor=\"middle\" x=\"269.5\" y=\"-230.8\" font-family=\"Times,serif\" font-size=\"14.00\" fill=\"#000000\">class = setosa</text>\n</g>\n<!-- 1 -->\n<g id=\"node2\" class=\"node\">\n<title>1</title>\n<polygon fill=\"#e78c4b\" stroke=\"#000000\" points=\"258,-187 103,-187 103,-104 258,-104 258,-187\"/>\n<text text-anchor=\"middle\" x=\"180.5\" y=\"-171.8\" font-family=\"Times,serif\" font-size=\"14.00\" fill=\"#000000\">sepal width (cm) &lt;= 2.8</text>\n<text text-anchor=\"middle\" x=\"180.5\" y=\"-156.8\" font-family=\"Times,serif\" font-size=\"14.00\" fill=\"#000000\">gini = 0.153</text>\n<text text-anchor=\"middle\" x=\"180.5\" y=\"-141.8\" font-family=\"Times,serif\" font-size=\"14.00\" fill=\"#000000\">samples = 36</text>\n<text text-anchor=\"middle\" x=\"180.5\" y=\"-126.8\" font-family=\"Times,serif\" font-size=\"14.00\" fill=\"#000000\">value = [33, 3, 0]</text>\n<text text-anchor=\"middle\" x=\"180.5\" y=\"-111.8\" font-family=\"Times,serif\" font-size=\"14.00\" fill=\"#000000\">class = setosa</text>\n</g>\n<!-- 0&#45;&gt;1 -->\n<g id=\"edge1\" class=\"edge\">\n<title>0&#45;&gt;1</title>\n<path fill=\"none\" stroke=\"#000000\" d=\"M238.3721,-222.8796C231.771,-214.0534 224.7371,-204.6485 217.9298,-195.5466\"/>\n<polygon fill=\"#000000\" stroke=\"#000000\" points=\"220.5528,-193.2099 211.7607,-187.2981 214.9472,-197.4024 220.5528,-193.2099\"/>\n<text text-anchor=\"middle\" x=\"208.1919\" y=\"-208.342\" font-family=\"Times,serif\" font-size=\"14.00\" fill=\"#000000\">True</text>\n</g>\n<!-- 4 -->\n<g id=\"node5\" class=\"node\">\n<title>4</title>\n<polygon fill=\"#fcfafe\" stroke=\"#000000\" points=\"441,-187 276,-187 276,-104 441,-104 441,-187\"/>\n<text text-anchor=\"middle\" x=\"358.5\" y=\"-171.8\" font-family=\"Times,serif\" font-size=\"14.00\" fill=\"#000000\">sepal length (cm) &lt;= 6.15</text>\n<text text-anchor=\"middle\" x=\"358.5\" y=\"-156.8\" font-family=\"Times,serif\" font-size=\"14.00\" fill=\"#000000\">gini = 0.559</text>\n<text text-anchor=\"middle\" x=\"358.5\" y=\"-141.8\" font-family=\"Times,serif\" font-size=\"14.00\" fill=\"#000000\">samples = 76</text>\n<text text-anchor=\"middle\" x=\"358.5\" y=\"-126.8\" font-family=\"Times,serif\" font-size=\"14.00\" fill=\"#000000\">value = [5, 35, 36]</text>\n<text text-anchor=\"middle\" x=\"358.5\" y=\"-111.8\" font-family=\"Times,serif\" font-size=\"14.00\" fill=\"#000000\">class = virginica</text>\n</g>\n<!-- 0&#45;&gt;4 -->\n<g id=\"edge4\" class=\"edge\">\n<title>0&#45;&gt;4</title>\n<path fill=\"none\" stroke=\"#000000\" d=\"M300.6279,-222.8796C307.229,-214.0534 314.2629,-204.6485 321.0702,-195.5466\"/>\n<polygon fill=\"#000000\" stroke=\"#000000\" points=\"324.0528,-197.4024 327.2393,-187.2981 318.4472,-193.2099 324.0528,-197.4024\"/>\n<text text-anchor=\"middle\" x=\"330.8081\" y=\"-208.342\" font-family=\"Times,serif\" font-size=\"14.00\" fill=\"#000000\">False</text>\n</g>\n<!-- 2 -->\n<g id=\"node3\" class=\"node\">\n<title>2</title>\n<polygon fill=\"#9cf2c0\" stroke=\"#000000\" points=\"115,-68 0,-68 0,0 115,0 115,-68\"/>\n<text text-anchor=\"middle\" x=\"57.5\" y=\"-52.8\" font-family=\"Times,serif\" font-size=\"14.00\" fill=\"#000000\">gini = 0.444</text>\n<text text-anchor=\"middle\" x=\"57.5\" y=\"-37.8\" font-family=\"Times,serif\" font-size=\"14.00\" fill=\"#000000\">samples = 3</text>\n<text text-anchor=\"middle\" x=\"57.5\" y=\"-22.8\" font-family=\"Times,serif\" font-size=\"14.00\" fill=\"#000000\">value = [1, 2, 0]</text>\n<text text-anchor=\"middle\" x=\"57.5\" y=\"-7.8\" font-family=\"Times,serif\" font-size=\"14.00\" fill=\"#000000\">class = versicolor</text>\n</g>\n<!-- 1&#45;&gt;2 -->\n<g id=\"edge2\" class=\"edge\">\n<title>1&#45;&gt;2</title>\n<path fill=\"none\" stroke=\"#000000\" d=\"M134.6993,-103.9815C124.2566,-94.5151 113.1667,-84.462 102.7472,-75.0168\"/>\n<polygon fill=\"#000000\" stroke=\"#000000\" points=\"105.0572,-72.3868 95.2976,-68.2637 100.3559,-77.5731 105.0572,-72.3868\"/>\n</g>\n<!-- 3 -->\n<g id=\"node4\" class=\"node\">\n<title>3</title>\n<polygon fill=\"#e6853f\" stroke=\"#000000\" points=\"250,-68 133,-68 133,0 250,0 250,-68\"/>\n<text text-anchor=\"middle\" x=\"191.5\" y=\"-52.8\" font-family=\"Times,serif\" font-size=\"14.00\" fill=\"#000000\">gini = 0.059</text>\n<text text-anchor=\"middle\" x=\"191.5\" y=\"-37.8\" font-family=\"Times,serif\" font-size=\"14.00\" fill=\"#000000\">samples = 33</text>\n<text text-anchor=\"middle\" x=\"191.5\" y=\"-22.8\" font-family=\"Times,serif\" font-size=\"14.00\" fill=\"#000000\">value = [32, 1, 0]</text>\n<text text-anchor=\"middle\" x=\"191.5\" y=\"-7.8\" font-family=\"Times,serif\" font-size=\"14.00\" fill=\"#000000\">class = setosa</text>\n</g>\n<!-- 1&#45;&gt;3 -->\n<g id=\"edge3\" class=\"edge\">\n<title>1&#45;&gt;3</title>\n<path fill=\"none\" stroke=\"#000000\" d=\"M184.596,-103.9815C185.4211,-95.618 186.2914,-86.7965 187.1256,-78.3409\"/>\n<polygon fill=\"#000000\" stroke=\"#000000\" points=\"190.6209,-78.559 188.1197,-68.2637 183.6548,-77.8717 190.6209,-78.559\"/>\n</g>\n<!-- 5 -->\n<g id=\"node6\" class=\"node\">\n<title>5</title>\n<polygon fill=\"#8bf0b5\" stroke=\"#000000\" points=\"406,-68 289,-68 289,0 406,0 406,-68\"/>\n<text text-anchor=\"middle\" x=\"347.5\" y=\"-52.8\" font-family=\"Times,serif\" font-size=\"14.00\" fill=\"#000000\">gini = 0.498</text>\n<text text-anchor=\"middle\" x=\"347.5\" y=\"-37.8\" font-family=\"Times,serif\" font-size=\"14.00\" fill=\"#000000\">samples = 36</text>\n<text text-anchor=\"middle\" x=\"347.5\" y=\"-22.8\" font-family=\"Times,serif\" font-size=\"14.00\" fill=\"#000000\">value = [5, 24, 7]</text>\n<text text-anchor=\"middle\" x=\"347.5\" y=\"-7.8\" font-family=\"Times,serif\" font-size=\"14.00\" fill=\"#000000\">class = versicolor</text>\n</g>\n<!-- 4&#45;&gt;5 -->\n<g id=\"edge5\" class=\"edge\">\n<title>4&#45;&gt;5</title>\n<path fill=\"none\" stroke=\"#000000\" d=\"M354.404,-103.9815C353.5789,-95.618 352.7086,-86.7965 351.8744,-78.3409\"/>\n<polygon fill=\"#000000\" stroke=\"#000000\" points=\"355.3452,-77.8717 350.8803,-68.2637 348.3791,-78.559 355.3452,-77.8717\"/>\n</g>\n<!-- 6 -->\n<g id=\"node7\" class=\"node\">\n<title>6</title>\n<polygon fill=\"#b184ef\" stroke=\"#000000\" points=\"548.5,-68 424.5,-68 424.5,0 548.5,0 548.5,-68\"/>\n<text text-anchor=\"middle\" x=\"486.5\" y=\"-52.8\" font-family=\"Times,serif\" font-size=\"14.00\" fill=\"#000000\">gini = 0.399</text>\n<text text-anchor=\"middle\" x=\"486.5\" y=\"-37.8\" font-family=\"Times,serif\" font-size=\"14.00\" fill=\"#000000\">samples = 40</text>\n<text text-anchor=\"middle\" x=\"486.5\" y=\"-22.8\" font-family=\"Times,serif\" font-size=\"14.00\" fill=\"#000000\">value = [0, 11, 29]</text>\n<text text-anchor=\"middle\" x=\"486.5\" y=\"-7.8\" font-family=\"Times,serif\" font-size=\"14.00\" fill=\"#000000\">class = virginica</text>\n</g>\n<!-- 4&#45;&gt;6 -->\n<g id=\"edge6\" class=\"edge\">\n<title>4&#45;&gt;6</title>\n<path fill=\"none\" stroke=\"#000000\" d=\"M406.1625,-103.9815C417.0297,-94.5151 428.5705,-84.462 439.4135,-75.0168\"/>\n<polygon fill=\"#000000\" stroke=\"#000000\" points=\"441.9245,-77.4712 447.1659,-68.2637 437.3266,-72.1929 441.9245,-77.4712\"/>\n</g>\n</g>\n</svg>\n"
          },
          "metadata": {
            "tags": []
          },
          "execution_count": 43
        }
      ]
    },
    {
      "cell_type": "code",
      "metadata": {
        "colab": {
          "base_uri": "https://localhost:8080/"
        },
        "id": "Z-ljlKr_ZdmL",
        "outputId": "43634809-0888-4562-9ed2-f1e070c9da82"
      },
      "source": [
        "clf.predict([[6., 7.]]), clf.predict_proba([[6., 7.]])"
      ],
      "execution_count": 44,
      "outputs": [
        {
          "output_type": "execute_result",
          "data": {
            "text/plain": [
              "(array([1]), array([[0.13888889, 0.66666667, 0.19444444]]))"
            ]
          },
          "metadata": {
            "tags": []
          },
          "execution_count": 44
        }
      ]
    },
    {
      "cell_type": "code",
      "metadata": {
        "colab": {
          "base_uri": "https://localhost:8080/"
        },
        "id": "5OtV7tqUZ44C",
        "outputId": "217c3f71-d7a3-4259-cf49-f6739aea6aa8"
      },
      "source": [
        "clf.score(X_test, y_test)"
      ],
      "execution_count": 45,
      "outputs": [
        {
          "output_type": "execute_result",
          "data": {
            "text/plain": [
              "0.7631578947368421"
            ]
          },
          "metadata": {
            "tags": []
          },
          "execution_count": 45
        }
      ]
    },
    {
      "cell_type": "markdown",
      "metadata": {
        "id": "pD_KtBwsZ7vq"
      },
      "source": [
        "### breast cancer data"
      ]
    },
    {
      "cell_type": "code",
      "metadata": {
        "id": "1E325C69bHdE"
      },
      "source": [
        "from sklearn.datasets import load_breast_cancer"
      ],
      "execution_count": 46,
      "outputs": []
    },
    {
      "cell_type": "code",
      "metadata": {
        "id": "h5vgskWIbO5v"
      },
      "source": [
        "cancer = load_breast_cancer()\r\n",
        "X, y = cancer.data, cancer.target"
      ],
      "execution_count": 48,
      "outputs": []
    },
    {
      "cell_type": "code",
      "metadata": {
        "colab": {
          "base_uri": "https://localhost:8080/"
        },
        "id": "VSk4uTF7bXhK",
        "outputId": "db35c047-807d-48b7-ee66-c3663def2065"
      },
      "source": [
        "np.random.seed(9)\r\n",
        "X_train, X_test, y_train, y_test = train_test_split(X, y)\r\n",
        "clf = DecisionTreeClassifier()\r\n",
        "clf.fit(X_train, y_train)\r\n",
        "clf.score(X_test, y_test)"
      ],
      "execution_count": 56,
      "outputs": [
        {
          "output_type": "execute_result",
          "data": {
            "text/plain": [
              "0.9370629370629371"
            ]
          },
          "metadata": {
            "tags": []
          },
          "execution_count": 56
        }
      ]
    },
    {
      "cell_type": "code",
      "metadata": {
        "colab": {
          "base_uri": "https://localhost:8080/"
        },
        "id": "p0qNbQTzcgO7",
        "outputId": "9dba9875-12ed-4c81-916f-470ac7c41045"
      },
      "source": [
        "list(zip(cancer.feature_names, clf.feature_importances_.round(3)))"
      ],
      "execution_count": 57,
      "outputs": [
        {
          "output_type": "execute_result",
          "data": {
            "text/plain": [
              "[('mean radius', 0.007),\n",
              " ('mean texture', 0.043),\n",
              " ('mean perimeter', 0.0),\n",
              " ('mean area', 0.0),\n",
              " ('mean smoothness', 0.0),\n",
              " ('mean compactness', 0.0),\n",
              " ('mean concavity', 0.0),\n",
              " ('mean concave points', 0.0),\n",
              " ('mean symmetry', 0.0),\n",
              " ('mean fractal dimension', 0.0),\n",
              " ('radius error', 0.0),\n",
              " ('texture error', 0.0),\n",
              " ('perimeter error', 0.0),\n",
              " ('area error', 0.003),\n",
              " ('smoothness error', 0.0),\n",
              " ('compactness error', 0.019),\n",
              " ('concavity error', 0.0),\n",
              " ('concave points error', 0.0),\n",
              " ('symmetry error', 0.009),\n",
              " ('fractal dimension error', 0.0),\n",
              " ('worst radius', 0.712),\n",
              " ('worst texture', 0.059),\n",
              " ('worst perimeter', 0.0),\n",
              " ('worst area', 0.0),\n",
              " ('worst smoothness', 0.0),\n",
              " ('worst compactness', 0.021),\n",
              " ('worst concavity', 0.011),\n",
              " ('worst concave points', 0.116),\n",
              " ('worst symmetry', 0.0),\n",
              " ('worst fractal dimension', 0.0)]"
            ]
          },
          "metadata": {
            "tags": []
          },
          "execution_count": 57
        }
      ]
    },
    {
      "cell_type": "code",
      "metadata": {
        "id": "6O04RwQfcxGn"
      },
      "source": [
        "import pandas as pd\r\n",
        "df = pd.DataFrame({\"feature\": cancer.feature_names, \r\n",
        "                  \"importance\": clf.feature_importances_})\r\n",
        "df"
      ],
      "execution_count": null,
      "outputs": []
    },
    {
      "cell_type": "code",
      "metadata": {
        "colab": {
          "base_uri": "https://localhost:8080/",
          "height": 198
        },
        "id": "bochkkP0d5R9",
        "outputId": "4eac22bc-42dc-4362-f3c4-9b3218e6802e"
      },
      "source": [
        "df = df.sort_values(by='importance', ascending=False)\r\n",
        "df.head(5)"
      ],
      "execution_count": 62,
      "outputs": [
        {
          "output_type": "execute_result",
          "data": {
            "text/html": [
              "<div>\n",
              "<style scoped>\n",
              "    .dataframe tbody tr th:only-of-type {\n",
              "        vertical-align: middle;\n",
              "    }\n",
              "\n",
              "    .dataframe tbody tr th {\n",
              "        vertical-align: top;\n",
              "    }\n",
              "\n",
              "    .dataframe thead th {\n",
              "        text-align: right;\n",
              "    }\n",
              "</style>\n",
              "<table border=\"1\" class=\"dataframe\">\n",
              "  <thead>\n",
              "    <tr style=\"text-align: right;\">\n",
              "      <th></th>\n",
              "      <th>feature</th>\n",
              "      <th>importance</th>\n",
              "    </tr>\n",
              "  </thead>\n",
              "  <tbody>\n",
              "    <tr>\n",
              "      <th>20</th>\n",
              "      <td>worst radius</td>\n",
              "      <td>0.711625</td>\n",
              "    </tr>\n",
              "    <tr>\n",
              "      <th>27</th>\n",
              "      <td>worst concave points</td>\n",
              "      <td>0.115708</td>\n",
              "    </tr>\n",
              "    <tr>\n",
              "      <th>21</th>\n",
              "      <td>worst texture</td>\n",
              "      <td>0.059071</td>\n",
              "    </tr>\n",
              "    <tr>\n",
              "      <th>1</th>\n",
              "      <td>mean texture</td>\n",
              "      <td>0.043044</td>\n",
              "    </tr>\n",
              "    <tr>\n",
              "      <th>25</th>\n",
              "      <td>worst compactness</td>\n",
              "      <td>0.021073</td>\n",
              "    </tr>\n",
              "  </tbody>\n",
              "</table>\n",
              "</div>"
            ],
            "text/plain": [
              "                 feature  importance\n",
              "20          worst radius    0.711625\n",
              "27  worst concave points    0.115708\n",
              "21         worst texture    0.059071\n",
              "1           mean texture    0.043044\n",
              "25     worst compactness    0.021073"
            ]
          },
          "metadata": {
            "tags": []
          },
          "execution_count": 62
        }
      ]
    },
    {
      "cell_type": "code",
      "metadata": {
        "colab": {
          "base_uri": "https://localhost:8080/",
          "height": 937
        },
        "id": "o_4aHEFseVK0",
        "outputId": "c2950651-9685-4c73-d0f8-a57599a63c49"
      },
      "source": [
        "x = df.feature\r\n",
        "y = df.importance\r\n",
        "plt.bar(x, y)\r\n",
        "plt.xticks(rotation=90)"
      ],
      "execution_count": 65,
      "outputs": [
        {
          "output_type": "execute_result",
          "data": {
            "text/plain": [
              "([0,\n",
              "  1,\n",
              "  2,\n",
              "  3,\n",
              "  4,\n",
              "  5,\n",
              "  6,\n",
              "  7,\n",
              "  8,\n",
              "  9,\n",
              "  10,\n",
              "  11,\n",
              "  12,\n",
              "  13,\n",
              "  14,\n",
              "  15,\n",
              "  16,\n",
              "  17,\n",
              "  18,\n",
              "  19,\n",
              "  20,\n",
              "  21,\n",
              "  22,\n",
              "  23,\n",
              "  24,\n",
              "  25,\n",
              "  26,\n",
              "  27,\n",
              "  28,\n",
              "  29],\n",
              " <a list of 30 Text major ticklabel objects>)"
            ]
          },
          "metadata": {
            "tags": []
          },
          "execution_count": 65
        },
        {
          "output_type": "display_data",
          "data": {
            "image/png": "[encoded data removed]",
            "text/plain": [
              "<Figure size 432x288 with 1 Axes>"
            ]
          },
          "metadata": {
            "tags": [],
            "needs_background": "light"
          }
        }
      ]
    },
    {
      "cell_type": "code",
      "metadata": {
        "id": "XM0XRBJ_enIi"
      },
      "source": [
        "from sklearn.ensemble import RandomForestClassifier"
      ],
      "execution_count": 66,
      "outputs": []
    },
    {
      "cell_type": "code",
      "metadata": {
        "colab": {
          "base_uri": "https://localhost:8080/"
        },
        "id": "IlFDfqbain2C",
        "outputId": "657abca7-b79a-470f-845c-48263f59aee5"
      },
      "source": [
        "rfc = RandomForestClassifier(n_estimators = 1000)\r\n",
        "rfc.fit(X_train, y_train)\r\n",
        "rfc.score(X_test, y_test)\r\n"
      ],
      "execution_count": 70,
      "outputs": [
        {
          "output_type": "execute_result",
          "data": {
            "text/plain": [
              "0.972027972027972"
            ]
          },
          "metadata": {
            "tags": []
          },
          "execution_count": 70
        }
      ]
    },
    {
      "cell_type": "code",
      "metadata": {
        "colab": {
          "base_uri": "https://localhost:8080/",
          "height": 937
        },
        "id": "craanHSYjICV",
        "outputId": "57c5d65b-c22c-403f-a740-4f758e4b83d7"
      },
      "source": [
        "df = pd.DataFrame({\"feature\": cancer.feature_names, \r\n",
        "                  \"importance\": rfc.feature_importances_})\r\n",
        "df = df.sort_values(by='importance', ascending=False)\r\n",
        "x = df.feature\r\n",
        "y = df.importance\r\n",
        "plt.bar(x, y)\r\n",
        "plt.xticks(rotation=90)"
      ],
      "execution_count": 71,
      "outputs": [
        {
          "output_type": "execute_result",
          "data": {
            "text/plain": [
              "([0,\n",
              "  1,\n",
              "  2,\n",
              "  3,\n",
              "  4,\n",
              "  5,\n",
              "  6,\n",
              "  7,\n",
              "  8,\n",
              "  9,\n",
              "  10,\n",
              "  11,\n",
              "  12,\n",
              "  13,\n",
              "  14,\n",
              "  15,\n",
              "  16,\n",
              "  17,\n",
              "  18,\n",
              "  19,\n",
              "  20,\n",
              "  21,\n",
              "  22,\n",
              "  23,\n",
              "  24,\n",
              "  25,\n",
              "  26,\n",
              "  27,\n",
              "  28,\n",
              "  29],\n",
              " <a list of 30 Text major ticklabel objects>)"
            ]
          },
          "metadata": {
            "tags": []
          },
          "execution_count": 71
        },
        {
          "output_type": "display_data",
          "data": {
            "image/png": "[encoded data removed]",
            "text/plain": [
              "<Figure size 432x288 with 1 Axes>"
            ]
          },
          "metadata": {
            "tags": [],
            "needs_background": "light"
          }
        }
      ]
    },
    {
      "cell_type": "code",
      "metadata": {
        "colab": {
          "base_uri": "https://localhost:8080/",
          "height": 955
        },
        "id": "_mbLE0SYkVuu",
        "outputId": "5242c716-aa6e-448e-e4a1-fe31a3e4855e"
      },
      "source": [
        "from sklearn.ensemble import GradientBoostingClassifier\r\n",
        "\r\n",
        "gbc = GradientBoostingClassifier(n_estimators = 500)\r\n",
        "gbc.fit(X_train, y_train)\r\n",
        "print(gbc.score(X_test, y_test))\r\n",
        "\r\n",
        "df = pd.DataFrame({\"feature\": cancer.feature_names, \r\n",
        "                  \"importance\": gbc.feature_importances_})\r\n",
        "df = df.sort_values(by='importance', ascending=False)\r\n",
        "x = df.feature\r\n",
        "y = df.importance\r\n",
        "plt.bar(x, y)\r\n",
        "plt.xticks(rotation=90)"
      ],
      "execution_count": 73,
      "outputs": [
        {
          "output_type": "stream",
          "text": [
            "0.965034965034965\n"
          ],
          "name": "stdout"
        },
        {
          "output_type": "execute_result",
          "data": {
            "text/plain": [
              "([0,\n",
              "  1,\n",
              "  2,\n",
              "  3,\n",
              "  4,\n",
              "  5,\n",
              "  6,\n",
              "  7,\n",
              "  8,\n",
              "  9,\n",
              "  10,\n",
              "  11,\n",
              "  12,\n",
              "  13,\n",
              "  14,\n",
              "  15,\n",
              "  16,\n",
              "  17,\n",
              "  18,\n",
              "  19,\n",
              "  20,\n",
              "  21,\n",
              "  22,\n",
              "  23,\n",
              "  24,\n",
              "  25,\n",
              "  26,\n",
              "  27,\n",
              "  28,\n",
              "  29],\n",
              " <a list of 30 Text major ticklabel objects>)"
            ]
          },
          "metadata": {
            "tags": []
          },
          "execution_count": 73
        },
        {
          "output_type": "display_data",
          "data": {
            "image/png": "[encoded data removed]",
            "text/plain": [
              "<Figure size 432x288 with 1 Axes>"
            ]
          },
          "metadata": {
            "tags": [],
            "needs_background": "light"
          }
        }
      ]
    },
    {
      "cell_type": "markdown",
      "metadata": {
        "id": "trXBb1QFmc4O"
      },
      "source": [
        ""
      ]
    }
  ]
}