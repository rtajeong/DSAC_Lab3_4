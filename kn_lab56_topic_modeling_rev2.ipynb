{
  "nbformat": 4,
  "nbformat_minor": 0,
  "metadata": {
    "accelerator": "GPU",
    "colab": {
      "name": "lab56_topic_modeling_rev2.ipynb",
      "provenance": [],
      "collapsed_sections": [],
      "include_colab_link": true
    },
    "kernelspec": {
      "display_name": "Python 3",
      "language": "python",
      "name": "python3"
    },
    "language_info": {
      "codemirror_mode": {
        "name": "ipython",
        "version": 3
      },
      "file_extension": ".py",
      "mimetype": "text/x-python",
      "name": "python",
      "nbconvert_exporter": "python",
      "pygments_lexer": "ipython3",
      "version": "3.6.8"
    }
  },
  "cells": [
    {
      "cell_type": "markdown",
      "metadata": {
        "id": "view-in-github",
        "colab_type": "text"
      },
      "source": [
        "<a href=\"https://colab.research.google.com/github/rtajeong/DSAC_Lab3_4/blob/master/kn_lab56_topic_modeling_rev2.ipynb\" target=\"_parent\"><img src=\"https://colab.research.google.com/assets/colab-badge.svg\" alt=\"Open In Colab\"/></a>"
      ]
    },
    {
      "cell_type": "markdown",
      "metadata": {
        "id": "3BsFbov-mYgH"
      },
      "source": [
        "# 토픽모델링 (LDA)\n",
        "- 주어진 문서의 주제(카테고리)를 구분 - 비지도 학습\n",
        "- 빅카인즈 뉴스기사 데이터 활용(https://www.bigkinds.or.kr/)\n",
        "- LDA(Latent Dirichlet Allocation) 사용하여 관련된 단어나 문서의 집합을 찾는다. 관련성이 높은 단어들이 발생하면 같은 토픽으로 분류.\n",
        "- 각 문서들의 토픽들이 디리클레 분포를 따른다고 가정.\n",
        "- 문서마다 토픽이 어떻게 분포되어 있는지, 그리고 토픽마다 단어의 분포가 어떻게 되어 있는지 파악, 토픽에 따라 단어의 분포를 결정하고 그 중 가장 확률이 높은 단어를 선택.\n",
        "- LDA:\n",
        "  - 말뭉치로부터 대표적인 토픽 선정\n",
        "  - 해당 토픽으로부터 단어들을 뽑아 문서를 생성\n"
      ]
    },
    {
      "cell_type": "code",
      "metadata": {
        "colab": {
          "base_uri": "https://localhost:8080/"
        },
        "id": "jwLxNFThoTc9",
        "outputId": "2dd5267f-420f-4c16-c850-26b74f151189"
      },
      "source": [
        "!pip install konlpy"
      ],
      "execution_count": null,
      "outputs": [
        {
          "output_type": "stream",
          "text": [
            "Requirement already satisfied: konlpy in /usr/local/lib/python3.6/dist-packages (0.5.2)\n",
            "Requirement already satisfied: colorama in /usr/local/lib/python3.6/dist-packages (from konlpy) (0.4.4)\n",
            "Requirement already satisfied: tweepy>=3.7.0 in /usr/local/lib/python3.6/dist-packages (from konlpy) (3.10.0)\n",
            "Requirement already satisfied: JPype1>=0.7.0 in /usr/local/lib/python3.6/dist-packages (from konlpy) (1.2.1)\n",
            "Requirement already satisfied: lxml>=4.1.0 in /usr/local/lib/python3.6/dist-packages (from konlpy) (4.2.6)\n",
            "Requirement already satisfied: beautifulsoup4==4.6.0 in /usr/local/lib/python3.6/dist-packages (from konlpy) (4.6.0)\n",
            "Requirement already satisfied: numpy>=1.6 in /usr/local/lib/python3.6/dist-packages (from konlpy) (1.19.4)\n",
            "Requirement already satisfied: six>=1.10.0 in /usr/local/lib/python3.6/dist-packages (from tweepy>=3.7.0->konlpy) (1.15.0)\n",
            "Requirement already satisfied: requests-oauthlib>=0.7.0 in /usr/local/lib/python3.6/dist-packages (from tweepy>=3.7.0->konlpy) (1.3.0)\n",
            "Requirement already satisfied: requests[socks]>=2.11.1 in /usr/local/lib/python3.6/dist-packages (from tweepy>=3.7.0->konlpy) (2.23.0)\n",
            "Requirement already satisfied: typing-extensions; python_version < \"3.8\" in /usr/local/lib/python3.6/dist-packages (from JPype1>=0.7.0->konlpy) (3.7.4.3)\n",
            "Requirement already satisfied: oauthlib>=3.0.0 in /usr/local/lib/python3.6/dist-packages (from requests-oauthlib>=0.7.0->tweepy>=3.7.0->konlpy) (3.1.0)\n",
            "Requirement already satisfied: chardet<4,>=3.0.2 in /usr/local/lib/python3.6/dist-packages (from requests[socks]>=2.11.1->tweepy>=3.7.0->konlpy) (3.0.4)\n",
            "Requirement already satisfied: urllib3!=1.25.0,!=1.25.1,<1.26,>=1.21.1 in /usr/local/lib/python3.6/dist-packages (from requests[socks]>=2.11.1->tweepy>=3.7.0->konlpy) (1.24.3)\n",
            "Requirement already satisfied: certifi>=2017.4.17 in /usr/local/lib/python3.6/dist-packages (from requests[socks]>=2.11.1->tweepy>=3.7.0->konlpy) (2020.12.5)\n",
            "Requirement already satisfied: idna<3,>=2.5 in /usr/local/lib/python3.6/dist-packages (from requests[socks]>=2.11.1->tweepy>=3.7.0->konlpy) (2.10)\n",
            "Requirement already satisfied: PySocks!=1.5.7,>=1.5.6; extra == \"socks\" in /usr/local/lib/python3.6/dist-packages (from requests[socks]>=2.11.1->tweepy>=3.7.0->konlpy) (1.7.1)\n"
          ],
          "name": "stdout"
        }
      ]
    },
    {
      "cell_type": "code",
      "metadata": {
        "id": "RAKKV201mYgJ"
      },
      "source": [
        "import konlpy\n",
        "import numpy as np\n",
        "import pandas as pd\n",
        "import sklearn\n",
        "from sklearn.feature_extraction.text import CountVectorizer\n",
        "from sklearn.decomposition import LatentDirichletAllocation\n",
        "from konlpy.tag import Twitter"
      ],
      "execution_count": null,
      "outputs": []
    },
    {
      "cell_type": "code",
      "metadata": {
        "colab": {
          "base_uri": "https://localhost:8080/"
        },
        "id": "ohsJ-x4nnakl",
        "scrolled": true,
        "outputId": "a2b727cc-6a60-4f8c-a7be-38f6551cd5b2"
      },
      "source": [
        "!wget https://bit.ly/2QA9xhg -O news_1500.xlsx"
      ],
      "execution_count": null,
      "outputs": [
        {
          "output_type": "stream",
          "text": [
            "--2021-01-06 14:28:09--  https://bit.ly/2QA9xhg\n",
            "Resolving bit.ly (bit.ly)... 67.199.248.11, 67.199.248.10\n",
            "Connecting to bit.ly (bit.ly)|67.199.248.11|:443... connected.\n",
            "HTTP request sent, awaiting response... 301 Moved Permanently\n",
            "Location: https://www.dropbox.com/s/yj1gxuy0hkjwjpu/news_1500.xlsx [following]\n",
            "--2021-01-06 14:28:10--  https://www.dropbox.com/s/yj1gxuy0hkjwjpu/news_1500.xlsx\n",
            "Resolving www.dropbox.com (www.dropbox.com)... 162.125.82.18, 2620:100:6032:18::a27d:5212\n",
            "Connecting to www.dropbox.com (www.dropbox.com)|162.125.82.18|:443... connected.\n",
            "HTTP request sent, awaiting response... 301 Moved Permanently\n",
            "Location: /s/raw/yj1gxuy0hkjwjpu/news_1500.xlsx [following]\n",
            "--2021-01-06 14:28:11--  https://www.dropbox.com/s/raw/yj1gxuy0hkjwjpu/news_1500.xlsx\n",
            "Reusing existing connection to www.dropbox.com:443.\n",
            "HTTP request sent, awaiting response... 302 Found\n",
            "Location: https://uc53f758c67d82f1f0a3b7e570f2.dl.dropboxusercontent.com/cd/0/inline/BGc1KoEEYB7VmWXtjEa2-_4oIc0LgB-sShf5bXSb9AbmJwumjKqjoVZsg-UhLRVWbgifcv_dCb8_cl8DjeZ-3vrgJjsRQ9v8HUMKCgp07whJ9g/file# [following]\n",
            "--2021-01-06 14:28:11--  https://uc53f758c67d82f1f0a3b7e570f2.dl.dropboxusercontent.com/cd/0/inline/BGc1KoEEYB7VmWXtjEa2-_4oIc0LgB-sShf5bXSb9AbmJwumjKqjoVZsg-UhLRVWbgifcv_dCb8_cl8DjeZ-3vrgJjsRQ9v8HUMKCgp07whJ9g/file\n",
            "Resolving uc53f758c67d82f1f0a3b7e570f2.dl.dropboxusercontent.com (uc53f758c67d82f1f0a3b7e570f2.dl.dropboxusercontent.com)... 162.125.82.15, 2620:100:6032:15::a27d:520f\n",
            "Connecting to uc53f758c67d82f1f0a3b7e570f2.dl.dropboxusercontent.com (uc53f758c67d82f1f0a3b7e570f2.dl.dropboxusercontent.com)|162.125.82.15|:443... connected.\n",
            "HTTP request sent, awaiting response... 302 Found\n",
            "Location: /cd/0/inline2/BGch5WLSZ526HYqZNOW2Q_5IEzDVQByK8CgRF4h34C0Ho7QySzmjD3bOrmUATLC80_v2L5u-ZqfrbV8u-ZFMvAn8SF4MBzI06GTsel31UCFVm2E-Z1WNfeMsleFeOCPadTUuTaOIUFTodvcEg06KYsbcIkTiDgyzXuMnLzD3dQpc47vsJzU8jxJKRh94nCWDtGwdo1GNcORJJ8ZewK2d0SL1_E8K5Z2PsnLfozK5PSt_hku_A3sl2pO-RO4R4kLLWQD0m2Z5nbEBcd8g1dMBok1VBiakQKIxeNAObqM1zIZcN8x13FZYtfcxs865ziZlcUKryS0eWsh5bi1AzxER2MN7/file [following]\n",
            "--2021-01-06 14:28:12--  https://uc53f758c67d82f1f0a3b7e570f2.dl.dropboxusercontent.com/cd/0/inline2/BGch5WLSZ526HYqZNOW2Q_5IEzDVQByK8CgRF4h34C0Ho7QySzmjD3bOrmUATLC80_v2L5u-ZqfrbV8u-ZFMvAn8SF4MBzI06GTsel31UCFVm2E-Z1WNfeMsleFeOCPadTUuTaOIUFTodvcEg06KYsbcIkTiDgyzXuMnLzD3dQpc47vsJzU8jxJKRh94nCWDtGwdo1GNcORJJ8ZewK2d0SL1_E8K5Z2PsnLfozK5PSt_hku_A3sl2pO-RO4R4kLLWQD0m2Z5nbEBcd8g1dMBok1VBiakQKIxeNAObqM1zIZcN8x13FZYtfcxs865ziZlcUKryS0eWsh5bi1AzxER2MN7/file\n",
            "Reusing existing connection to uc53f758c67d82f1f0a3b7e570f2.dl.dropboxusercontent.com:443.\n",
            "HTTP request sent, awaiting response... 200 OK\n",
            "Length: 316462 (309K) [application/vnd.openxmlformats-officedocument.spreadsheetml.sheet]\n",
            "Saving to: ‘news_1500.xlsx’\n",
            "\n",
            "news_1500.xlsx      100%[===================>] 309.04K  --.-KB/s    in 0.05s   \n",
            "\n",
            "2021-01-06 14:28:12 (5.62 MB/s) - ‘news_1500.xlsx’ saved [316462/316462]\n",
            "\n"
          ],
          "name": "stdout"
        }
      ]
    },
    {
      "cell_type": "code",
      "metadata": {
        "id": "NWAqESDNmYgM"
      },
      "source": [
        "df_train = pd.read_excel('news_1500.xlsx', names=['기사'], \n",
        "                         keep_default_na=False) # no strings parsed as NaN values \n",
        "#Countvectorizer적용을 위해 list로 변환\n",
        "list_train = df_train['기사'].tolist()"
      ],
      "execution_count": null,
      "outputs": []
    },
    {
      "cell_type": "code",
      "metadata": {
        "colab": {
          "base_uri": "https://localhost:8080/",
          "height": 141
        },
        "id": "Zmxak2j1_CwW",
        "outputId": "7345ab79-7d0d-459f-e6ce-d51e9560b633"
      },
      "source": [
        "df_train.head(3)"
      ],
      "execution_count": null,
      "outputs": [
        {
          "output_type": "execute_result",
          "data": {
            "text/html": [
              "<div>\n",
              "<style scoped>\n",
              "    .dataframe tbody tr th:only-of-type {\n",
              "        vertical-align: middle;\n",
              "    }\n",
              "\n",
              "    .dataframe tbody tr th {\n",
              "        vertical-align: top;\n",
              "    }\n",
              "\n",
              "    .dataframe thead th {\n",
              "        text-align: right;\n",
              "    }\n",
              "</style>\n",
              "<table border=\"1\" class=\"dataframe\">\n",
              "  <thead>\n",
              "    <tr style=\"text-align: right;\">\n",
              "      <th></th>\n",
              "      <th>기사</th>\n",
              "    </tr>\n",
              "  </thead>\n",
              "  <tbody>\n",
              "    <tr>\n",
              "      <th>0</th>\n",
              "      <td>호주 브리즈번에서 발생한 한국인 워킹홀리데이 참가자 살해범이 같은 한국인 것으로 드...</td>\n",
              "    </tr>\n",
              "    <tr>\n",
              "      <th>1</th>\n",
              "      <td>호주 경찰이 한국인 워킹홀리데이 참가자를 살해한 혐의로 또 다른 한국인 남성을 기소...</td>\n",
              "    </tr>\n",
              "    <tr>\n",
              "      <th>2</th>\n",
              "      <td>\\n \\n호주 괴물 가재가 공개돼 네티즌들의 폭발적인 관심을 끌고 있다. \\n ...</td>\n",
              "    </tr>\n",
              "  </tbody>\n",
              "</table>\n",
              "</div>"
            ],
            "text/plain": [
              "                                                  기사\n",
              "0  호주 브리즈번에서 발생한 한국인 워킹홀리데이 참가자 살해범이 같은 한국인 것으로 드...\n",
              "1  호주 경찰이 한국인 워킹홀리데이 참가자를 살해한 혐의로 또 다른 한국인 남성을 기소...\n",
              "2    \\n \\n호주 괴물 가재가 공개돼 네티즌들의 폭발적인 관심을 끌고 있다. \\n ..."
            ]
          },
          "metadata": {
            "tags": []
          },
          "execution_count": 93
        }
      ]
    },
    {
      "cell_type": "code",
      "metadata": {
        "colab": {
          "base_uri": "https://localhost:8080/"
        },
        "id": "F-9QTOBPn0wS",
        "outputId": "663ac339-5447-41fb-8e6b-a5658bece50e"
      },
      "source": [
        "list_train[:5], len(list_train)"
      ],
      "execution_count": null,
      "outputs": [
        {
          "output_type": "execute_result",
          "data": {
            "text/plain": [
              "(['호주 브리즈번에서 발생한 한국인 워킹홀리데이 참가자 살해범이 같은 한국인 것으로 드라나 충격을 주고 있다. \\n \\n20일 호주 국영 ABC방송은 퀸즐랜드주 경찰이 김모(28)씨를 살해하고 암매장한 혐의로\\xa0한국인 홍모(28)씨를\\xa0체포했다고 보도했다. \\n \\n경찰에 따르면 홍씨는\\xa0지난 16일 오후 브리즈번 캐넌힐에서 1만 5000 호주달러를 원화로 환전해줄 사..',\n",
              "  '호주 경찰이 한국인 워킹홀리데이 참가자를 살해한 혐의로 또 다른 한국인 남성을 기소했다고 호주 언론이 보도했다. \\n \\n퀸즐랜드주 경찰은 20일(현지시간) 금품을 빼앗기 위해 김민태(28)씨를 살해한 혐의로 황모(28)씨를 기소했다고 시드니모닝헤럴드가 보도했다. \\n \\n그는 이날 브리즈번 법원에서 열린 심리에 출석해 기자들로부터 고개를 돌린 채 아래쪽만 쳐..',\n",
              "  '\\xa0 \\n \\n호주 괴물 가재가 공개돼 네티즌들의 폭발적인 관심을 끌고 있다. \\n \\n최근 각종 온라인 커뮤니티 게시판에는 ‘호주 괴물 가재’라는 제목의 사진 한 장이 게재됐다. \\n \\n공개된 사진에는 웬만한 성인 남성 팔 크기와 비슷한 가재의 모습이 담겨 있다. 사진 속 남성도 가재가 무거운지 엉거주춤한 자세를 취하고 있다. 호주에서 잡힌 것으로 알려진 가재의..',\n",
              "  '최근 인기를 끌고 있는 tvN의 드라마 ‘응답하라 1994’가 같은 장면을 내보내고 다른 프로그램의 화면이 나오는 등 방송사고를 냈다. \\n▶ 방송사고 이후 사과 자막이 나오는 tvN ‘응답하라 1994’의 한 장면.20일 밤 10시쯤 드라마 ‘응답하라 1994’가 방송되는 도중에 방송사고가 발생했다. 이날 방송에서 성나정이 호주로 떠났다가 한국으로 돌아..',\n",
              "  '호주 워킹홀리데이 한국인 참가자가 19일 또다시 숨진 채 발견됐다. 지난달 호주에서 한국인 여대생이 무참히 살해된 지 한 달도 지나지 않아 발생한 이번 사건으로 호주 교민사회 및 어학연수 희망자들의 불안감이 커지고 있다. \\n \\n호주 ABC방송 등에 따르면 퀸즐랜드주 경찰은 이날 브리즈번 남서부 앨지스터 한 주택 뒷마당에서 발견된 변사체가 사흘 전 행방불..'],\n",
              " 1499)"
            ]
          },
          "metadata": {
            "tags": []
          },
          "execution_count": 94
        }
      ]
    },
    {
      "cell_type": "code",
      "metadata": {
        "colab": {
          "base_uri": "https://localhost:8080/"
        },
        "id": "fiT5TWoImYgQ",
        "outputId": "598b3b5b-7fc1-4f49-f603-4f83ffae4273"
      },
      "source": [
        "twitter = Twitter()\n",
        "results = []\n",
        "for line in list_train:\n",
        "    word_list = twitter.pos(line, norm=True, stem=True)\n",
        "    words = []\n",
        "    for word in word_list:\n",
        "        if not word[1] in [\"Josa\", \"eomi\", \"Punctuation\", \"Verb\"]:\n",
        "            words.append(word[0])\n",
        "    words = (\" \".join(words)).strip()\n",
        "    results.append(words)"
      ],
      "execution_count": null,
      "outputs": [
        {
          "output_type": "stream",
          "text": [
            "/usr/local/lib/python3.6/dist-packages/konlpy/tag/_okt.py:16: UserWarning: \"Twitter\" has changed to \"Okt\" since KoNLPy v0.4.5.\n",
            "  warn('\"Twitter\" has changed to \"Okt\" since KoNLPy v0.4.5.')\n"
          ],
          "name": "stderr"
        }
      ]
    },
    {
      "cell_type": "code",
      "metadata": {
        "colab": {
          "base_uri": "https://localhost:8080/",
          "height": 69
        },
        "id": "jNjcdbhL_gYx",
        "outputId": "a7d9250e-3d31-42a1-8cda-0189fcfc5c23"
      },
      "source": [
        "results[0]"
      ],
      "execution_count": null,
      "outputs": [
        {
          "output_type": "execute_result",
          "data": {
            "application/vnd.google.colaboratory.intrinsic+json": {
              "type": "string"
            },
            "text/plain": [
              "'호주 브리즈번 발생 한국인 워킹홀리데이 참가자 살해 범 같다 한국인 것 드라 충격 있다 20일 호주 국영 ABC 방송 퀸즐랜드 주 경찰 김모 28 씨 살해 암매장 혐의 \\xa0 한국인 홍모 28 씨 \\xa0 체포 보도 경찰 홍씨 \\xa0 지난 16일 오후 브리즈번 캐넌 힐 1만 5000 호주달러 원화로 환전 사'"
            ]
          },
          "metadata": {
            "tags": []
          },
          "execution_count": 96
        }
      ]
    },
    {
      "cell_type": "markdown",
      "metadata": {
        "id": "jb4mUX-JAoEH"
      },
      "source": [
        "## LatentDirichletAllocation\r\n",
        "- https://wikidocs.net/30708\r\n",
        "- "
      ]
    },
    {
      "cell_type": "code",
      "metadata": {
        "id": "fOJsf8t2mYgT"
      },
      "source": [
        "# max_df = 0.50 means \"ignore terms that appear in more than 50% of the documents\".\n",
        "# max_df = 25 means \"ignore terms that appear in more than 25 documents\".\n",
        "\n",
        "vect = CountVectorizer(max_features=10000, max_df=.10)\n",
        "X = vect.fit_transform(results)\n",
        "\n",
        "lda = LatentDirichletAllocation(n_components=10, learning_method=\"batch\",\n",
        "                                max_iter=25, random_state=0)\n",
        "\n",
        "document_topics = lda.fit_transform(X)"
      ],
      "execution_count": null,
      "outputs": []
    },
    {
      "cell_type": "code",
      "metadata": {
        "colab": {
          "base_uri": "https://localhost:8080/"
        },
        "id": "5br48AQgSL7d",
        "outputId": "3d3dc212-0c88-4a86-c8dd-17b92b4aa35f"
      },
      "source": [
        "document_topics.shape"
      ],
      "execution_count": null,
      "outputs": [
        {
          "output_type": "execute_result",
          "data": {
            "text/plain": [
              "(1499, 10)"
            ]
          },
          "metadata": {
            "tags": []
          },
          "execution_count": 99
        }
      ]
    },
    {
      "cell_type": "code",
      "metadata": {
        "colab": {
          "base_uri": "https://localhost:8080/"
        },
        "id": "ok1qMP4NSTcy",
        "outputId": "408a80a8-a4ab-48ea-bdb1-35f3f12aa997"
      },
      "source": [
        "document_topics[0]"
      ],
      "execution_count": null,
      "outputs": [
        {
          "output_type": "execute_result",
          "data": {
            "text/plain": [
              "array([0.0028581 , 0.00285819, 0.00285742, 0.3137773 , 0.00285793,\n",
              "       0.66336031, 0.00285772, 0.00285763, 0.00285744, 0.00285798])"
            ]
          },
          "metadata": {
            "tags": []
          },
          "execution_count": 100
        }
      ]
    },
    {
      "cell_type": "markdown",
      "metadata": {
        "id": "1yCBOQqP2HOJ"
      },
      "source": [
        "- components_[i, j] can be viewed as pseudocount that represents the number of times (word j was assigned to topic i). \n",
        "-  It can also be viewed as distribution over the words for each topic after normalization:"
      ]
    },
    {
      "cell_type": "code",
      "metadata": {
        "colab": {
          "base_uri": "https://localhost:8080/"
        },
        "id": "6y4q5t_S6PoQ",
        "outputId": "b2dd52d6-794f-41b3-f6e0-3789988c9210"
      },
      "source": [
        "lda.components_.shape"
      ],
      "execution_count": null,
      "outputs": [
        {
          "output_type": "execute_result",
          "data": {
            "text/plain": [
              "(10, 10000)"
            ]
          },
          "metadata": {
            "tags": []
          },
          "execution_count": 102
        }
      ]
    },
    {
      "cell_type": "code",
      "metadata": {
        "colab": {
          "base_uri": "https://localhost:8080/"
        },
        "id": "9CDlvyGlmYgV",
        "outputId": "d6f884a5-b03e-4779-a4e4-c425caf4f8f0"
      },
      "source": [
        "lda.components_[0]"
      ],
      "execution_count": null,
      "outputs": [
        {
          "output_type": "execute_result",
          "data": {
            "text/plain": [
              "array([0.1       , 0.1       , 1.10000029, ..., 0.1       , 0.1       ,\n",
              "       0.1       ])"
            ]
          },
          "metadata": {
            "tags": []
          },
          "execution_count": 104
        }
      ]
    },
    {
      "cell_type": "code",
      "metadata": {
        "colab": {
          "base_uri": "https://localhost:8080/"
        },
        "id": "W7dVkl142HOK",
        "outputId": "bb454a49-127e-46ad-82dd-bd15512552e5"
      },
      "source": [
        "lda.components_.argsort(axis=1)[:,::-1]"
      ],
      "execution_count": null,
      "outputs": [
        {
          "output_type": "execute_result",
          "data": {
            "text/plain": [
              "array([[4166, 6205, 5187, ..., 6066, 5206, 8109],\n",
              "       [4339, 9353, 7862, ..., 5982, 5206, 8109],\n",
              "       [2554, 4573, 4202, ..., 5982, 6066, 8109],\n",
              "       ...,\n",
              "       [2499, 2554, 4655, ..., 6066, 5206, 8109],\n",
              "       [3471, 3823, 2499, ..., 6066, 5206, 8109],\n",
              "       [5945, 8843, 6884, ..., 5982, 6066, 5206]])"
            ]
          },
          "metadata": {
            "tags": []
          },
          "execution_count": 105
        }
      ]
    },
    {
      "cell_type": "code",
      "metadata": {
        "id": "Xwof2b3HmYgZ"
      },
      "source": [
        "# 토픽마다(components_의 행) 특성을 오름차순으로 정렬합니다\n",
        "# 내림차순이 되도록 [:, ::-1] 사용해 행의 정렬을 반대로 바꿉니다\n",
        "sorting = np.argsort(lda.components_, axis=1)[:, ::-1]\n",
        "\n",
        "# CountVectorizer 객체에서 특성 이름을 구합니다.\n",
        "feature_names = np.array(vect.get_feature_names())"
      ],
      "execution_count": null,
      "outputs": []
    },
    {
      "cell_type": "code",
      "metadata": {
        "id": "7xsfPFxL2HOL",
        "colab": {
          "base_uri": "https://localhost:8080/"
        },
        "outputId": "b5801cd2-0489-499a-9813-9aef46e4a078"
      },
      "source": [
        "lda.components_[0][0]"
      ],
      "execution_count": null,
      "outputs": [
        {
          "output_type": "execute_result",
          "data": {
            "text/plain": [
              "0.10000000009604379"
            ]
          },
          "metadata": {
            "tags": []
          },
          "execution_count": 107
        }
      ]
    },
    {
      "cell_type": "code",
      "metadata": {
        "id": "773qn2AR2HOM",
        "colab": {
          "base_uri": "https://localhost:8080/"
        },
        "outputId": "39c710a5-4ca9-4c25-acb9-eeb6a3ca4bbb"
      },
      "source": [
        "lda.components_.shape"
      ],
      "execution_count": null,
      "outputs": [
        {
          "output_type": "execute_result",
          "data": {
            "text/plain": [
              "(10, 10000)"
            ]
          },
          "metadata": {
            "tags": []
          },
          "execution_count": 108
        }
      ]
    },
    {
      "cell_type": "code",
      "metadata": {
        "scrolled": true,
        "id": "ElzlUCPT2HON",
        "colab": {
          "base_uri": "https://localhost:8080/"
        },
        "outputId": "3a5804e8-a22f-406c-ea22-00f798b5754e"
      },
      "source": [
        "N = 10 # number of words to print for each topic\n",
        "for i in range(0, lda.components_.shape[0]):\n",
        "    print (\"topic {}:\".format(i))\n",
        "    topic_idx = lda.components_.argsort(axis=1)[:,::-1][i]\n",
        "    topic_words = [topic_idx[j] for j in range(0,N)]\n",
        "    print (feature_names[topic_words])"
      ],
      "execution_count": null,
      "outputs": [
        {
          "output_type": "stream",
          "text": [
            "topic 0:\n",
            "['박태환' '올림픽' '수영' '출전' '리우' '국가대표' '27' '정부' '선수' '대학']\n",
            "topic 1:\n",
            "['보도' '필리핀' '지역' '통해' '결과' '정부' '같다' '발견' '조사' '방송']\n",
            "topic 2:\n",
            "['국제' '사드' '발표' '개최' '내년' '독도' '평화' '위성' '소녀' '기업']\n",
            "topic 3:\n",
            "['리그' '포켓몬' '축구' 'acl' '감독' '게임' '시즌' '해밍턴' '지난해' '전북']\n",
            "topic 4:\n",
            "['올림픽' '경기' '대표팀' '예선' '대회' '시드니' '오후' '2016' '출전' '리우']\n",
            "topic 5:\n",
            "['축구' '브라질' '월드컵' '선수' 'fifa' '본선' '대표팀' '연맹' '2014' '국제']\n",
            "topic 6:\n",
            "['골프' '투어' '프로' '대회' '여자' '랭킹' 'lpga' '상금' '라운드' 'pga']\n",
            "topic 7:\n",
            "['국가' '국제' '삼성' '대만' '2013' '해외' '시리즈' '대통령' '정보' '보도']\n",
            "topic 8:\n",
            "['대통령' '마약' '국가' '개국' '없다' '20' '개발' '전자' '유엔' '우리나라']\n",
            "topic 9:\n",
            "['여성' '통화' '일리' '시드니' '수출' '메일' '해외' '밉다' '정부' '소녀']\n"
          ],
          "name": "stdout"
        }
      ]
    },
    {
      "cell_type": "code",
      "metadata": {
        "id": "XOiDo2XumYgc",
        "scrolled": true
      },
      "source": [
        "### text 에 있는 포맷 ###\n",
        "# 10개의 토픽을 출력합니다\n",
        "%matplotlib inline\n",
        "import matplotlib.pyplot as plt\n",
        "\n",
        "def print_topics(topics, feature_names, sorting, topics_per_chunk=6, n_words=20):\n",
        "    for i in range(0, len(topics), topics_per_chunk):\n",
        "        # for each chunk:\n",
        "        these_topics = topics[i: i + topics_per_chunk]\n",
        "        # maybe we have less than topics_per_chunk left\n",
        "        len_this_chunk = len(these_topics)\n",
        "        # print topic headers\n",
        "        print((\"topic {:<8}\" * len_this_chunk).format(*these_topics))\n",
        "        print((\"-------- {0:<5}\" * len_this_chunk).format(\"\"))\n",
        "        # print top n_words frequent words\n",
        "        for i in range(n_words):\n",
        "            try:\n",
        "                print((\"{:<14}\" * len_this_chunk).format(\n",
        "                    *feature_names[sorting[these_topics, i]]))\n",
        "            except:\n",
        "                pass\n",
        "        print(\"\\n\")\n"
      ],
      "execution_count": null,
      "outputs": []
    },
    {
      "cell_type": "code",
      "metadata": {
        "colab": {
          "base_uri": "https://localhost:8080/"
        },
        "id": "rfk58_4C-Ds4",
        "outputId": "1ead7ba1-791b-4dce-b315-c7c85cc3a3c4"
      },
      "source": [
        "print_topics(topics=range(10), feature_names=feature_names, sorting=sorting, \n",
        "             topics_per_chunk=4, n_words=10)"
      ],
      "execution_count": null,
      "outputs": [
        {
          "output_type": "stream",
          "text": [
            "topic 0       topic 1       topic 2       topic 3       \n",
            "--------      --------      --------      --------      \n",
            "박태환           보도            국제            리그            \n",
            "올림픽           필리핀           사드            포켓몬           \n",
            "수영            지역            발표            축구            \n",
            "출전            통해            개최            acl           \n",
            "리우            결과            내년            감독            \n",
            "국가대표          정부            독도            게임            \n",
            "27            같다            평화            시즌            \n",
            "정부            발견            위성            해밍턴           \n",
            "선수            조사            소녀            지난해           \n",
            "대학            방송            기업            전북            \n",
            "\n",
            "\n",
            "topic 4       topic 5       topic 6       topic 7       \n",
            "--------      --------      --------      --------      \n",
            "올림픽           축구            골프            국가            \n",
            "경기            브라질           투어            국제            \n",
            "대표팀           월드컵           프로            삼성            \n",
            "예선            선수            대회            대만            \n",
            "대회            fifa          여자            2013          \n",
            "시드니           본선            랭킹            해외            \n",
            "오후            대표팀           lpga          시리즈           \n",
            "2016          연맹            상금            대통령           \n",
            "출전            2014          라운드           정보            \n",
            "리우            국제            pga           보도            \n",
            "\n",
            "\n",
            "topic 8       topic 9       \n",
            "--------      --------      \n",
            "대통령           여성            \n",
            "마약            통화            \n",
            "국가            일리            \n",
            "개국            시드니           \n",
            "없다            수출            \n",
            "20            메일            \n",
            "개발            해외            \n",
            "전자            밉다            \n",
            "유엔            정부            \n",
            "우리나라          소녀            \n",
            "\n",
            "\n"
          ],
          "name": "stdout"
        }
      ]
    },
    {
      "cell_type": "code",
      "metadata": {
        "id": "ybisFleNmYgf"
      },
      "source": [
        "# 100개 토픽 학습\n",
        "lda100 = LatentDirichletAllocation(n_components=100, learning_method=\"batch\",\n",
        "                                   max_iter=25, random_state=0)\n",
        "document_topics100 = lda100.fit_transform(X)"
      ],
      "execution_count": null,
      "outputs": []
    },
    {
      "cell_type": "code",
      "metadata": {
        "id": "j1LVxI1PmYgi"
      },
      "source": [
        "topics = np.array([7, 16, 24, 41, 45, 51, 54, 81, 89, 97])"
      ],
      "execution_count": null,
      "outputs": []
    },
    {
      "cell_type": "code",
      "metadata": {
        "id": "aXLkPbtdmYgk",
        "colab": {
          "base_uri": "https://localhost:8080/"
        },
        "outputId": "8be8b033-8ed5-4694-da64-b4b336901f95"
      },
      "source": [
        "sorting = np.argsort(lda100.components_, axis=1)[:, ::-1]\n",
        "feature_names = np.array(vect.get_feature_names())\n",
        "print_topics(topics=topics, feature_names=feature_names,\n",
        "                           sorting=sorting, topics_per_chunk=5, n_words=10)"
      ],
      "execution_count": null,
      "outputs": [
        {
          "output_type": "stream",
          "text": [
            "topic 7       topic 16      topic 24      topic 41      topic 45      \n",
            "--------      --------      --------      --------      --------      \n",
            "엘니뇨           위해            사이트           태풍            리그            \n",
            "피해자           남중국해          경쟁            이름            전북            \n",
            "옥스팜           보도            이행            의미            축구            \n",
            "보고서           페이스북          도박            손흥민           연맹            \n",
            "2013          커플            수준            독일            acl           \n",
            "트러블메이커        인도            포트            지역            챔피언스리그        \n",
            "노예            합동            발표            매장            클래식           \n",
            "wff           순찰            국가            물이            현대            \n",
            "가장            이케아           등급            게시            서울            \n",
            "항공            방송            서울대           말레이시아         시즌            \n",
            "\n",
            "\n",
            "topic 51      topic 54      topic 81      topic 89      topic 97      \n",
            "--------      --------      --------      --------      --------      \n",
            "브라질           fta           여성            강아지           독도            \n",
            "네이마르          체결            이혼            유산            우즈            \n",
            "축구            축산물           자신            도시            중앙            \n",
            "감독            수입            소주            시드니           감독            \n",
            "월드컵           소방관           보도            지구            연맹            \n",
            "치료            자유무역          크루즈           혼자            마무리           \n",
            "연금            협정            가운데           도둑            평균            \n",
            "포켓몬           감독            아이            흉기            투수            \n",
            "지역            올해            옥스퍼드          도주            식목일           \n",
            "안보            수출입           정부            방송            바다            \n",
            "\n",
            "\n"
          ],
          "name": "stdout"
        }
      ]
    },
    {
      "cell_type": "code",
      "metadata": {
        "id": "QUuY_Ge82HOW",
        "colab": {
          "base_uri": "https://localhost:8080/"
        },
        "outputId": "85c6bfdc-8311-44e8-f8a9-155f386e076f"
      },
      "source": [
        "document_topics100.shape"
      ],
      "execution_count": null,
      "outputs": [
        {
          "output_type": "execute_result",
          "data": {
            "text/plain": [
              "(1499, 100)"
            ]
          },
          "metadata": {
            "tags": []
          },
          "execution_count": 116
        }
      ]
    },
    {
      "cell_type": "code",
      "metadata": {
        "colab": {
          "base_uri": "https://localhost:8080/"
        },
        "id": "KIxzG8dPFUxY",
        "outputId": "af49133f-0fec-49d7-dae0-18e9a737d4e8"
      },
      "source": [
        "document_topics100[0].round(3)"
      ],
      "execution_count": null,
      "outputs": [
        {
          "output_type": "execute_result",
          "data": {
            "text/plain": [
              "array([0.   , 0.   , 0.   , 0.   , 0.   , 0.   , 0.   , 0.   , 0.   ,\n",
              "       0.   , 0.   , 0.   , 0.   , 0.   , 0.   , 0.   , 0.   , 0.   ,\n",
              "       0.   , 0.   , 0.   , 0.   , 0.972, 0.   , 0.   , 0.   , 0.   ,\n",
              "       0.   , 0.   , 0.   , 0.   , 0.   , 0.   , 0.   , 0.   , 0.   ,\n",
              "       0.   , 0.   , 0.   , 0.   , 0.   , 0.   , 0.   , 0.   , 0.   ,\n",
              "       0.   , 0.   , 0.   , 0.   , 0.   , 0.   , 0.   , 0.   , 0.   ,\n",
              "       0.   , 0.   , 0.   , 0.   , 0.   , 0.   , 0.   , 0.   , 0.   ,\n",
              "       0.   , 0.   , 0.   , 0.   , 0.   , 0.   , 0.   , 0.   , 0.   ,\n",
              "       0.   , 0.   , 0.   , 0.   , 0.   , 0.   , 0.   , 0.   , 0.   ,\n",
              "       0.   , 0.   , 0.   , 0.   , 0.   , 0.   , 0.   , 0.   , 0.   ,\n",
              "       0.   , 0.   , 0.   , 0.   , 0.   , 0.   , 0.   , 0.   , 0.   ,\n",
              "       0.   ])"
            ]
          },
          "metadata": {
            "tags": []
          },
          "execution_count": 121
        }
      ]
    },
    {
      "cell_type": "code",
      "metadata": {
        "id": "ExxK6n7P2HOX",
        "colab": {
          "base_uri": "https://localhost:8080/"
        },
        "outputId": "35776868-1322-4428-bc90-5c80e166aef8"
      },
      "source": [
        "np.argsort(document_topics100[:, 77])[::-1]"
      ],
      "execution_count": null,
      "outputs": [
        {
          "output_type": "execute_result",
          "data": {
            "text/plain": [
              "array([  26,  428,  273, ...,  839, 1193,  805])"
            ]
          },
          "metadata": {
            "tags": []
          },
          "execution_count": 122
        }
      ]
    },
    {
      "cell_type": "code",
      "metadata": {
        "id": "lkML7dNemYgo",
        "colab": {
          "base_uri": "https://localhost:8080/"
        },
        "outputId": "ac979095-3563-4b5e-9ca1-8d784b9af7af"
      },
      "source": [
        "# 관련 토픽 77를 가중치로 정렬합니다\n",
        "topic77 = np.argsort(document_topics100[:, 77])[::-1]\n",
        "# 이 토픽이 가장 비중이 큰 문서 다섯개를 출력합니다\n",
        "for i in topic77[:5]:\n",
        "    # 첫 두 문장을 출력합니다\n",
        "    print(list_train[i], \"\\n\")"
      ],
      "execution_count": null,
      "outputs": [
        {
          "output_type": "stream",
          "text": [
            "해외 한국인 유학생 수가 6년 연속 20만 명 이상을 기록하면서 어학연수 해외유학 교환학생 교수 해외 주재원 등 소량화물이사 운송 서비스의 수요가 크게 늘고 있다. \n",
            " \n",
            "한국교육개발원과 교육부 등에서 집계한 해외 유학생 현황 통계자료(2012년 기준)에 따르면, 국외 한국인 유학생 수는 2007년 처음으로 20만 명 이상을 돌파한 이래 여전히 높은 수치.. \n",
            "\n",
            "화학무기 참사가 발생한 시리아에 대한 공습이 초읽기에 들어갔다는 관측 속에 미국의 움직임이 긴박하다.미국은 버락 오바마 대통령을 비롯해 척 헤이글 국방장관, 존 케리 국무장관 등 국방 안보 라인이 모두 나서 주요 우방과 전방위로 접촉하며 군사 행동에 착수할  경우에 대비한 공조 체제 가동 등의 약속을 받아내고 있다.오바마 대통령은 27일(현지시간) 케빈.. \n",
            "\n",
            "윤상직 산업통상자원부 장관은 14일 미국 주도의 다자 FTA(자유무역협정)인 환태평양경제동반자협정(TPP) 참여 문제와 관련, \"가입 여부 자체를 확정하지 않았다\"고 말했다.윤 장관은 이날 정부과천청사에서 진행된 국회 산업통상자원위의 산업부 국정감사 답변을 통해 이같이 밝혔다고 연합뉴스가 전했다. 윤 장관은 한-중 FTA와의 연관성에 대한 질의에는 \"별.. \n",
            "\n",
            "동북아허브 공항을 표방하고 있는 인천국제공항의 경쟁력이 세계 최하위 수준으로 나타났다. \n",
            " \n",
            "한국 항공사의 정시운항률 역시 세계 최하위권이라 항공산업 전반의 경쟁력 제고가 시급하다는 지적이다. \n",
            " \n",
            "11일 글로벌 항공정보 제공업체 OAG(Official Airline Guide)가 최근 공개한 ‘OAG 메가허브 2016’에 따르면 인천공항은 조사대상 세.. \n",
            "\n",
            "일본과 호주의 국방장관이 25일 양국 안보협력을 강화하기로 했으며 중국의 해양 진출이 인근 지역 긴장을 고조시킨다는데 의견을 함께했다고 일본 언론이 보도했다. \n",
            " \n",
            "보도에 따르면 이나다 도모미(稻田朋美) 방위상은 이날 일본을 방문 중인 머리스 페인 호주 국방장관과 만나 상호군수지원협정(ACSA) 개정 협의를 가속하기로 했다. \n",
            " \n",
            "이는 일본의 안보관련법.. \n",
            "\n"
          ],
          "name": "stdout"
        }
      ]
    },
    {
      "cell_type": "code",
      "metadata": {
        "id": "wWD5U4a-tDyp",
        "colab": {
          "base_uri": "https://localhost:8080/"
        },
        "outputId": "d7d3cc74-331a-4244-d6a8-7b100ec881fb"
      },
      "source": [
        "#한글 폰트 설치 (should restart the kernel after installing)\n",
        "\n",
        "import matplotlib\n",
        "!apt-get install fonts-nanum*\n",
        "!apt-get install fontconfig\n",
        "!fc-cache -fv\n",
        "!cp /usr/share/fonts/truetype/nanum/Nanum* /usr/local/lib/python3.6/dist-packages/matplotlib/mpl-data/fonts/ttf/\n",
        "!rm -rf /content/.cache/matplotlib/*\n",
        "matplotlib.font_manager._rebuild()\n"
      ],
      "execution_count": null,
      "outputs": [
        {
          "output_type": "stream",
          "text": [
            "Reading package lists... Done\n",
            "Building dependency tree       \n",
            "Reading state information... Done\n",
            "Note, selecting 'fonts-nanum-eco' for glob 'fonts-nanum*'\n",
            "Note, selecting 'fonts-nanum' for glob 'fonts-nanum*'\n",
            "Note, selecting 'fonts-nanum-gothic-light' for glob 'fonts-nanum*'\n",
            "Note, selecting 'fonts-nanum-coding' for glob 'fonts-nanum*'\n",
            "Note, selecting 'fonts-nanum-extra' for glob 'fonts-nanum*'\n",
            "fonts-nanum is already the newest version (20170925-1).\n",
            "fonts-nanum-coding is already the newest version (2.5-1).\n",
            "fonts-nanum-eco is already the newest version (1.000-6).\n",
            "fonts-nanum-extra is already the newest version (20170925-1).\n",
            "0 upgraded, 0 newly installed, 0 to remove and 15 not upgraded.\n",
            "Reading package lists... Done\n",
            "Building dependency tree       \n",
            "Reading state information... Done\n",
            "fontconfig is already the newest version (2.12.6-0ubuntu2).\n",
            "0 upgraded, 0 newly installed, 0 to remove and 15 not upgraded.\n",
            "/usr/share/fonts: caching, new cache contents: 0 fonts, 1 dirs\n",
            "/usr/share/fonts/truetype: caching, new cache contents: 0 fonts, 3 dirs\n",
            "/usr/share/fonts/truetype/humor-sans: caching, new cache contents: 1 fonts, 0 dirs\n",
            "/usr/share/fonts/truetype/liberation: caching, new cache contents: 16 fonts, 0 dirs\n",
            "/usr/share/fonts/truetype/nanum: caching, new cache contents: 31 fonts, 0 dirs\n",
            "/usr/local/share/fonts: caching, new cache contents: 0 fonts, 0 dirs\n",
            "/root/.local/share/fonts: skipping, no such directory\n",
            "/root/.fonts: skipping, no such directory\n",
            "/var/cache/fontconfig: cleaning cache directory\n",
            "/root/.cache/fontconfig: not cleaning non-existent cache directory\n",
            "/root/.fontconfig: not cleaning non-existent cache directory\n",
            "fc-cache: succeeded\n"
          ],
          "name": "stdout"
        }
      ]
    },
    {
      "cell_type": "code",
      "metadata": {
        "id": "zgdc2cEtmYgs"
      },
      "source": [
        "import platform\n",
        "from matplotlib import font_manager, rc\n",
        "\n",
        "import matplotlib.pyplot as plt\n",
        "import matplotlib\n",
        "\n",
        "if platform.system() == 'Windows':\n",
        "    path = \"c:\\Windows\\Fonts\\malgun.ttf\"\n",
        "    font_name = font_manager.FontProperties(fname=path).get_name()\n",
        "    rc('font', family=font_name)\n",
        "# 맥\n",
        "elif platform.system() == 'Darwin':\n",
        "    rc('font', family='AppleGothic')\n",
        "# 리눅스\n",
        "elif platform.system() == 'Linux':\n",
        "    # rc('font', family='NanumBarunGothic')\n",
        "    rc('font', family='NanumBarunGothic')\n",
        "else:\n",
        "    print('system error...')"
      ],
      "execution_count": null,
      "outputs": []
    },
    {
      "cell_type": "code",
      "metadata": {
        "colab": {
          "base_uri": "https://localhost:8080/"
        },
        "id": "pTkre3cNVSJe",
        "outputId": "c60769de-8318-489c-d636-08bdae6972b9"
      },
      "source": [
        "sorting"
      ],
      "execution_count": null,
      "outputs": [
        {
          "output_type": "execute_result",
          "data": {
            "text/plain": [
              "array([[8043, 3815, 2365, ..., 6631, 6630,    0],\n",
              "       [3167,    6, 6807, ..., 6622, 6621,    0],\n",
              "       [1917, 4202, 9704, ..., 6592, 6591,    0],\n",
              "       ...,\n",
              "       [3588, 6308, 7764, ..., 6632, 6631, 4999],\n",
              "       [ 263, 4613, 1876, ..., 6610, 6609,    0],\n",
              "       [5210, 7862, 2088, ..., 6623, 6622,    0]])"
            ]
          },
          "metadata": {
            "tags": []
          },
          "execution_count": 134
        }
      ]
    },
    {
      "cell_type": "code",
      "metadata": {
        "id": "aeAikJ2a2HOb",
        "colab": {
          "base_uri": "https://localhost:8080/",
          "height": 729
        },
        "outputId": "26207cd8-4f08-4966-86f8-49978edacbd8"
      },
      "source": [
        "fig, ax = plt.subplots(1, 2, figsize=(10, 10))\n",
        "topic_names = [\"{:>2} \".format(i) + \" \".join(words)\n",
        "               for i, words in enumerate(feature_names[sorting[:, :2]])]\n",
        "\n",
        "# 두 개의 열이 있는 막대 그래프\n",
        "for col in [0, 1]:\n",
        "    start = col * 50\n",
        "    end = (col + 1) * 50\n",
        "    ax[col].barh(np.arange(50), np.sum(document_topics100, axis=0)[start:end])\n",
        "    ax[col].set_yticks(np.arange(50))\n",
        "    ax[col].set_yticklabels(topic_names[start:end], ha=\"left\", va=\"top\")\n",
        "    ax[col].invert_yaxis()\n",
        "    ax[col].set_xlim(0, 100)\n",
        "    yax = ax[col].get_yaxis()\n",
        "    yax.set_tick_params(pad=130)\n",
        "plt.tight_layout()"
      ],
      "execution_count": null,
      "outputs": [
        {
          "output_type": "display_data",
          "data": {
            "image/png": "[encoded data removed]",
            "text/plain": [
              "<Figure size 720x720 with 2 Axes>"
            ]
          },
          "metadata": {
            "tags": [],
            "needs_background": "light"
          }
        }
      ]
    },
    {
      "cell_type": "code",
      "metadata": {
        "id": "GVXeKAoGmYgv"
      },
      "source": [
        "# 연습"
      ],
      "execution_count": null,
      "outputs": []
    },
    {
      "cell_type": "code",
      "metadata": {
        "id": "yEwrvkw72HOc",
        "colab": {
          "base_uri": "https://localhost:8080/"
        },
        "outputId": "f3c479a1-fe86-4bc5-bfa1-7bbb4c9d6713"
      },
      "source": [
        "list_doc = [\"나는 학교에 갑니다.\",\n",
        "      \"우리는 학교에서 공부를 합니다.\",\n",
        "      \"학교에서는 운동도 합니다.\",\n",
        "      \"지금은 골프하기에 아주 좋은 날씨입니다.\",\n",
        "      \"축구를 학교에서 시청하기도 합니다.\",\n",
        "      \"공부를 열시히 해서 좋은 데이터 엔지니어가 될 것입니다.\",\n",
        "      \"학교에서는 많은 친구를 사귑니다.\"]\n",
        "\n",
        "twitter = Twitter()\n",
        "results = []\n",
        "for line in list_doc:\n",
        "    word_list = twitter.pos(line, norm=True, stem=True)\n",
        "    words = []\n",
        "    for word in word_list:\n",
        "        if not word[1] in [\"Josa\", \"eomi\", \"Punctuation\", \"Verb\"]:\n",
        "            words.append(word[0])\n",
        "    words = (\" \".join(words)).strip()\n",
        "    results.append(words)\n"
      ],
      "execution_count": null,
      "outputs": [
        {
          "output_type": "stream",
          "text": [
            "/usr/local/lib/python3.6/dist-packages/konlpy/tag/_okt.py:16: UserWarning: \"Twitter\" has changed to \"Okt\" since KoNLPy v0.4.5.\n",
            "  warn('\"Twitter\" has changed to \"Okt\" since KoNLPy v0.4.5.')\n"
          ],
          "name": "stderr"
        }
      ]
    },
    {
      "cell_type": "code",
      "metadata": {
        "id": "c-qSz1ht2HOd"
      },
      "source": [
        "vect = CountVectorizer(max_features=10)\n",
        "X = vect.fit_transform(results)\n",
        "\n",
        "lda = LatentDirichletAllocation(n_components=5, learning_method=\"batch\",\n",
        "                                max_iter=25, random_state=0)\n",
        "\n",
        "document_topics = lda.fit_transform(X)"
      ],
      "execution_count": null,
      "outputs": []
    },
    {
      "cell_type": "code",
      "metadata": {
        "id": "u05t8S-c2HOd",
        "colab": {
          "base_uri": "https://localhost:8080/"
        },
        "outputId": "e66ae71f-d712-4801-a605-b26ec9ddd4ff"
      },
      "source": [
        "X.toarray()"
      ],
      "execution_count": null,
      "outputs": [
        {
          "output_type": "execute_result",
          "data": {
            "text/plain": [
              "array([[0, 0, 0, 0, 0, 0, 0, 0, 0, 1],\n",
              "       [0, 1, 0, 0, 0, 0, 0, 0, 0, 1],\n",
              "       [0, 0, 0, 0, 0, 0, 0, 0, 0, 1],\n",
              "       [1, 0, 1, 0, 0, 0, 1, 1, 1, 0],\n",
              "       [0, 0, 0, 0, 0, 1, 0, 0, 0, 1],\n",
              "       [0, 1, 0, 1, 0, 0, 0, 1, 1, 0],\n",
              "       [0, 0, 0, 0, 1, 0, 0, 0, 0, 1]])"
            ]
          },
          "metadata": {
            "tags": []
          },
          "execution_count": 54
        }
      ]
    },
    {
      "cell_type": "code",
      "metadata": {
        "id": "KMMnT0Nq2HOe",
        "colab": {
          "base_uri": "https://localhost:8080/"
        },
        "outputId": "8334cb25-94e4-4d48-b922-f6797515c8c0"
      },
      "source": [
        "document_topics"
      ],
      "execution_count": null,
      "outputs": [
        {
          "output_type": "execute_result",
          "data": {
            "text/plain": [
              "array([[0.10000532, 0.10159057, 0.59680723, 0.10000628, 0.1015906 ],\n",
              "       [0.0666738 , 0.06711494, 0.73133307, 0.06776324, 0.06711495],\n",
              "       [0.10000532, 0.10159057, 0.59680723, 0.10000628, 0.1015906 ],\n",
              "       [0.86616095, 0.03334451, 0.03334046, 0.03380957, 0.03334451],\n",
              "       [0.06667379, 0.06772955, 0.06955961, 0.06667508, 0.72936197],\n",
              "       [0.04050659, 0.04001153, 0.04028702, 0.83918334, 0.04001153],\n",
              "       [0.06667379, 0.72936185, 0.06955969, 0.06667508, 0.06772958]])"
            ]
          },
          "metadata": {
            "tags": []
          },
          "execution_count": 55
        }
      ]
    },
    {
      "cell_type": "code",
      "metadata": {
        "id": "bRpkuLvG2HOe",
        "colab": {
          "base_uri": "https://localhost:8080/"
        },
        "outputId": "cde9bf25-d501-4493-e449-b75661436d26"
      },
      "source": [
        "lda.components_.round(2)    # no of topics x number of words"
      ],
      "execution_count": null,
      "outputs": [
        {
          "output_type": "execute_result",
          "data": {
            "text/plain": [
              "array([[1.2, 0.2, 1.2, 0.2, 0.2, 0.2, 1.2, 1.2, 1.2, 0.2],\n",
              "       [0.2, 0.2, 0.2, 0.2, 1.2, 0.2, 0.2, 0.2, 0.2, 1.2],\n",
              "       [0.2, 1.2, 0.2, 0.2, 0.2, 0.2, 0.2, 0.2, 0.2, 3.2],\n",
              "       [0.2, 1.2, 0.2, 1.2, 0.2, 0.2, 0.2, 1.2, 1.2, 0.2],\n",
              "       [0.2, 0.2, 0.2, 0.2, 0.2, 1.2, 0.2, 0.2, 0.2, 1.2]])"
            ]
          },
          "metadata": {
            "tags": []
          },
          "execution_count": 56
        }
      ]
    },
    {
      "cell_type": "code",
      "metadata": {
        "id": "5b5U2uun2HOf",
        "colab": {
          "base_uri": "https://localhost:8080/"
        },
        "outputId": "10af6c73-b033-409e-cae7-a9d9ea40ae0b"
      },
      "source": [
        "feature_names = np.array(vect.get_feature_names())\n",
        "N=7\n",
        "for i in range(0, lda.components_.shape[0]):\n",
        "    print (\"topic {}:\".format(i))\n",
        "    topic_idx = lda.components_.argsort(axis=1)[:,::-1][i]\n",
        "    print(topic_idx)\n",
        "    topic_words = [topic_idx[j] for j in range(0,N)]\n",
        "    print (feature_names[topic_words])"
      ],
      "execution_count": null,
      "outputs": [
        {
          "output_type": "stream",
          "text": [
            "topic 0:\n",
            "[6 2 0 8 7 9 1 4 5 3]\n",
            "['아주' '날씨' '골프' '좋다' '이다' '학교' '공부']\n",
            "topic 1:\n",
            "[4 9 1 8 7 5 3 6 2 0]\n",
            "['많다' '학교' '공부' '좋다' '이다' '시청' '데이터']\n",
            "topic 2:\n",
            "[9 1 8 7 4 5 3 6 2 0]\n",
            "['학교' '공부' '좋다' '이다' '많다' '시청' '데이터']\n",
            "topic 3:\n",
            "[1 8 7 3 9 4 5 6 2 0]\n",
            "['공부' '좋다' '이다' '데이터' '학교' '많다' '시청']\n",
            "topic 4:\n",
            "[5 9 1 8 7 4 3 6 2 0]\n",
            "['시청' '학교' '공부' '좋다' '이다' '많다' '데이터']\n"
          ],
          "name": "stdout"
        }
      ]
    },
    {
      "cell_type": "code",
      "metadata": {
        "id": "9FiXnFNb2HOf",
        "colab": {
          "base_uri": "https://localhost:8080/",
          "height": 282
        },
        "outputId": "5873415b-0621-4aea-9b85-d63834667665"
      },
      "source": [
        "plt.bar(np.arange(5), np.sum(document_topics, axis=0), width=0.5)"
      ],
      "execution_count": null,
      "outputs": [
        {
          "output_type": "execute_result",
          "data": {
            "text/plain": [
              "<BarContainer object of 5 artists>"
            ]
          },
          "metadata": {
            "tags": []
          },
          "execution_count": 88
        },
        {
          "output_type": "display_data",
          "data": {
            "image/png": "[encoded data removed]",
            "text/plain": [
              "<Figure size 432x288 with 1 Axes>"
            ]
          },
          "metadata": {
            "tags": [],
            "needs_background": "light"
          }
        }
      ]
    },
    {
      "cell_type": "markdown",
      "metadata": {
        "id": "pXyIpDSf8dL_"
      },
      "source": [
        "# 연습"
      ]
    },
    {
      "cell_type": "code",
      "metadata": {
        "colab": {
          "base_uri": "https://localhost:8080/",
          "height": 164
        },
        "id": "w9sm2bnSIPpB",
        "outputId": "02955f45-b1a8-4c00-dfe3-9eccad29eab7"
      },
      "source": [
        "2/0"
      ],
      "execution_count": null,
      "outputs": [
        {
          "output_type": "error",
          "ename": "ZeroDivisionError",
          "evalue": "ignored",
          "traceback": [
            "\u001b[0;31m---------------------------------------------------------------------------\u001b[0m",
            "\u001b[0;31mZeroDivisionError\u001b[0m                         Traceback (most recent call last)",
            "\u001b[0;32m<ipython-input-47-e8326a161779>\u001b[0m in \u001b[0;36m<module>\u001b[0;34m()\u001b[0m\n\u001b[0;32m----> 1\u001b[0;31m \u001b[0;36m2\u001b[0m\u001b[0;34m/\u001b[0m\u001b[0;36m0\u001b[0m\u001b[0;34m\u001b[0m\u001b[0;34m\u001b[0m\u001b[0m\n\u001b[0m",
            "\u001b[0;31mZeroDivisionError\u001b[0m: division by zero"
          ]
        }
      ]
    },
    {
      "cell_type": "code",
      "metadata": {
        "colab": {
          "base_uri": "https://localhost:8080/"
        },
        "id": "nTQeGHQ78fLS",
        "outputId": "76a2e50f-9d12-41b6-9ff8-850aafb1a570"
      },
      "source": [
        "try:\r\n",
        "    for i in range(10,-1,-1):\r\n",
        "        print (10 // i)\r\n",
        "except ZeroDivisionError:\r\n",
        "    print(\"divide-by-zero error.\")\r\n",
        "finally:\r\n",
        "    print(\"Done...\")"
      ],
      "execution_count": null,
      "outputs": [
        {
          "output_type": "stream",
          "text": [
            "1\n",
            "1\n",
            "1\n",
            "1\n",
            "1\n",
            "2\n",
            "2\n",
            "3\n",
            "5\n",
            "10\n",
            "divide-by-zero error.\n",
            "Done...\n"
          ],
          "name": "stdout"
        }
      ]
    },
    {
      "cell_type": "code",
      "metadata": {
        "colab": {
          "base_uri": "https://localhost:8080/"
        },
        "id": "3-DNRMoy88el",
        "outputId": "c759227b-a221-44a3-9c1e-e05db3b988cf"
      },
      "source": [
        "list(range(10,-1,-1))"
      ],
      "execution_count": null,
      "outputs": [
        {
          "output_type": "execute_result",
          "data": {
            "text/plain": [
              "[10, 9, 8, 7, 6, 5, 4, 3, 2, 1, 0]"
            ]
          },
          "metadata": {
            "tags": []
          },
          "execution_count": 37
        }
      ]
    },
    {
      "cell_type": "code",
      "metadata": {
        "colab": {
          "base_uri": "https://localhost:8080/"
        },
        "id": "_mLNIx3d9SBz",
        "outputId": "d62fd4cd-b32d-4993-cc0c-16697fe858be"
      },
      "source": [
        "a ,b = 3, 5\r\n",
        "print((\"{:<8}\" * a).format(*range(3)))"
      ],
      "execution_count": null,
      "outputs": [
        {
          "output_type": "stream",
          "text": [
            "0       1       2       \n"
          ],
          "name": "stdout"
        }
      ]
    },
    {
      "cell_type": "code",
      "metadata": {
        "id": "7QUGwVtdAW_L"
      },
      "source": [
        ""
      ],
      "execution_count": null,
      "outputs": []
    }
  ]
}