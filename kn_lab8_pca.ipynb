{
  "nbformat": 4,
  "nbformat_minor": 0,
  "metadata": {
    "colab": {
      "name": "lab42_pca_tSNE_rev2.ipynb",
      "provenance": [],
      "collapsed_sections": [],
      "toc_visible": true,
      "include_colab_link": true
    },
    "kernelspec": {
      "display_name": "Python 3",
      "language": "python",
      "name": "python3"
    },
    "language_info": {
      "codemirror_mode": {
        "name": "ipython",
        "version": 3
      },
      "file_extension": ".py",
      "mimetype": "text/x-python",
      "name": "python",
      "nbconvert_exporter": "python",
      "pygments_lexer": "ipython3",
      "version": "3.6.8"
    }
  },
  "cells": [
    {
      "cell_type": "markdown",
      "metadata": {
        "id": "view-in-github",
        "colab_type": "text"
      },
      "source": [
        "<a href=\"https://colab.research.google.com/github/rtajeong/DSAC_Lab3_4/blob/master/kn_lab8_pca.ipynb\" target=\"_parent\"><img src=\"https://colab.research.google.com/assets/colab-badge.svg\" alt=\"Open In Colab\"/></a>"
      ]
    },
    {
      "cell_type": "markdown",
      "metadata": {
        "id": "oIVVQogr4jOZ"
      },
      "source": [
        "# Dimensionality Reduction\n",
        "- Feature Elimination: You reduce the feature space by eliminating features. This has a disadvantage though, as you gain no information from those features that you have dropped.\n",
        "- Feature Selection: You apply some statistical tests in order to rank them according to their importance and then select a subset of features for your work. This again suffers from information loss and is less stable as different test gives different importance score to features. \n",
        "- Feature Extraction: You create new independent features, where each new independent feature is a combination of each of the old independent features. These techniques can further be divided into linear and non-linear dimensionality reduction techniques.\n",
        "- tSNE and PCA are feature extraction\n",
        "- https://www.datacamp.com/community/tutorials/introduction-t-sne?utm_source=adwords_ppc&utm_campaignid=1455363063&utm_adgroupid=65083631748&utm_device=c&utm_keyword=&utm_matchtype=b&utm_network=g&utm_adpostion=&utm_creative=278443377086&utm_targetid=aud-299261629574:dsa-429603003980&utm_loc_interest_ms=&utm_loc_physical_ms=1009871&gclid=CjwKCAjwtNf6BRAwEiwAkt6UQn9Fh31RQWu68b19VdBqQhZWcl_EiKf-R1fW_5heDab7jEZLOYWqOxoCvHoQAvD_BwE"
      ]
    },
    {
      "cell_type": "markdown",
      "metadata": {
        "id": "8EfCzUpYuJEB"
      },
      "source": [
        "# PCA (Principal Component Analysis)\n",
        "- breastcancer example\n",
        "- use some important data only (about 30%), SelectPercentile\n",
        "- tSNE "
      ]
    },
    {
      "cell_type": "code",
      "metadata": {
        "id": "h4bBPfhCuJED"
      },
      "source": [
        "import numpy as np\n",
        "import pandas as pd\n",
        "from sklearn.datasets import load_breast_cancer\n",
        "from sklearn.model_selection import train_test_split, cross_val_score\n",
        "from sklearn.ensemble import RandomForestClassifier \n",
        "\n",
        "from sklearn.feature_selection import SelectPercentile, chi2\n",
        "from sklearn.preprocessing import StandardScaler\n",
        "from sklearn.decomposition import PCA \n",
        "from sklearn.manifold import TSNE\n",
        "from matplotlib import pyplot as plt\n",
        "import seaborn as sns\n",
        "%matplotlib inline"
      ],
      "execution_count": null,
      "outputs": []
    },
    {
      "cell_type": "code",
      "metadata": {
        "id": "xq-skYDIuJEI"
      },
      "source": [
        "cancer = load_breast_cancer()\n",
        "X_all = cancer.data\n",
        "y = cancer.target \n",
        "X_all = StandardScaler().fit_transform(X_all)"
      ],
      "execution_count": null,
      "outputs": []
    },
    {
      "cell_type": "code",
      "metadata": {
        "colab": {
          "base_uri": "https://localhost:8080/"
        },
        "id": "o6D8iWQGuJEL",
        "outputId": "7fbc11fb-a56e-443f-dc20-103acf1ccc7b"
      },
      "source": [
        "X_all.shape"
      ],
      "execution_count": null,
      "outputs": [
        {
          "output_type": "execute_result",
          "data": {
            "text/plain": [
              "(569, 30)"
            ]
          },
          "metadata": {
            "tags": []
          },
          "execution_count": 4
        }
      ]
    },
    {
      "cell_type": "code",
      "metadata": {
        "colab": {
          "base_uri": "https://localhost:8080/"
        },
        "id": "Yc6IVgq4uJER",
        "outputId": "d5fdf2de-559f-4e6d-e660-e417d08f33b4"
      },
      "source": [
        "cancer.feature_names"
      ],
      "execution_count": null,
      "outputs": [
        {
          "output_type": "execute_result",
          "data": {
            "text/plain": [
              "array(['mean radius', 'mean texture', 'mean perimeter', 'mean area',\n",
              "       'mean smoothness', 'mean compactness', 'mean concavity',\n",
              "       'mean concave points', 'mean symmetry', 'mean fractal dimension',\n",
              "       'radius error', 'texture error', 'perimeter error', 'area error',\n",
              "       'smoothness error', 'compactness error', 'concavity error',\n",
              "       'concave points error', 'symmetry error',\n",
              "       'fractal dimension error', 'worst radius', 'worst texture',\n",
              "       'worst perimeter', 'worst area', 'worst smoothness',\n",
              "       'worst compactness', 'worst concavity', 'worst concave points',\n",
              "       'worst symmetry', 'worst fractal dimension'], dtype='<U23')"
            ]
          },
          "metadata": {
            "tags": []
          },
          "execution_count": 5
        }
      ]
    },
    {
      "cell_type": "markdown",
      "metadata": {
        "id": "ff3BlI3DuJEV"
      },
      "source": [
        "## when using all 30 features"
      ]
    },
    {
      "cell_type": "code",
      "metadata": {
        "id": "LYiqPUqrudlE"
      },
      "source": [
        "rfc = RandomForestClassifier(n_estimators=200)"
      ],
      "execution_count": null,
      "outputs": []
    },
    {
      "cell_type": "code",
      "metadata": {
        "colab": {
          "base_uri": "https://localhost:8080/"
        },
        "id": "Y8khE-51uJEW",
        "scrolled": true,
        "outputId": "aeed6c67-7c64-4ea2-b0a1-5db59aabaa95"
      },
      "source": [
        "## 교차검증\n",
        "cross_val_score(rfc, X_all, y, cv=5).mean().round(4)"
      ],
      "execution_count": null,
      "outputs": [
        {
          "output_type": "execute_result",
          "data": {
            "text/plain": [
              "0.9596"
            ]
          },
          "metadata": {
            "tags": []
          },
          "execution_count": 7
        }
      ]
    },
    {
      "cell_type": "markdown",
      "metadata": {
        "id": "z-dVoty24jOc"
      },
      "source": [
        "### Feature Selection: importance of feature selection:\n",
        "- It enables the machine learning algorithm to train faster.\n",
        "- It reduces the complexity of a model and makes it easier to interpret.\n",
        "- It improves the accuracy of a model if the right subset is chosen.\n",
        "- It reduces Overfitting."
      ]
    },
    {
      "cell_type": "markdown",
      "metadata": {
        "id": "4bCFO2eN4jOc"
      },
      "source": [
        "### Chi-squared statistics (?): \n",
        "- 상관관계를 계산하여 우연히 어떤 관계가 발생한 것인지 아니면 충분히 연관성이 있는지 알려주는 방법."
      ]
    },
    {
      "cell_type": "markdown",
      "metadata": {
        "id": "sWaKowWbuJEa"
      },
      "source": [
        "## 6개의 특성만 사용하는 경우"
      ]
    },
    {
      "cell_type": "markdown",
      "metadata": {
        "id": "53ZIishE4jOc"
      },
      "source": [
        "### SelectPercentile():\n",
        "- SelectPercentile(score_func, percentile): Select features according to a percentile \n",
        "of the highest scores.\n",
        "- score_func : callable Function taking two arrays X and y, and returning a pair of arrays (scores, pvalues) or a single array with scores. Default is f_classif. The default function only works with classification tasks.\n",
        "- percentile : int, optional, default=10, Percent of features to keep."
      ]
    },
    {
      "cell_type": "markdown",
      "metadata": {
        "id": "bS4IvUO34jOc"
      },
      "source": [
        "- chi-square test: 두 범주형 변수간의 상관관계를 측정하는 통계적 기법이다. 카이스퀘어 테스트를 이용하여 귀무가설을 기초로 기대빈도를 계산하여 두 개 이상의 데이터 세트의 관찰빈도가 통계적으로 유의미한지를 측정한다. 테스트 결과에서 P value가 유의수준보다 낮으면 귀무가설은 기각되며, 반대인 경우 귀무가설은 채택된다."
      ]
    },
    {
      "cell_type": "code",
      "metadata": {
        "id": "7fTUvLn54jOc"
      },
      "source": [
        "# fs = SelectPercentile(feature_selection.chi2, percentile = 20) # 영향력이 큰 상위 20% 만\n",
        "# fs.fit(cancer.data, y)\n",
        "# fs.get_support()"
      ],
      "execution_count": null,
      "outputs": []
    },
    {
      "cell_type": "code",
      "metadata": {
        "id": "-sBVJF96uJEb"
      },
      "source": [
        "from sklearn.feature_selection import SelectPercentile, chi2\n",
        "fs = SelectPercentile(chi2, percentile = 20)\n",
        "sc = StandardScaler()\n",
        "X_P = fs.fit_transform(cancer.data, y)\n",
        "X_P = sc.fit_transform(X_P)"
      ],
      "execution_count": null,
      "outputs": []
    },
    {
      "cell_type": "code",
      "metadata": {
        "scrolled": false,
        "id": "T-rY63Nq4jOc",
        "colab": {
          "base_uri": "https://localhost:8080/"
        },
        "outputId": "88279fd5-dcd1-49f1-ff35-5bd3444637a9"
      },
      "source": [
        "fs.get_support()   # 20% - 6개"
      ],
      "execution_count": null,
      "outputs": [
        {
          "output_type": "execute_result",
          "data": {
            "text/plain": [
              "array([False, False,  True,  True, False, False, False, False, False,\n",
              "       False, False, False, False,  True, False, False, False, False,\n",
              "       False, False,  True, False,  True,  True, False, False, False,\n",
              "       False, False, False])"
            ]
          },
          "metadata": {
            "tags": []
          },
          "execution_count": 12
        }
      ]
    },
    {
      "cell_type": "code",
      "metadata": {
        "id": "SSuaU1pn4jOc",
        "colab": {
          "base_uri": "https://localhost:8080/"
        },
        "outputId": "7eb9e56a-989d-4cf2-ae94-3fa1774c6311"
      },
      "source": [
        "fs.scores_, fs.pvalues_"
      ],
      "execution_count": null,
      "outputs": [
        {
          "output_type": "execute_result",
          "data": {
            "text/plain": [
              "(array([2.66104917e+02, 9.38975081e+01, 2.01110286e+03, 5.39916559e+04,\n",
              "        1.49899264e-01, 5.40307549e+00, 1.97123536e+01, 1.05440354e+01,\n",
              "        2.57379775e-01, 7.43065536e-05, 3.46752472e+01, 9.79353970e-03,\n",
              "        2.50571896e+02, 8.75850471e+03, 3.26620664e-03, 6.13785332e-01,\n",
              "        1.04471761e+00, 3.05231563e-01, 8.03633831e-05, 6.37136566e-03,\n",
              "        4.91689157e+02, 1.74449400e+02, 3.66503542e+03, 1.12598432e+05,\n",
              "        3.97365694e-01, 1.93149220e+01, 3.95169151e+01, 1.34854195e+01,\n",
              "        1.29886140e+00, 2.31522407e-01]),\n",
              " array([8.01397628e-060, 3.32292194e-022, 0.00000000e+000, 0.00000000e+000,\n",
              "        6.98631644e-001, 2.01012999e-002, 9.00175712e-006, 1.16563638e-003,\n",
              "        6.11926026e-001, 9.93122221e-001, 3.89553429e-009, 9.21168192e-001,\n",
              "        1.94877489e-056, 0.00000000e+000, 9.54425121e-001, 4.33366115e-001,\n",
              "        3.06726812e-001, 5.80621137e-001, 9.92847410e-001, 9.36379753e-001,\n",
              "        6.11324751e-109, 7.89668299e-040, 0.00000000e+000, 0.00000000e+000,\n",
              "        5.28452867e-001, 1.10836762e-005, 3.25230064e-010, 2.40424384e-004,\n",
              "        2.54421307e-001, 6.30397277e-001]))"
            ]
          },
          "metadata": {
            "tags": []
          },
          "execution_count": 13
        }
      ]
    },
    {
      "cell_type": "code",
      "metadata": {
        "id": "qkp5ei7i4jOd",
        "colab": {
          "base_uri": "https://localhost:8080/"
        },
        "outputId": "760748b4-653e-4085-969b-7648b1d90a48"
      },
      "source": [
        "np.array(fs.scores_).argsort()[::-1]"
      ],
      "execution_count": null,
      "outputs": [
        {
          "output_type": "execute_result",
          "data": {
            "text/plain": [
              "array([23,  3, 13, 22,  2, 20,  0, 12, 21,  1, 26, 10,  6, 25, 27,  7,  5,\n",
              "       28, 16, 15, 24, 17,  8, 29,  4, 11, 19, 14, 18,  9])"
            ]
          },
          "metadata": {
            "tags": []
          },
          "execution_count": 14
        }
      ]
    },
    {
      "cell_type": "code",
      "metadata": {
        "id": "P0VdwNGq4jOd",
        "colab": {
          "base_uri": "https://localhost:8080/"
        },
        "outputId": "1f333128-ef7b-411f-f5a0-33bc731ab98f"
      },
      "source": [
        "cancer.feature_names[[23,3]]"
      ],
      "execution_count": null,
      "outputs": [
        {
          "output_type": "execute_result",
          "data": {
            "text/plain": [
              "array(['worst area', 'mean area'], dtype='<U23')"
            ]
          },
          "metadata": {
            "tags": []
          },
          "execution_count": 15
        }
      ]
    },
    {
      "cell_type": "code",
      "metadata": {
        "colab": {
          "base_uri": "https://localhost:8080/"
        },
        "id": "9X-IgWlk4jOd",
        "outputId": "40bbfb15-5350-46b0-a64f-4ae71def3bca"
      },
      "source": [
        "cancer.feature_names[fs.get_support()]"
      ],
      "execution_count": null,
      "outputs": [
        {
          "output_type": "execute_result",
          "data": {
            "text/plain": [
              "array(['mean perimeter', 'mean area', 'area error', 'worst radius',\n",
              "       'worst perimeter', 'worst area'], dtype='<U23')"
            ]
          },
          "metadata": {
            "tags": []
          },
          "execution_count": 17
        }
      ]
    },
    {
      "cell_type": "code",
      "metadata": {
        "id": "7h845znquJEe",
        "colab": {
          "base_uri": "https://localhost:8080/"
        },
        "outputId": "6f069ec8-6a83-4baa-86e9-e1ced81031e0"
      },
      "source": [
        "cross_val_score(rfc, X_P, y).mean().round(4)"
      ],
      "execution_count": null,
      "outputs": [
        {
          "output_type": "execute_result",
          "data": {
            "text/plain": [
              "0.928"
            ]
          },
          "metadata": {
            "tags": []
          },
          "execution_count": 18
        }
      ]
    },
    {
      "cell_type": "markdown",
      "metadata": {
        "id": "c1oEerlcuJEi"
      },
      "source": [
        "## 2개의 특성만 사용하는 경우"
      ]
    },
    {
      "cell_type": "code",
      "metadata": {
        "id": "N5g9oG5quJEi",
        "colab": {
          "base_uri": "https://localhost:8080/"
        },
        "outputId": "712dd659-8cff-47f1-de2e-5efa32f46d0e"
      },
      "source": [
        "# 상위 6%의 유효한 특성만 선택 )\n",
        "fs = SelectPercentile(chi2, percentile = 6)\n",
        "X_P = fs.fit_transform(cancer.data, y)\n",
        "X_P = sc.fit_transform(X_P)\n",
        "cancer.feature_names[fs.get_support()]"
      ],
      "execution_count": null,
      "outputs": [
        {
          "output_type": "execute_result",
          "data": {
            "text/plain": [
              "array(['mean area', 'worst area'], dtype='<U23')"
            ]
          },
          "metadata": {
            "tags": []
          },
          "execution_count": 29
        }
      ]
    },
    {
      "cell_type": "code",
      "metadata": {
        "id": "XhQQI62XuJEm",
        "colab": {
          "base_uri": "https://localhost:8080/"
        },
        "outputId": "6126e568-d649-4b00-fcc1-a5f7871bcbec"
      },
      "source": [
        "cancer.data.shape, X_P.shape"
      ],
      "execution_count": null,
      "outputs": [
        {
          "output_type": "execute_result",
          "data": {
            "text/plain": [
              "((569, 30), (569, 2))"
            ]
          },
          "metadata": {
            "tags": []
          },
          "execution_count": 30
        }
      ]
    },
    {
      "cell_type": "code",
      "metadata": {
        "id": "au31ICV-uJEq",
        "colab": {
          "base_uri": "https://localhost:8080/"
        },
        "outputId": "04af2bcf-45fe-487f-af62-9aa4ae1340e7"
      },
      "source": [
        "cross_val_score(rfc, X_P, y).mean().round(4)"
      ],
      "execution_count": null,
      "outputs": [
        {
          "output_type": "execute_result",
          "data": {
            "text/plain": [
              "0.9192"
            ]
          },
          "metadata": {
            "tags": []
          },
          "execution_count": 31
        }
      ]
    },
    {
      "cell_type": "code",
      "metadata": {
        "colab": {
          "base_uri": "https://localhost:8080/",
          "height": 374
        },
        "id": "Ve_vorLviBV0",
        "outputId": "9cb9c782-a5c9-4994-eb71-3a6f2752c6ed"
      },
      "source": [
        "m = ['v', 'o']\r\n",
        "c = ['r','b']\r\n",
        "plt.figure(figsize=(8,6))\r\n",
        "for i in range(len(y)):\r\n",
        "    plt.scatter(cancer.data[:,0][i],cancer.data[:,1][i], marker=m[y[i]], c=c[y[i]], s=5)\r\n",
        "plt.show()"
      ],
      "execution_count": null,
      "outputs": [
        {
          "output_type": "display_data",
          "data": {
            "image/png": "[encoded data removed]",
            "text/plain": [
              "<Figure size 576x432 with 1 Axes>"
            ]
          },
          "metadata": {
            "tags": [],
            "needs_background": "light"
          }
        }
      ]
    },
    {
      "cell_type": "code",
      "metadata": {
        "colab": {
          "base_uri": "https://localhost:8080/",
          "height": 374
        },
        "id": "6ZtPMQsnhrxC",
        "outputId": "4ecf6f73-467c-45fe-bbf5-6a102dc16104"
      },
      "source": [
        "m = ['v', 'o']\r\n",
        "c = ['r','b']\r\n",
        "plt.figure(figsize=(8,6))\r\n",
        "for i in range(len(y)):\r\n",
        "    plt.scatter(X_P[:,0][i],X_P[:,1][i], marker=m[y[i]], c=c[y[i]], s=5)\r\n",
        "plt.show()"
      ],
      "execution_count": null,
      "outputs": [
        {
          "output_type": "display_data",
          "data": {
            "image/png": "[encoded data removed]",
            "text/plain": [
              "<Figure size 576x432 with 1 Axes>"
            ]
          },
          "metadata": {
            "tags": [],
            "needs_background": "light"
          }
        }
      ]
    },
    {
      "cell_type": "markdown",
      "metadata": {
        "id": "649U7hdruJEu"
      },
      "source": [
        "## PCA로 두개의 차원만 사용하는 경우"
      ]
    },
    {
      "cell_type": "code",
      "metadata": {
        "id": "vJpDqpqvuJEv"
      },
      "source": [
        "pca = PCA(n_components=2)\n",
        "pca_result = pca.fit_transform(X_all)"
      ],
      "execution_count": null,
      "outputs": []
    },
    {
      "cell_type": "code",
      "metadata": {
        "id": "I9UjOmIu4jOd",
        "colab": {
          "base_uri": "https://localhost:8080/"
        },
        "outputId": "42e0066b-9a4d-4c07-d128-298d7e64c792"
      },
      "source": [
        "pca_result #  after dimensionality reduction, there usually isn’t a particular \n",
        "           # meaning assigned to each principal component. The new components are \n",
        "           # just the two main dimensions of variation."
      ],
      "execution_count": null,
      "outputs": [
        {
          "output_type": "execute_result",
          "data": {
            "text/plain": [
              "array([[ 9.19283683,  1.94858307],\n",
              "       [ 2.3878018 , -3.76817174],\n",
              "       [ 5.73389628, -1.0751738 ],\n",
              "       ...,\n",
              "       [ 1.25617928, -1.90229671],\n",
              "       [10.37479406,  1.67201011],\n",
              "       [-5.4752433 , -0.67063679]])"
            ]
          },
          "metadata": {
            "tags": []
          },
          "execution_count": 38
        }
      ]
    },
    {
      "cell_type": "code",
      "metadata": {
        "id": "5wkRsHLUuJEy",
        "colab": {
          "base_uri": "https://localhost:8080/",
          "height": 374
        },
        "outputId": "660c38ff-fcd3-4022-9d7e-b5fa9fce0c27"
      },
      "source": [
        "m = ['v', 'o']\n",
        "c = ['r','b']\n",
        "plt.figure(figsize=(8,6))\n",
        "for i in range(len(y)):\n",
        "    plt.scatter(pca_result[:,0][i],pca_result[:,1][i], marker=m[y[i]], c=c[y[i]], s=5)\n",
        "plt.show()"
      ],
      "execution_count": null,
      "outputs": [
        {
          "output_type": "display_data",
          "data": {
            "image/png": "[encoded data removed]",
            "text/plain": [
              "<Figure size 576x432 with 1 Axes>"
            ]
          },
          "metadata": {
            "tags": [],
            "needs_background": "light"
          }
        }
      ]
    },
    {
      "cell_type": "code",
      "metadata": {
        "id": "BybjlXpnuJE6",
        "colab": {
          "base_uri": "https://localhost:8080/"
        },
        "outputId": "b863ca83-79e1-40aa-dfa3-76746fc5e05b"
      },
      "source": [
        "pca.components_.round(3) # 기존의 30개의 특성에 각각 어떤 가중치를 곱했는지 파악"
      ],
      "execution_count": null,
      "outputs": [
        {
          "output_type": "execute_result",
          "data": {
            "text/plain": [
              "array([[ 0.219,  0.104,  0.228,  0.221,  0.143,  0.239,  0.258,  0.261,\n",
              "         0.138,  0.064,  0.206,  0.017,  0.211,  0.203,  0.015,  0.17 ,\n",
              "         0.154,  0.183,  0.042,  0.103,  0.228,  0.104,  0.237,  0.225,\n",
              "         0.128,  0.21 ,  0.229,  0.251,  0.123,  0.132],\n",
              "       [-0.234, -0.06 , -0.215, -0.231,  0.186,  0.152,  0.06 , -0.035,\n",
              "         0.19 ,  0.367, -0.106,  0.09 , -0.089, -0.152,  0.204,  0.233,\n",
              "         0.197,  0.13 ,  0.184,  0.28 , -0.22 , -0.045, -0.2  , -0.219,\n",
              "         0.172,  0.144,  0.098, -0.008,  0.142,  0.275]])"
            ]
          },
          "metadata": {
            "tags": []
          },
          "execution_count": 40
        }
      ]
    },
    {
      "cell_type": "code",
      "metadata": {
        "id": "HDmFt3jpuJFA",
        "colab": {
          "base_uri": "https://localhost:8080/"
        },
        "outputId": "bfd51558-0007-49c2-a26e-4124b0891438"
      },
      "source": [
        "pca.explained_variance_ratio_, sum(pca.explained_variance_ratio_) # 각 주성분 요소들이 얼마나 데이터를\n",
        "                                                                  # 잘 설명하는지 파악"
      ],
      "execution_count": null,
      "outputs": [
        {
          "output_type": "execute_result",
          "data": {
            "text/plain": [
              "(array([0.44272026, 0.18971182]), 0.6324320765155951)"
            ]
          },
          "metadata": {
            "tags": []
          },
          "execution_count": 41
        }
      ]
    },
    {
      "cell_type": "markdown",
      "metadata": {
        "id": "UOqII4d_uJFE"
      },
      "source": [
        "## 2개의 주성분만 사용하여 분류를 수행"
      ]
    },
    {
      "cell_type": "code",
      "metadata": {
        "id": "KVKMqsOEuJFF",
        "colab": {
          "base_uri": "https://localhost:8080/"
        },
        "outputId": "b5b9dfa8-88d8-43d8-8797-45a1909bb0c8"
      },
      "source": [
        "cross_val_score(rfc, pca_result, y, cv=5).mean().round(4)"
      ],
      "execution_count": null,
      "outputs": [
        {
          "output_type": "execute_result",
          "data": {
            "text/plain": [
              "0.9315"
            ]
          },
          "metadata": {
            "tags": []
          },
          "execution_count": 42
        }
      ]
    },
    {
      "cell_type": "markdown",
      "metadata": {
        "id": "ve1r8Ep0uJFK"
      },
      "source": [
        "## 6개의 주성분만 사용하여 분류를 수행"
      ]
    },
    {
      "cell_type": "code",
      "metadata": {
        "id": "hpWPL4NeuJFL",
        "colab": {
          "base_uri": "https://localhost:8080/"
        },
        "outputId": "b2b4f2cf-ee4a-4810-d11f-80fd8fe9613b"
      },
      "source": [
        "pca = PCA(n_components=6)\n",
        "pca_result = pca.fit_transform(X_all)\n",
        "cross_val_score(rfc, pca_result, y, cv=5).mean().round(4)"
      ],
      "execution_count": null,
      "outputs": [
        {
          "output_type": "execute_result",
          "data": {
            "text/plain": [
              "0.949"
            ]
          },
          "metadata": {
            "tags": []
          },
          "execution_count": 43
        }
      ]
    },
    {
      "cell_type": "markdown",
      "metadata": {
        "id": "ErmOnHVo4jOd"
      },
      "source": [
        "### 앞의 selectPercentile 보다 성능이 개선됨"
      ]
    },
    {
      "cell_type": "markdown",
      "metadata": {
        "id": "o564vbsn4jOd"
      },
      "source": [
        "# tSNE():\n",
        "- 고차원의 데이터를 저차원으로 축소. visualization tool\n",
        "- 고차원 공간에서 유클리드 거리를 데이터 포인트의 유사성을 표현하는 조건부 확률로 변환하는 방법\n",
        "- t-Distributed Stochastic Neighbor Embedding (t-SNE) is an unsupervised, non-linear technique primarily used for data exploration and visualizing high-dimensional data. In simpler terms, t-SNE gives you a feel or intuition of how the data is arranged in a high-dimensional space."
      ]
    },
    {
      "cell_type": "markdown",
      "metadata": {
        "id": "jO0pBPYauJFR"
      },
      "source": [
        "## tSNE 시각화\n",
        "- n_components: Dimension of the embedded space\n",
        "- perplexity: float, optional (default: 30) : The perplexity is related to the number of nearest neighbors that is used in other manifold learning algorithms. Larger datasets usually require a larger perplexity. Consider selecting a value between 5 and 50. Different values can result in significanlty different results.(당혹, 곤혹), 데이터 점 xi의 유효한 근방의 개수의 척도"
      ]
    },
    {
      "cell_type": "code",
      "metadata": {
        "id": "rO41E334uJFS",
        "colab": {
          "base_uri": "https://localhost:8080/"
        },
        "outputId": "98976e08-e9e8-41fa-dd6f-c506906a4384"
      },
      "source": [
        "tsne = TSNE(n_components=2, verbose=1, perplexity=40, n_iter=1000)\n",
        "tsne_results = tsne.fit_transform(cancer.data)"
      ],
      "execution_count": null,
      "outputs": [
        {
          "output_type": "stream",
          "text": [
            "[t-SNE] Computing 121 nearest neighbors...\n",
            "[t-SNE] Indexed 569 samples in 0.006s...\n",
            "[t-SNE] Computed neighbors for 569 samples in 0.022s...\n",
            "[t-SNE] Computed conditional probabilities for sample 569 / 569\n",
            "[t-SNE] Mean sigma: 33.679708\n",
            "[t-SNE] KL divergence after 250 iterations with early exaggeration: 48.537079\n",
            "[t-SNE] KL divergence after 1000 iterations: 0.210295\n"
          ],
          "name": "stdout"
        }
      ]
    },
    {
      "cell_type": "code",
      "metadata": {
        "id": "8ZNKi2H1uJFW",
        "colab": {
          "base_uri": "https://localhost:8080/",
          "height": 374
        },
        "outputId": "134c3dc3-929d-4c24-862b-ff20cf288aca"
      },
      "source": [
        "m = ['v','o']\n",
        "c = ['r','b']\n",
        "plt.figure(figsize=(8,6))\n",
        "for i in range(len(y)):\n",
        "    plt.scatter(tsne_results[:,0][i],tsne_results[:,1][i], marker=m[y[i]], c=c[y[i]], s=5)\n",
        "plt.show()"
      ],
      "execution_count": null,
      "outputs": [
        {
          "output_type": "display_data",
          "data": {
            "image/png": "[encoded data removed]",
            "text/plain": [
              "<Figure size 576x432 with 1 Axes>"
            ]
          },
          "metadata": {
            "tags": [],
            "needs_background": "light"
          }
        }
      ]
    },
    {
      "cell_type": "markdown",
      "metadata": {
        "id": "jV56k7qEuJFZ"
      },
      "source": [
        "### 표준화 후 시각화"
      ]
    },
    {
      "cell_type": "code",
      "metadata": {
        "id": "KGpq6HO_uJFa",
        "colab": {
          "base_uri": "https://localhost:8080/"
        },
        "outputId": "8a2935ee-591d-4f6f-8709-fd08dfef48d4"
      },
      "source": [
        "tsne = TSNE(n_components=2, verbose=1, perplexity=40, n_iter=1000)\n",
        "tsne_results = tsne.fit_transform(X_all)"
      ],
      "execution_count": null,
      "outputs": [
        {
          "output_type": "stream",
          "text": [
            "[t-SNE] Computing 121 nearest neighbors...\n",
            "[t-SNE] Indexed 569 samples in 0.001s...\n",
            "[t-SNE] Computed neighbors for 569 samples in 0.040s...\n",
            "[t-SNE] Computed conditional probabilities for sample 569 / 569\n",
            "[t-SNE] Mean sigma: 1.522404\n",
            "[t-SNE] KL divergence after 250 iterations with early exaggeration: 63.884438\n",
            "[t-SNE] KL divergence after 1000 iterations: 0.884536\n"
          ],
          "name": "stdout"
        }
      ]
    },
    {
      "cell_type": "code",
      "metadata": {
        "id": "yEHImKxGuJFd",
        "colab": {
          "base_uri": "https://localhost:8080/",
          "height": 374
        },
        "outputId": "dd13eaac-7d60-407b-b5f8-3e6343ba4227"
      },
      "source": [
        "m = ['v','o']\n",
        "c = ['r','b']\n",
        "plt.figure(figsize=(8,6))\n",
        "for i in range(len(y)):\n",
        "    plt.scatter(tsne_results[:,0][i],tsne_results[:,1][i], marker=m[y[i]], c=c[y[i]], s=5)\n",
        "plt.show()"
      ],
      "execution_count": null,
      "outputs": [
        {
          "output_type": "display_data",
          "data": {
            "image/png": "[encoded data removed]",
            "text/plain": [
              "<Figure size 576x432 with 1 Axes>"
            ]
          },
          "metadata": {
            "tags": [],
            "needs_background": "light"
          }
        }
      ]
    },
    {
      "cell_type": "code",
      "metadata": {
        "id": "1u15WcLV4jOe"
      },
      "source": [
        ""
      ],
      "execution_count": null,
      "outputs": []
    }
  ]
}