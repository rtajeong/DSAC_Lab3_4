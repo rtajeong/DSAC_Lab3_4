{
  "nbformat": 4,
  "nbformat_minor": 0,
  "metadata": {
    "colab": {
      "name": "lab43_ridge_lasso_rev2.ipynb의 사본",
      "provenance": [],
      "collapsed_sections": [],
      "include_colab_link": true
    },
    "kernelspec": {
      "display_name": "Python 3",
      "language": "python",
      "name": "python3"
    },
    "language_info": {
      "codemirror_mode": {
        "name": "ipython",
        "version": 3
      },
      "file_extension": ".py",
      "mimetype": "text/x-python",
      "name": "python",
      "nbconvert_exporter": "python",
      "pygments_lexer": "ipython3",
      "version": "3.6.8"
    }
  },
  "cells": [
    {
      "cell_type": "markdown",
      "metadata": {
        "id": "view-in-github",
        "colab_type": "text"
      },
      "source": [
        "<a href=\"https://colab.research.google.com/github/rtajeong/DSAC_Lab3_4/blob/master/lab43_ridge_lasso_rev2_ipynb%EC%9D%98_%EC%82%AC%EB%B3%B8.ipynb\" target=\"_parent\"><img src=\"https://colab.research.google.com/assets/colab-badge.svg\" alt=\"Open In Colab\"/></a>"
      ]
    },
    {
      "cell_type": "markdown",
      "metadata": {
        "id": "H_LIFRXVImhj"
      },
      "source": [
        "# 슈퍼마켓 매출을 예측하는 선형모델 비교"
      ]
    },
    {
      "cell_type": "markdown",
      "metadata": {
        "id": "raGBsxms3XN2"
      },
      "source": [
        "## 데이터 받기\n",
        "- 아래 사이트에서 로그인하고 register를 선택하면 데이터 다운로드 가능\n",
        "- 데이터는 인도의 슈퍼마켓의 매출 기록 샘플이며 훈련데이터 8523개와 테스트 데이터 5681개를 제공함\n",
        "- https://datahack.analyticsvidhya.com/contest/practice-problem-big-mart-sales-iii/\n",
        "- 훈련 데이터 사본: https://bit.ly/2HsDP2p\n",
        "- 테스트 데이터 사본: https://bit.ly/2WgqtdO"
      ]
    },
    {
      "cell_type": "code",
      "metadata": {
        "id": "SA31FUmpImhk"
      },
      "source": [
        "import numpy as np\n",
        "import pandas as pd\n",
        "from pandas import Series, DataFrame\n",
        "from sklearn.model_selection import train_test_split\n",
        "import matplotlib.pyplot as plt"
      ],
      "execution_count": null,
      "outputs": []
    },
    {
      "cell_type": "code",
      "metadata": {
        "colab": {
          "base_uri": "https://localhost:8080/"
        },
        "id": "INE7D12fJAtA",
        "outputId": "0c6ae070-da73-4dee-8ceb-7b104f67b291"
      },
      "source": [
        "!curl -L https://bit.ly/2HsDP2p -o Train_UWu5bXk.txt\n",
        "!curl -L https://bit.ly/2WgqtdO -o Test_u94Q5KV.txt"
      ],
      "execution_count": null,
      "outputs": [
        {
          "output_type": "stream",
          "text": [
            "  % Total    % Received % Xferd  Average Speed   Time    Time     Time  Current\n",
            "                                 Dload  Upload   Total   Spent    Left  Speed\n",
            "100   146  100   146    0     0   1896      0 --:--:-- --:--:-- --:--:--  1896\n",
            "  0     0    0     0    0     0      0      0 --:--:-- --:--:-- --:--:--     0\n",
            "  0     0    0     0    0     0      0      0 --:--:-- --:--:-- --:--:--     0\n",
            "100  849k  100  849k    0     0   753k      0  0:00:01  0:00:01 --:--:-- 2490k\n",
            "  % Total    % Received % Xferd  Average Speed   Time    Time     Time  Current\n",
            "                                 Dload  Upload   Total   Spent    Left  Speed\n",
            "100   145  100   145    0     0   3295      0 --:--:-- --:--:-- --:--:--  3295\n",
            "  0     0    0     0    0     0      0      0 --:--:-- --:--:-- --:--:--     0\n",
            "  0     0    0     0    0     0      0      0 --:--:-- --:--:-- --:--:--     0\n",
            "100  515k  100  515k    0     0   548k      0 --:--:-- --:--:-- --:--:-- 1195k\n"
          ],
          "name": "stdout"
        }
      ]
    },
    {
      "cell_type": "code",
      "metadata": {
        "id": "zZQpjEeWImho"
      },
      "source": [
        "# 슈퍼마켓 매출 데이터 읽기, 먼저 위의 사이트에 가서 등록을 하고 다운로드 받아야 함\n",
        "train = pd.read_csv('Train_UWu5bXk.txt')\n",
        "test = pd.read_csv('Test_u94Q5KV.txt')"
      ],
      "execution_count": null,
      "outputs": []
    },
    {
      "cell_type": "code",
      "metadata": {
        "colab": {
          "base_uri": "https://localhost:8080/"
        },
        "id": "PrRR8fZvImhq",
        "outputId": "a486c093-cdd7-47dd-ae81-e16dc6e8b722"
      },
      "source": [
        "train.shape, test.shape"
      ],
      "execution_count": null,
      "outputs": [
        {
          "output_type": "execute_result",
          "data": {
            "text/plain": [
              "((8523, 12), (5681, 11))"
            ]
          },
          "metadata": {
            "tags": []
          },
          "execution_count": 5
        }
      ]
    },
    {
      "cell_type": "code",
      "metadata": {
        "colab": {
          "base_uri": "https://localhost:8080/",
          "height": 421
        },
        "id": "bOCkBj_XImhw",
        "outputId": "84802fe1-023a-42c0-db5f-519fbbb7d419"
      },
      "source": [
        "train.head().T"
      ],
      "execution_count": null,
      "outputs": [
        {
          "output_type": "execute_result",
          "data": {
            "text/html": [
              "<div>\n",
              "<style scoped>\n",
              "    .dataframe tbody tr th:only-of-type {\n",
              "        vertical-align: middle;\n",
              "    }\n",
              "\n",
              "    .dataframe tbody tr th {\n",
              "        vertical-align: top;\n",
              "    }\n",
              "\n",
              "    .dataframe thead th {\n",
              "        text-align: right;\n",
              "    }\n",
              "</style>\n",
              "<table border=\"1\" class=\"dataframe\">\n",
              "  <thead>\n",
              "    <tr style=\"text-align: right;\">\n",
              "      <th></th>\n",
              "      <th>0</th>\n",
              "      <th>1</th>\n",
              "      <th>2</th>\n",
              "      <th>3</th>\n",
              "      <th>4</th>\n",
              "    </tr>\n",
              "  </thead>\n",
              "  <tbody>\n",
              "    <tr>\n",
              "      <th>Item_Identifier</th>\n",
              "      <td>FDA15</td>\n",
              "      <td>DRC01</td>\n",
              "      <td>FDN15</td>\n",
              "      <td>FDX07</td>\n",
              "      <td>NCD19</td>\n",
              "    </tr>\n",
              "    <tr>\n",
              "      <th>Item_Weight</th>\n",
              "      <td>9.3</td>\n",
              "      <td>5.92</td>\n",
              "      <td>17.5</td>\n",
              "      <td>19.2</td>\n",
              "      <td>8.93</td>\n",
              "    </tr>\n",
              "    <tr>\n",
              "      <th>Item_Fat_Content</th>\n",
              "      <td>Low Fat</td>\n",
              "      <td>Regular</td>\n",
              "      <td>Low Fat</td>\n",
              "      <td>Regular</td>\n",
              "      <td>Low Fat</td>\n",
              "    </tr>\n",
              "    <tr>\n",
              "      <th>Item_Visibility</th>\n",
              "      <td>0.0160473</td>\n",
              "      <td>0.0192782</td>\n",
              "      <td>0.0167601</td>\n",
              "      <td>0</td>\n",
              "      <td>0</td>\n",
              "    </tr>\n",
              "    <tr>\n",
              "      <th>Item_Type</th>\n",
              "      <td>Dairy</td>\n",
              "      <td>Soft Drinks</td>\n",
              "      <td>Meat</td>\n",
              "      <td>Fruits and Vegetables</td>\n",
              "      <td>Household</td>\n",
              "    </tr>\n",
              "    <tr>\n",
              "      <th>Item_MRP</th>\n",
              "      <td>249.809</td>\n",
              "      <td>48.2692</td>\n",
              "      <td>141.618</td>\n",
              "      <td>182.095</td>\n",
              "      <td>53.8614</td>\n",
              "    </tr>\n",
              "    <tr>\n",
              "      <th>Outlet_Identifier</th>\n",
              "      <td>OUT049</td>\n",
              "      <td>OUT018</td>\n",
              "      <td>OUT049</td>\n",
              "      <td>OUT010</td>\n",
              "      <td>OUT013</td>\n",
              "    </tr>\n",
              "    <tr>\n",
              "      <th>Outlet_Establishment_Year</th>\n",
              "      <td>1999</td>\n",
              "      <td>2009</td>\n",
              "      <td>1999</td>\n",
              "      <td>1998</td>\n",
              "      <td>1987</td>\n",
              "    </tr>\n",
              "    <tr>\n",
              "      <th>Outlet_Size</th>\n",
              "      <td>Medium</td>\n",
              "      <td>Medium</td>\n",
              "      <td>Medium</td>\n",
              "      <td>NaN</td>\n",
              "      <td>High</td>\n",
              "    </tr>\n",
              "    <tr>\n",
              "      <th>Outlet_Location_Type</th>\n",
              "      <td>Tier 1</td>\n",
              "      <td>Tier 3</td>\n",
              "      <td>Tier 1</td>\n",
              "      <td>Tier 3</td>\n",
              "      <td>Tier 3</td>\n",
              "    </tr>\n",
              "    <tr>\n",
              "      <th>Outlet_Type</th>\n",
              "      <td>Supermarket Type1</td>\n",
              "      <td>Supermarket Type2</td>\n",
              "      <td>Supermarket Type1</td>\n",
              "      <td>Grocery Store</td>\n",
              "      <td>Supermarket Type1</td>\n",
              "    </tr>\n",
              "    <tr>\n",
              "      <th>Item_Outlet_Sales</th>\n",
              "      <td>3735.14</td>\n",
              "      <td>443.423</td>\n",
              "      <td>2097.27</td>\n",
              "      <td>732.38</td>\n",
              "      <td>994.705</td>\n",
              "    </tr>\n",
              "  </tbody>\n",
              "</table>\n",
              "</div>"
            ],
            "text/plain": [
              "                                           0  ...                  4\n",
              "Item_Identifier                        FDA15  ...              NCD19\n",
              "Item_Weight                              9.3  ...               8.93\n",
              "Item_Fat_Content                     Low Fat  ...            Low Fat\n",
              "Item_Visibility                    0.0160473  ...                  0\n",
              "Item_Type                              Dairy  ...          Household\n",
              "Item_MRP                             249.809  ...            53.8614\n",
              "Outlet_Identifier                     OUT049  ...             OUT013\n",
              "Outlet_Establishment_Year               1999  ...               1987\n",
              "Outlet_Size                           Medium  ...               High\n",
              "Outlet_Location_Type                  Tier 1  ...             Tier 3\n",
              "Outlet_Type                Supermarket Type1  ...  Supermarket Type1\n",
              "Item_Outlet_Sales                    3735.14  ...            994.705\n",
              "\n",
              "[12 rows x 5 columns]"
            ]
          },
          "metadata": {
            "tags": []
          },
          "execution_count": 8
        }
      ]
    },
    {
      "cell_type": "code",
      "metadata": {
        "colab": {
          "base_uri": "https://localhost:8080/"
        },
        "id": "K1dCPCFIImhz",
        "outputId": "fea2881a-9a58-40a4-8232-831fc7aed4c1"
      },
      "source": [
        "train.info()"
      ],
      "execution_count": null,
      "outputs": [
        {
          "output_type": "stream",
          "text": [
            "<class 'pandas.core.frame.DataFrame'>\n",
            "RangeIndex: 8523 entries, 0 to 8522\n",
            "Data columns (total 12 columns):\n",
            " #   Column                     Non-Null Count  Dtype  \n",
            "---  ------                     --------------  -----  \n",
            " 0   Item_Identifier            8523 non-null   object \n",
            " 1   Item_Weight                7060 non-null   float64\n",
            " 2   Item_Fat_Content           8523 non-null   object \n",
            " 3   Item_Visibility            8523 non-null   float64\n",
            " 4   Item_Type                  8523 non-null   object \n",
            " 5   Item_MRP                   8523 non-null   float64\n",
            " 6   Outlet_Identifier          8523 non-null   object \n",
            " 7   Outlet_Establishment_Year  8523 non-null   int64  \n",
            " 8   Outlet_Size                6113 non-null   object \n",
            " 9   Outlet_Location_Type       8523 non-null   object \n",
            " 10  Outlet_Type                8523 non-null   object \n",
            " 11  Item_Outlet_Sales          8523 non-null   float64\n",
            "dtypes: float64(4), int64(1), object(7)\n",
            "memory usage: 799.2+ KB\n"
          ],
          "name": "stdout"
        }
      ]
    },
    {
      "cell_type": "code",
      "metadata": {
        "colab": {
          "base_uri": "https://localhost:8080/"
        },
        "id": "VBEuKzVmjSvK",
        "outputId": "738f3f26-0ff1-4cca-d3ee-0ce16c642fd5"
      },
      "source": [
        "test.columns"
      ],
      "execution_count": null,
      "outputs": [
        {
          "output_type": "execute_result",
          "data": {
            "text/plain": [
              "Index(['Item_Identifier', 'Item_Weight', 'Item_Fat_Content', 'Item_Visibility',\n",
              "       'Item_Type', 'Item_MRP', 'Outlet_Identifier',\n",
              "       'Outlet_Establishment_Year', 'Outlet_Size', 'Outlet_Location_Type',\n",
              "       'Outlet_Type'],\n",
              "      dtype='object')"
            ]
          },
          "metadata": {
            "tags": []
          },
          "execution_count": 10
        }
      ]
    },
    {
      "cell_type": "markdown",
      "metadata": {
        "id": "el-73OosTMMz"
      },
      "source": [
        "## 두 개의 입력 특성 사용\r\n",
        "- 매장 개장 연도와 추천가격(Item_MRP)"
      ]
    },
    {
      "cell_type": "code",
      "metadata": {
        "id": "bsLHcw3hImh3"
      },
      "source": [
        "# 데이터 나누기\n",
        "X, y = train.loc[:,['Outlet_Establishment_Year','Item_MRP']], train['Item_Outlet_Sales']"
      ],
      "execution_count": null,
      "outputs": []
    },
    {
      "cell_type": "code",
      "metadata": {
        "colab": {
          "base_uri": "https://localhost:8080/"
        },
        "id": "JRMxCrbwImh6",
        "outputId": "76c85709-5399-43d3-9f3f-38894fbfc471"
      },
      "source": [
        "# 선형회귀 모델\n",
        "# 예측 특성으로 매장 개장 연도와 추천가격(Item_MRP) 두 개만 사용하는 경우\n",
        "\n",
        "from sklearn.linear_model import LinearRegression\n",
        "lreg = LinearRegression()\n",
        "\n",
        "np.random.seed(7)\n",
        "x_train, x_test, y_train, y_test = train_test_split(X,y, test_size =0.3)\n",
        "lreg.fit(x_train,y_train)\n",
        "pred = lreg.predict(x_test)\n",
        "# 오차 자승의 평균, mse 계산\n",
        "mse = np.mean((pred - y_test)**2)\n",
        "# mse와 rmse 출력\n",
        "print(mse, mse**(0.5))\n",
        "print(lreg.score(x_test, y_test))"
      ],
      "execution_count": null,
      "outputs": [
        {
          "output_type": "stream",
          "text": [
            "1990314.4086564458 1410.7850327588699\n",
            "0.3242020337746537\n"
          ],
          "name": "stdout"
        }
      ]
    },
    {
      "cell_type": "code",
      "metadata": {
        "colab": {
          "base_uri": "https://localhost:8080/"
        },
        "id": "vl0qNU1HTMMz",
        "outputId": "032a90ab-4baa-4f43-b80f-a20e841efeb4"
      },
      "source": [
        "lreg.coef_, x_train.columns"
      ],
      "execution_count": null,
      "outputs": [
        {
          "output_type": "execute_result",
          "data": {
            "text/plain": [
              "(array([-9.63343761, 15.64158088]),\n",
              " Index(['Outlet_Establishment_Year', 'Item_MRP'], dtype='object'))"
            ]
          },
          "metadata": {
            "tags": []
          },
          "execution_count": 14
        }
      ]
    },
    {
      "cell_type": "code",
      "metadata": {
        "colab": {
          "base_uri": "https://localhost:8080/",
          "height": 111
        },
        "id": "N7MrnxfpImh-",
        "outputId": "d4e07e5d-1dc2-427b-976c-d2c887e3436b"
      },
      "source": [
        "# 선형모델 계수 출력\n",
        "\n",
        "coeff = DataFrame(x_train.columns)\n",
        "coeff['Coefficient Estimate'] = Series(lreg.coef_)\n",
        "coeff"
      ],
      "execution_count": null,
      "outputs": [
        {
          "output_type": "execute_result",
          "data": {
            "text/html": [
              "<div>\n",
              "<style scoped>\n",
              "    .dataframe tbody tr th:only-of-type {\n",
              "        vertical-align: middle;\n",
              "    }\n",
              "\n",
              "    .dataframe tbody tr th {\n",
              "        vertical-align: top;\n",
              "    }\n",
              "\n",
              "    .dataframe thead th {\n",
              "        text-align: right;\n",
              "    }\n",
              "</style>\n",
              "<table border=\"1\" class=\"dataframe\">\n",
              "  <thead>\n",
              "    <tr style=\"text-align: right;\">\n",
              "      <th></th>\n",
              "      <th>0</th>\n",
              "      <th>Coefficient Estimate</th>\n",
              "    </tr>\n",
              "  </thead>\n",
              "  <tbody>\n",
              "    <tr>\n",
              "      <th>0</th>\n",
              "      <td>Outlet_Establishment_Year</td>\n",
              "      <td>-9.633438</td>\n",
              "    </tr>\n",
              "    <tr>\n",
              "      <th>1</th>\n",
              "      <td>Item_MRP</td>\n",
              "      <td>15.641581</td>\n",
              "    </tr>\n",
              "  </tbody>\n",
              "</table>\n",
              "</div>"
            ],
            "text/plain": [
              "                           0  Coefficient Estimate\n",
              "0  Outlet_Establishment_Year             -9.633438\n",
              "1                   Item_MRP             15.641581"
            ]
          },
          "metadata": {
            "tags": []
          },
          "execution_count": 15
        }
      ]
    },
    {
      "cell_type": "code",
      "metadata": {
        "colab": {
          "base_uri": "https://localhost:8080/",
          "height": 283
        },
        "id": "eBu8cn53ImiB",
        "scrolled": true,
        "outputId": "5ac929c0-1d3a-4144-a09f-1fca2ac64014"
      },
      "source": [
        "plt.scatter(train.Item_MRP, train.Item_Outlet_Sales, s=0.1)"
      ],
      "execution_count": null,
      "outputs": [
        {
          "output_type": "execute_result",
          "data": {
            "text/plain": [
              "<matplotlib.collections.PathCollection at 0x7fa7af676ef0>"
            ]
          },
          "metadata": {
            "tags": []
          },
          "execution_count": 16
        },
        {
          "output_type": "display_data",
          "data": {
            "image/png": "[encoded data removed]",
            "text/plain": [
              "<Figure size 432x288 with 1 Axes>"
            ]
          },
          "metadata": {
            "tags": [],
            "needs_background": "light"
          }
        }
      ]
    },
    {
      "cell_type": "code",
      "metadata": {
        "colab": {
          "base_uri": "https://localhost:8080/",
          "height": 283
        },
        "id": "FS5II2LeImiI",
        "outputId": "e712de42-84a3-4768-9e0d-1f2887dc3306"
      },
      "source": [
        "plt.scatter(train.Outlet_Establishment_Year, train.Item_Outlet_Sales, s=0.1)"
      ],
      "execution_count": null,
      "outputs": [
        {
          "output_type": "execute_result",
          "data": {
            "text/plain": [
              "<matplotlib.collections.PathCollection at 0x7fa7af1d15c0>"
            ]
          },
          "metadata": {
            "tags": []
          },
          "execution_count": 17
        },
        {
          "output_type": "display_data",
          "data": {
            "image/png": "[encoded data removed]",
            "text/plain": [
              "<Figure size 432x288 with 1 Axes>"
            ]
          },
          "metadata": {
            "tags": [],
            "needs_background": "light"
          }
        }
      ]
    },
    {
      "cell_type": "markdown",
      "metadata": {
        "id": "WRZfXm84TMM0"
      },
      "source": [
        "- 매출이 설립된 연도에는 음의 관계,  상품가격에는 양의 관계."
      ]
    },
    {
      "cell_type": "code",
      "metadata": {
        "colab": {
          "base_uri": "https://localhost:8080/"
        },
        "id": "NpZKQfUbImiM",
        "outputId": "e31b1104-f870-4bf7-a8e4-bfba5de1d7b6"
      },
      "source": [
        "## 성능 평가 R squared\n",
        "# 이 모델이 분산의 32%를 설명한다\n",
        "lreg.score(x_test,y_test)"
      ],
      "execution_count": null,
      "outputs": [
        {
          "output_type": "execute_result",
          "data": {
            "text/plain": [
              "0.3242020337746537"
            ]
          },
          "metadata": {
            "tags": []
          },
          "execution_count": 18
        }
      ]
    },
    {
      "cell_type": "markdown",
      "metadata": {
        "id": "0GvaAzYsImiP"
      },
      "source": [
        "## 데이터 전체 사용"
      ]
    },
    {
      "cell_type": "code",
      "metadata": {
        "colab": {
          "base_uri": "https://localhost:8080/"
        },
        "id": "A982B432ImiQ",
        "scrolled": true,
        "outputId": "149c1fb1-bfb0-4c40-c047-85a48ac4c321"
      },
      "source": [
        "train.isna().sum()"
      ],
      "execution_count": null,
      "outputs": [
        {
          "output_type": "execute_result",
          "data": {
            "text/plain": [
              "Item_Identifier                 0\n",
              "Item_Weight                  1463\n",
              "Item_Fat_Content                0\n",
              "Item_Visibility                 0\n",
              "Item_Type                       0\n",
              "Item_MRP                        0\n",
              "Outlet_Identifier               0\n",
              "Outlet_Establishment_Year       0\n",
              "Outlet_Size                  2410\n",
              "Outlet_Location_Type            0\n",
              "Outlet_Type                     0\n",
              "Item_Outlet_Sales               0\n",
              "dtype: int64"
            ]
          },
          "metadata": {
            "tags": []
          },
          "execution_count": 20
        }
      ]
    },
    {
      "cell_type": "code",
      "metadata": {
        "id": "fUK0WtQjImiV"
      },
      "source": [
        "# 무게를 평균치로 대체\n",
        "train['Item_Weight'].fillna((train['Item_Weight'].mean()), inplace=True)"
      ],
      "execution_count": null,
      "outputs": []
    },
    {
      "cell_type": "code",
      "metadata": {
        "id": "aOtUaYxfImiZ",
        "colab": {
          "base_uri": "https://localhost:8080/"
        },
        "outputId": "bf06983a-de5e-48d3-ef46-f8f08365c652"
      },
      "source": [
        "train.Item_Visibility.value_counts().head(10) # 상품의 가시성"
      ],
      "execution_count": null,
      "outputs": [
        {
          "output_type": "execute_result",
          "data": {
            "text/plain": [
              "0.000000    526\n",
              "0.076975      3\n",
              "0.041283      2\n",
              "0.085622      2\n",
              "0.187841      2\n",
              "0.134976      2\n",
              "0.107224      2\n",
              "0.085275      2\n",
              "0.076856      2\n",
              "0.059836      2\n",
              "Name: Item_Visibility, dtype: int64"
            ]
          },
          "metadata": {
            "tags": []
          },
          "execution_count": 27
        }
      ]
    },
    {
      "cell_type": "code",
      "metadata": {
        "colab": {
          "base_uri": "https://localhost:8080/",
          "height": 283
        },
        "id": "tm-YKO8SImic",
        "scrolled": true,
        "outputId": "6afd75aa-2577-461f-aa20-f27fb08826fc"
      },
      "source": [
        "train.Item_Visibility.hist(bins=100)"
      ],
      "execution_count": null,
      "outputs": [
        {
          "output_type": "execute_result",
          "data": {
            "text/plain": [
              "<matplotlib.axes._subplots.AxesSubplot at 0x7fa7af1584a8>"
            ]
          },
          "metadata": {
            "tags": []
          },
          "execution_count": 28
        },
        {
          "output_type": "display_data",
          "data": {
            "image/png": "[encoded data removed]",
            "text/plain": [
              "<Figure size 432x288 with 1 Axes>"
            ]
          },
          "metadata": {
            "tags": [],
            "needs_background": "light"
          }
        }
      ]
    },
    {
      "cell_type": "markdown",
      "metadata": {
        "id": "M_HUShO2TMM1"
      },
      "source": [
        "- 결측치는 아니지만 값이 0 이 많다. 실제로는 결측치로 보고 평균치로 대체"
      ]
    },
    {
      "cell_type": "code",
      "metadata": {
        "id": "PZvSBZweImig"
      },
      "source": [
        "# 0을 평균치로 대체\n",
        "train['Item_Visibility'] = train['Item_Visibility'].replace(0,np.mean(train['Item_Visibility']))"
      ],
      "execution_count": null,
      "outputs": []
    },
    {
      "cell_type": "code",
      "metadata": {
        "colab": {
          "base_uri": "https://localhost:8080/",
          "height": 283
        },
        "id": "dbfcWdINImil",
        "outputId": "3b6ac5fc-d4d3-446e-8ecc-b722c9f7291f"
      },
      "source": [
        "train.Item_Visibility.hist(bins=100)"
      ],
      "execution_count": null,
      "outputs": [
        {
          "output_type": "execute_result",
          "data": {
            "text/plain": [
              "<matplotlib.axes._subplots.AxesSubplot at 0x7fa7aef694e0>"
            ]
          },
          "metadata": {
            "tags": []
          },
          "execution_count": 30
        },
        {
          "output_type": "display_data",
          "data": {
            "image/png": "[encoded data removed]",
            "text/plain": [
              "<Figure size 432x288 with 1 Axes>"
            ]
          },
          "metadata": {
            "tags": [],
            "needs_background": "light"
          }
        }
      ]
    },
    {
      "cell_type": "code",
      "metadata": {
        "colab": {
          "base_uri": "https://localhost:8080/"
        },
        "id": "O8vmug--Imit",
        "outputId": "0caae52b-4247-4fda-c082-30264fbcb8a7"
      },
      "source": [
        "train.Outlet_Establishment_Year.value_counts()"
      ],
      "execution_count": null,
      "outputs": [
        {
          "output_type": "execute_result",
          "data": {
            "text/plain": [
              "1985    1463\n",
              "1987     932\n",
              "1999     930\n",
              "1997     930\n",
              "2004     930\n",
              "2002     929\n",
              "2009     928\n",
              "2007     926\n",
              "1998     555\n",
              "Name: Outlet_Establishment_Year, dtype: int64"
            ]
          },
          "metadata": {
            "tags": []
          },
          "execution_count": 31
        }
      ]
    },
    {
      "cell_type": "code",
      "metadata": {
        "colab": {
          "base_uri": "https://localhost:8080/",
          "height": 283
        },
        "id": "O03ivxkmImix",
        "outputId": "ba1ac909-ede8-4c63-b2c1-878d7253e2f1"
      },
      "source": [
        "train.Outlet_Establishment_Year.hist(bins=50)"
      ],
      "execution_count": null,
      "outputs": [
        {
          "output_type": "execute_result",
          "data": {
            "text/plain": [
              "<matplotlib.axes._subplots.AxesSubplot at 0x7fa7aee441d0>"
            ]
          },
          "metadata": {
            "tags": []
          },
          "execution_count": 32
        },
        {
          "output_type": "display_data",
          "data": {
            "image/png": "[encoded data removed]",
            "text/plain": [
              "<Figure size 432x288 with 1 Axes>"
            ]
          },
          "metadata": {
            "tags": [],
            "needs_background": "light"
          }
        }
      ]
    },
    {
      "cell_type": "markdown",
      "metadata": {
        "id": "x8gkwhppTMM1"
      },
      "source": [
        "- 설립연도보다는 설립연도 후 경과한 연수로 바꾸는 게 좋겠다."
      ]
    },
    {
      "cell_type": "code",
      "metadata": {
        "id": "_QFenCeGImi0"
      },
      "source": [
        "# 연도를 설립 기간으로 대체 (의미 있는 수치로 대체))\n",
        "train['Outlet_Establishment_Year'] = 2013 - train['Outlet_Establishment_Year']"
      ],
      "execution_count": null,
      "outputs": []
    },
    {
      "cell_type": "code",
      "metadata": {
        "colab": {
          "base_uri": "https://localhost:8080/",
          "height": 283
        },
        "id": "x9AMiH6WImi3",
        "outputId": "73854e1b-79ae-465b-9d07-0d95be917d5e"
      },
      "source": [
        "train.Outlet_Establishment_Year.hist(bins=50)"
      ],
      "execution_count": null,
      "outputs": [
        {
          "output_type": "execute_result",
          "data": {
            "text/plain": [
              "<matplotlib.axes._subplots.AxesSubplot at 0x7fa7aed879b0>"
            ]
          },
          "metadata": {
            "tags": []
          },
          "execution_count": 34
        },
        {
          "output_type": "display_data",
          "data": {
            "image/png": "[encoded data removed]",
            "text/plain": [
              "<Figure size 432x288 with 1 Axes>"
            ]
          },
          "metadata": {
            "tags": [],
            "needs_background": "light"
          }
        }
      ]
    },
    {
      "cell_type": "code",
      "metadata": {
        "colab": {
          "base_uri": "https://localhost:8080/"
        },
        "id": "lxFx3_XaImi6",
        "outputId": "76c2b9ba-cb3f-43d8-870c-05c8a59e04e8"
      },
      "source": [
        "train.Outlet_Size.isnull().sum()"
      ],
      "execution_count": null,
      "outputs": [
        {
          "output_type": "execute_result",
          "data": {
            "text/plain": [
              "2410"
            ]
          },
          "metadata": {
            "tags": []
          },
          "execution_count": 22
        }
      ]
    },
    {
      "cell_type": "code",
      "metadata": {
        "colab": {
          "base_uri": "https://localhost:8080/"
        },
        "id": "a3gk2BLrImi9",
        "scrolled": true,
        "outputId": "e3c5c473-7f8e-442c-acf1-50d843a9755f"
      },
      "source": [
        "train.Outlet_Size.value_counts()"
      ],
      "execution_count": null,
      "outputs": [
        {
          "output_type": "execute_result",
          "data": {
            "text/plain": [
              "Medium    2793\n",
              "Small     2388\n",
              "High       932\n",
              "Name: Outlet_Size, dtype: int64"
            ]
          },
          "metadata": {
            "tags": []
          },
          "execution_count": 23
        }
      ]
    },
    {
      "cell_type": "markdown",
      "metadata": {
        "id": "7AnURhyuTMM1"
      },
      "source": [
        "- 결측치를 Small 매장으로 대체하겠다"
      ]
    },
    {
      "cell_type": "code",
      "metadata": {
        "id": "gZsbwui7ImjA"
      },
      "source": [
        "train['Outlet_Size'].fillna('Small',inplace=True) "
      ],
      "execution_count": null,
      "outputs": []
    },
    {
      "cell_type": "code",
      "metadata": {
        "colab": {
          "base_uri": "https://localhost:8080/"
        },
        "id": "dxlq1j-9ImjC",
        "outputId": "8016fb03-ab36-4a83-91fa-f1875cc9baff"
      },
      "source": [
        "train.Outlet_Size.value_counts()"
      ],
      "execution_count": null,
      "outputs": [
        {
          "output_type": "execute_result",
          "data": {
            "text/plain": [
              "Small     4798\n",
              "Medium    2793\n",
              "High       932\n",
              "Name: Outlet_Size, dtype: int64"
            ]
          },
          "metadata": {
            "tags": []
          },
          "execution_count": 26
        }
      ]
    },
    {
      "cell_type": "code",
      "metadata": {
        "colab": {
          "base_uri": "https://localhost:8080/"
        },
        "id": "PymUx9gWImjG",
        "outputId": "79f67c5a-251b-4aae-fe76-e0bfe1a46b34"
      },
      "source": [
        "train.isnull().sum()"
      ],
      "execution_count": null,
      "outputs": [
        {
          "output_type": "execute_result",
          "data": {
            "text/plain": [
              "Item_Identifier              0\n",
              "Item_Weight                  0\n",
              "Item_Fat_Content             0\n",
              "Item_Visibility              0\n",
              "Item_Type                    0\n",
              "Item_MRP                     0\n",
              "Outlet_Identifier            0\n",
              "Outlet_Establishment_Year    0\n",
              "Outlet_Size                  0\n",
              "Outlet_Location_Type         0\n",
              "Outlet_Type                  0\n",
              "Item_Outlet_Sales            0\n",
              "dtype: int64"
            ]
          },
          "metadata": {
            "tags": []
          },
          "execution_count": 29
        }
      ]
    },
    {
      "cell_type": "code",
      "metadata": {
        "id": "-DU6FQ8XImjK"
      },
      "source": [
        "# 상품명은 분석에서 제외\n",
        "train.drop(\"Item_Identifier\", axis=1, inplace=True)"
      ],
      "execution_count": null,
      "outputs": []
    },
    {
      "cell_type": "code",
      "metadata": {
        "colab": {
          "base_uri": "https://localhost:8080/"
        },
        "id": "MR6GUDq4TMM2",
        "outputId": "9600fed8-d3b6-4da9-c233-809c4b1bb73f"
      },
      "source": [
        "train.dtypes"
      ],
      "execution_count": null,
      "outputs": [
        {
          "output_type": "execute_result",
          "data": {
            "text/plain": [
              "Item_Weight                  float64\n",
              "Item_Fat_Content              object\n",
              "Item_Visibility              float64\n",
              "Item_Type                     object\n",
              "Item_MRP                     float64\n",
              "Outlet_Identifier             object\n",
              "Outlet_Establishment_Year      int64\n",
              "Outlet_Size                   object\n",
              "Outlet_Location_Type          object\n",
              "Outlet_Type                   object\n",
              "Item_Outlet_Sales            float64\n",
              "dtype: object"
            ]
          },
          "metadata": {
            "tags": []
          },
          "execution_count": 37
        }
      ]
    },
    {
      "cell_type": "code",
      "metadata": {
        "colab": {
          "base_uri": "https://localhost:8080/"
        },
        "id": "yXyrTORqImjM",
        "outputId": "057a5a68-2f55-414c-ef94-95f41f4df534"
      },
      "source": [
        "# 카테고리 변수 인코딩\n",
        "# 먼저 타입이 cobjet인 카테고리 변수의 리스트를 만든다.\n",
        "object_list = list(train.select_dtypes(include=['object']).columns)\n",
        "object_list"
      ],
      "execution_count": null,
      "outputs": [
        {
          "output_type": "execute_result",
          "data": {
            "text/plain": [
              "['Item_Fat_Content',\n",
              " 'Item_Type',\n",
              " 'Outlet_Identifier',\n",
              " 'Outlet_Size',\n",
              " 'Outlet_Location_Type',\n",
              " 'Outlet_Type']"
            ]
          },
          "metadata": {
            "tags": []
          },
          "execution_count": 38
        }
      ]
    },
    {
      "cell_type": "code",
      "metadata": {
        "id": "qUCBOcQfImjQ"
      },
      "source": [
        "dummies = pd.get_dummies(train[object_list], prefix= object_list)"
      ],
      "execution_count": null,
      "outputs": []
    },
    {
      "cell_type": "code",
      "metadata": {
        "colab": {
          "base_uri": "https://localhost:8080/",
          "height": 1000
        },
        "id": "bhL49LHnImjS",
        "outputId": "fe823c5a-8aa6-48ad-cad5-5d392ddbc2e4"
      },
      "source": [
        "dummies.head().T"
      ],
      "execution_count": null,
      "outputs": [
        {
          "output_type": "execute_result",
          "data": {
            "text/html": [
              "<div>\n",
              "<style scoped>\n",
              "    .dataframe tbody tr th:only-of-type {\n",
              "        vertical-align: middle;\n",
              "    }\n",
              "\n",
              "    .dataframe tbody tr th {\n",
              "        vertical-align: top;\n",
              "    }\n",
              "\n",
              "    .dataframe thead th {\n",
              "        text-align: right;\n",
              "    }\n",
              "</style>\n",
              "<table border=\"1\" class=\"dataframe\">\n",
              "  <thead>\n",
              "    <tr style=\"text-align: right;\">\n",
              "      <th></th>\n",
              "      <th>0</th>\n",
              "      <th>1</th>\n",
              "      <th>2</th>\n",
              "      <th>3</th>\n",
              "      <th>4</th>\n",
              "    </tr>\n",
              "  </thead>\n",
              "  <tbody>\n",
              "    <tr>\n",
              "      <th>Item_Fat_Content_LF</th>\n",
              "      <td>0</td>\n",
              "      <td>0</td>\n",
              "      <td>0</td>\n",
              "      <td>0</td>\n",
              "      <td>0</td>\n",
              "    </tr>\n",
              "    <tr>\n",
              "      <th>Item_Fat_Content_Low Fat</th>\n",
              "      <td>1</td>\n",
              "      <td>0</td>\n",
              "      <td>1</td>\n",
              "      <td>0</td>\n",
              "      <td>1</td>\n",
              "    </tr>\n",
              "    <tr>\n",
              "      <th>Item_Fat_Content_Regular</th>\n",
              "      <td>0</td>\n",
              "      <td>1</td>\n",
              "      <td>0</td>\n",
              "      <td>1</td>\n",
              "      <td>0</td>\n",
              "    </tr>\n",
              "    <tr>\n",
              "      <th>Item_Fat_Content_low fat</th>\n",
              "      <td>0</td>\n",
              "      <td>0</td>\n",
              "      <td>0</td>\n",
              "      <td>0</td>\n",
              "      <td>0</td>\n",
              "    </tr>\n",
              "    <tr>\n",
              "      <th>Item_Fat_Content_reg</th>\n",
              "      <td>0</td>\n",
              "      <td>0</td>\n",
              "      <td>0</td>\n",
              "      <td>0</td>\n",
              "      <td>0</td>\n",
              "    </tr>\n",
              "    <tr>\n",
              "      <th>Item_Type_Baking Goods</th>\n",
              "      <td>0</td>\n",
              "      <td>0</td>\n",
              "      <td>0</td>\n",
              "      <td>0</td>\n",
              "      <td>0</td>\n",
              "    </tr>\n",
              "    <tr>\n",
              "      <th>Item_Type_Breads</th>\n",
              "      <td>0</td>\n",
              "      <td>0</td>\n",
              "      <td>0</td>\n",
              "      <td>0</td>\n",
              "      <td>0</td>\n",
              "    </tr>\n",
              "    <tr>\n",
              "      <th>Item_Type_Breakfast</th>\n",
              "      <td>0</td>\n",
              "      <td>0</td>\n",
              "      <td>0</td>\n",
              "      <td>0</td>\n",
              "      <td>0</td>\n",
              "    </tr>\n",
              "    <tr>\n",
              "      <th>Item_Type_Canned</th>\n",
              "      <td>0</td>\n",
              "      <td>0</td>\n",
              "      <td>0</td>\n",
              "      <td>0</td>\n",
              "      <td>0</td>\n",
              "    </tr>\n",
              "    <tr>\n",
              "      <th>Item_Type_Dairy</th>\n",
              "      <td>1</td>\n",
              "      <td>0</td>\n",
              "      <td>0</td>\n",
              "      <td>0</td>\n",
              "      <td>0</td>\n",
              "    </tr>\n",
              "    <tr>\n",
              "      <th>Item_Type_Frozen Foods</th>\n",
              "      <td>0</td>\n",
              "      <td>0</td>\n",
              "      <td>0</td>\n",
              "      <td>0</td>\n",
              "      <td>0</td>\n",
              "    </tr>\n",
              "    <tr>\n",
              "      <th>Item_Type_Fruits and Vegetables</th>\n",
              "      <td>0</td>\n",
              "      <td>0</td>\n",
              "      <td>0</td>\n",
              "      <td>1</td>\n",
              "      <td>0</td>\n",
              "    </tr>\n",
              "    <tr>\n",
              "      <th>Item_Type_Hard Drinks</th>\n",
              "      <td>0</td>\n",
              "      <td>0</td>\n",
              "      <td>0</td>\n",
              "      <td>0</td>\n",
              "      <td>0</td>\n",
              "    </tr>\n",
              "    <tr>\n",
              "      <th>Item_Type_Health and Hygiene</th>\n",
              "      <td>0</td>\n",
              "      <td>0</td>\n",
              "      <td>0</td>\n",
              "      <td>0</td>\n",
              "      <td>0</td>\n",
              "    </tr>\n",
              "    <tr>\n",
              "      <th>Item_Type_Household</th>\n",
              "      <td>0</td>\n",
              "      <td>0</td>\n",
              "      <td>0</td>\n",
              "      <td>0</td>\n",
              "      <td>1</td>\n",
              "    </tr>\n",
              "    <tr>\n",
              "      <th>Item_Type_Meat</th>\n",
              "      <td>0</td>\n",
              "      <td>0</td>\n",
              "      <td>1</td>\n",
              "      <td>0</td>\n",
              "      <td>0</td>\n",
              "    </tr>\n",
              "    <tr>\n",
              "      <th>Item_Type_Others</th>\n",
              "      <td>0</td>\n",
              "      <td>0</td>\n",
              "      <td>0</td>\n",
              "      <td>0</td>\n",
              "      <td>0</td>\n",
              "    </tr>\n",
              "    <tr>\n",
              "      <th>Item_Type_Seafood</th>\n",
              "      <td>0</td>\n",
              "      <td>0</td>\n",
              "      <td>0</td>\n",
              "      <td>0</td>\n",
              "      <td>0</td>\n",
              "    </tr>\n",
              "    <tr>\n",
              "      <th>Item_Type_Snack Foods</th>\n",
              "      <td>0</td>\n",
              "      <td>0</td>\n",
              "      <td>0</td>\n",
              "      <td>0</td>\n",
              "      <td>0</td>\n",
              "    </tr>\n",
              "    <tr>\n",
              "      <th>Item_Type_Soft Drinks</th>\n",
              "      <td>0</td>\n",
              "      <td>1</td>\n",
              "      <td>0</td>\n",
              "      <td>0</td>\n",
              "      <td>0</td>\n",
              "    </tr>\n",
              "    <tr>\n",
              "      <th>Item_Type_Starchy Foods</th>\n",
              "      <td>0</td>\n",
              "      <td>0</td>\n",
              "      <td>0</td>\n",
              "      <td>0</td>\n",
              "      <td>0</td>\n",
              "    </tr>\n",
              "    <tr>\n",
              "      <th>Outlet_Identifier_OUT010</th>\n",
              "      <td>0</td>\n",
              "      <td>0</td>\n",
              "      <td>0</td>\n",
              "      <td>1</td>\n",
              "      <td>0</td>\n",
              "    </tr>\n",
              "    <tr>\n",
              "      <th>Outlet_Identifier_OUT013</th>\n",
              "      <td>0</td>\n",
              "      <td>0</td>\n",
              "      <td>0</td>\n",
              "      <td>0</td>\n",
              "      <td>1</td>\n",
              "    </tr>\n",
              "    <tr>\n",
              "      <th>Outlet_Identifier_OUT017</th>\n",
              "      <td>0</td>\n",
              "      <td>0</td>\n",
              "      <td>0</td>\n",
              "      <td>0</td>\n",
              "      <td>0</td>\n",
              "    </tr>\n",
              "    <tr>\n",
              "      <th>Outlet_Identifier_OUT018</th>\n",
              "      <td>0</td>\n",
              "      <td>1</td>\n",
              "      <td>0</td>\n",
              "      <td>0</td>\n",
              "      <td>0</td>\n",
              "    </tr>\n",
              "    <tr>\n",
              "      <th>Outlet_Identifier_OUT019</th>\n",
              "      <td>0</td>\n",
              "      <td>0</td>\n",
              "      <td>0</td>\n",
              "      <td>0</td>\n",
              "      <td>0</td>\n",
              "    </tr>\n",
              "    <tr>\n",
              "      <th>Outlet_Identifier_OUT027</th>\n",
              "      <td>0</td>\n",
              "      <td>0</td>\n",
              "      <td>0</td>\n",
              "      <td>0</td>\n",
              "      <td>0</td>\n",
              "    </tr>\n",
              "    <tr>\n",
              "      <th>Outlet_Identifier_OUT035</th>\n",
              "      <td>0</td>\n",
              "      <td>0</td>\n",
              "      <td>0</td>\n",
              "      <td>0</td>\n",
              "      <td>0</td>\n",
              "    </tr>\n",
              "    <tr>\n",
              "      <th>Outlet_Identifier_OUT045</th>\n",
              "      <td>0</td>\n",
              "      <td>0</td>\n",
              "      <td>0</td>\n",
              "      <td>0</td>\n",
              "      <td>0</td>\n",
              "    </tr>\n",
              "    <tr>\n",
              "      <th>Outlet_Identifier_OUT046</th>\n",
              "      <td>0</td>\n",
              "      <td>0</td>\n",
              "      <td>0</td>\n",
              "      <td>0</td>\n",
              "      <td>0</td>\n",
              "    </tr>\n",
              "    <tr>\n",
              "      <th>Outlet_Identifier_OUT049</th>\n",
              "      <td>1</td>\n",
              "      <td>0</td>\n",
              "      <td>1</td>\n",
              "      <td>0</td>\n",
              "      <td>0</td>\n",
              "    </tr>\n",
              "    <tr>\n",
              "      <th>Outlet_Size_High</th>\n",
              "      <td>0</td>\n",
              "      <td>0</td>\n",
              "      <td>0</td>\n",
              "      <td>0</td>\n",
              "      <td>1</td>\n",
              "    </tr>\n",
              "    <tr>\n",
              "      <th>Outlet_Size_Medium</th>\n",
              "      <td>1</td>\n",
              "      <td>1</td>\n",
              "      <td>1</td>\n",
              "      <td>0</td>\n",
              "      <td>0</td>\n",
              "    </tr>\n",
              "    <tr>\n",
              "      <th>Outlet_Size_Small</th>\n",
              "      <td>0</td>\n",
              "      <td>0</td>\n",
              "      <td>0</td>\n",
              "      <td>1</td>\n",
              "      <td>0</td>\n",
              "    </tr>\n",
              "    <tr>\n",
              "      <th>Outlet_Location_Type_Tier 1</th>\n",
              "      <td>1</td>\n",
              "      <td>0</td>\n",
              "      <td>1</td>\n",
              "      <td>0</td>\n",
              "      <td>0</td>\n",
              "    </tr>\n",
              "    <tr>\n",
              "      <th>Outlet_Location_Type_Tier 2</th>\n",
              "      <td>0</td>\n",
              "      <td>0</td>\n",
              "      <td>0</td>\n",
              "      <td>0</td>\n",
              "      <td>0</td>\n",
              "    </tr>\n",
              "    <tr>\n",
              "      <th>Outlet_Location_Type_Tier 3</th>\n",
              "      <td>0</td>\n",
              "      <td>1</td>\n",
              "      <td>0</td>\n",
              "      <td>1</td>\n",
              "      <td>1</td>\n",
              "    </tr>\n",
              "    <tr>\n",
              "      <th>Outlet_Type_Grocery Store</th>\n",
              "      <td>0</td>\n",
              "      <td>0</td>\n",
              "      <td>0</td>\n",
              "      <td>1</td>\n",
              "      <td>0</td>\n",
              "    </tr>\n",
              "    <tr>\n",
              "      <th>Outlet_Type_Supermarket Type1</th>\n",
              "      <td>1</td>\n",
              "      <td>0</td>\n",
              "      <td>1</td>\n",
              "      <td>0</td>\n",
              "      <td>1</td>\n",
              "    </tr>\n",
              "    <tr>\n",
              "      <th>Outlet_Type_Supermarket Type2</th>\n",
              "      <td>0</td>\n",
              "      <td>1</td>\n",
              "      <td>0</td>\n",
              "      <td>0</td>\n",
              "      <td>0</td>\n",
              "    </tr>\n",
              "    <tr>\n",
              "      <th>Outlet_Type_Supermarket Type3</th>\n",
              "      <td>0</td>\n",
              "      <td>0</td>\n",
              "      <td>0</td>\n",
              "      <td>0</td>\n",
              "      <td>0</td>\n",
              "    </tr>\n",
              "  </tbody>\n",
              "</table>\n",
              "</div>"
            ],
            "text/plain": [
              "                                 0  1  2  3  4\n",
              "Item_Fat_Content_LF              0  0  0  0  0\n",
              "Item_Fat_Content_Low Fat         1  0  1  0  1\n",
              "Item_Fat_Content_Regular         0  1  0  1  0\n",
              "Item_Fat_Content_low fat         0  0  0  0  0\n",
              "Item_Fat_Content_reg             0  0  0  0  0\n",
              "Item_Type_Baking Goods           0  0  0  0  0\n",
              "Item_Type_Breads                 0  0  0  0  0\n",
              "Item_Type_Breakfast              0  0  0  0  0\n",
              "Item_Type_Canned                 0  0  0  0  0\n",
              "Item_Type_Dairy                  1  0  0  0  0\n",
              "Item_Type_Frozen Foods           0  0  0  0  0\n",
              "Item_Type_Fruits and Vegetables  0  0  0  1  0\n",
              "Item_Type_Hard Drinks            0  0  0  0  0\n",
              "Item_Type_Health and Hygiene     0  0  0  0  0\n",
              "Item_Type_Household              0  0  0  0  1\n",
              "Item_Type_Meat                   0  0  1  0  0\n",
              "Item_Type_Others                 0  0  0  0  0\n",
              "Item_Type_Seafood                0  0  0  0  0\n",
              "Item_Type_Snack Foods            0  0  0  0  0\n",
              "Item_Type_Soft Drinks            0  1  0  0  0\n",
              "Item_Type_Starchy Foods          0  0  0  0  0\n",
              "Outlet_Identifier_OUT010         0  0  0  1  0\n",
              "Outlet_Identifier_OUT013         0  0  0  0  1\n",
              "Outlet_Identifier_OUT017         0  0  0  0  0\n",
              "Outlet_Identifier_OUT018         0  1  0  0  0\n",
              "Outlet_Identifier_OUT019         0  0  0  0  0\n",
              "Outlet_Identifier_OUT027         0  0  0  0  0\n",
              "Outlet_Identifier_OUT035         0  0  0  0  0\n",
              "Outlet_Identifier_OUT045         0  0  0  0  0\n",
              "Outlet_Identifier_OUT046         0  0  0  0  0\n",
              "Outlet_Identifier_OUT049         1  0  1  0  0\n",
              "Outlet_Size_High                 0  0  0  0  1\n",
              "Outlet_Size_Medium               1  1  1  0  0\n",
              "Outlet_Size_Small                0  0  0  1  0\n",
              "Outlet_Location_Type_Tier 1      1  0  1  0  0\n",
              "Outlet_Location_Type_Tier 2      0  0  0  0  0\n",
              "Outlet_Location_Type_Tier 3      0  1  0  1  1\n",
              "Outlet_Type_Grocery Store        0  0  0  1  0\n",
              "Outlet_Type_Supermarket Type1    1  0  1  0  1\n",
              "Outlet_Type_Supermarket Type2    0  1  0  0  0\n",
              "Outlet_Type_Supermarket Type3    0  0  0  0  0"
            ]
          },
          "metadata": {
            "tags": []
          },
          "execution_count": 40
        }
      ]
    },
    {
      "cell_type": "code",
      "metadata": {
        "id": "ib4YAVOgImjX"
      },
      "source": [
        "# 원래의 열은 삭제하고 더미 변수 열을 추가한다.\n",
        "X1 = train.drop(object_list, axis=1)"
      ],
      "execution_count": null,
      "outputs": []
    },
    {
      "cell_type": "code",
      "metadata": {
        "colab": {
          "base_uri": "https://localhost:8080/",
          "height": 204
        },
        "id": "t__PD3gTImjb",
        "outputId": "c2f4f303-cd6b-438f-c06c-1c866f5a9ede"
      },
      "source": [
        "X1.head()"
      ],
      "execution_count": null,
      "outputs": [
        {
          "output_type": "execute_result",
          "data": {
            "text/html": [
              "<div>\n",
              "<style scoped>\n",
              "    .dataframe tbody tr th:only-of-type {\n",
              "        vertical-align: middle;\n",
              "    }\n",
              "\n",
              "    .dataframe tbody tr th {\n",
              "        vertical-align: top;\n",
              "    }\n",
              "\n",
              "    .dataframe thead th {\n",
              "        text-align: right;\n",
              "    }\n",
              "</style>\n",
              "<table border=\"1\" class=\"dataframe\">\n",
              "  <thead>\n",
              "    <tr style=\"text-align: right;\">\n",
              "      <th></th>\n",
              "      <th>Item_Weight</th>\n",
              "      <th>Item_Visibility</th>\n",
              "      <th>Item_MRP</th>\n",
              "      <th>Outlet_Establishment_Year</th>\n",
              "      <th>Item_Outlet_Sales</th>\n",
              "    </tr>\n",
              "  </thead>\n",
              "  <tbody>\n",
              "    <tr>\n",
              "      <th>0</th>\n",
              "      <td>9.30</td>\n",
              "      <td>0.016047</td>\n",
              "      <td>249.8092</td>\n",
              "      <td>14</td>\n",
              "      <td>3735.1380</td>\n",
              "    </tr>\n",
              "    <tr>\n",
              "      <th>1</th>\n",
              "      <td>5.92</td>\n",
              "      <td>0.019278</td>\n",
              "      <td>48.2692</td>\n",
              "      <td>4</td>\n",
              "      <td>443.4228</td>\n",
              "    </tr>\n",
              "    <tr>\n",
              "      <th>2</th>\n",
              "      <td>17.50</td>\n",
              "      <td>0.016760</td>\n",
              "      <td>141.6180</td>\n",
              "      <td>14</td>\n",
              "      <td>2097.2700</td>\n",
              "    </tr>\n",
              "    <tr>\n",
              "      <th>3</th>\n",
              "      <td>19.20</td>\n",
              "      <td>0.066132</td>\n",
              "      <td>182.0950</td>\n",
              "      <td>15</td>\n",
              "      <td>732.3800</td>\n",
              "    </tr>\n",
              "    <tr>\n",
              "      <th>4</th>\n",
              "      <td>8.93</td>\n",
              "      <td>0.066132</td>\n",
              "      <td>53.8614</td>\n",
              "      <td>26</td>\n",
              "      <td>994.7052</td>\n",
              "    </tr>\n",
              "  </tbody>\n",
              "</table>\n",
              "</div>"
            ],
            "text/plain": [
              "   Item_Weight  Item_Visibility  ...  Outlet_Establishment_Year  Item_Outlet_Sales\n",
              "0         9.30         0.016047  ...                         14          3735.1380\n",
              "1         5.92         0.019278  ...                          4           443.4228\n",
              "2        17.50         0.016760  ...                         14          2097.2700\n",
              "3        19.20         0.066132  ...                         15           732.3800\n",
              "4         8.93         0.066132  ...                         26           994.7052\n",
              "\n",
              "[5 rows x 5 columns]"
            ]
          },
          "metadata": {
            "tags": []
          },
          "execution_count": 44
        }
      ]
    },
    {
      "cell_type": "code",
      "metadata": {
        "colab": {
          "base_uri": "https://localhost:8080/"
        },
        "id": "0irFk-HC4a2g",
        "outputId": "933a15b7-513f-4fcb-b3b2-c522ce6de276"
      },
      "source": [
        "X1.shape"
      ],
      "execution_count": null,
      "outputs": [
        {
          "output_type": "execute_result",
          "data": {
            "text/plain": [
              "(8523, 5)"
            ]
          },
          "metadata": {
            "tags": []
          },
          "execution_count": 37
        }
      ]
    },
    {
      "cell_type": "code",
      "metadata": {
        "id": "1dg6EOgVImje"
      },
      "source": [
        "X1, y = X1.drop('Item_Outlet_Sales',1), X1.Item_Outlet_Sales"
      ],
      "execution_count": null,
      "outputs": []
    },
    {
      "cell_type": "code",
      "metadata": {
        "colab": {
          "base_uri": "https://localhost:8080/",
          "height": 407
        },
        "id": "VyYAtV5dImjg",
        "outputId": "2cc6365a-6251-4b90-a742-703dea595e9c"
      },
      "source": [
        "X1"
      ],
      "execution_count": null,
      "outputs": [
        {
          "output_type": "execute_result",
          "data": {
            "text/html": [
              "<div>\n",
              "<style scoped>\n",
              "    .dataframe tbody tr th:only-of-type {\n",
              "        vertical-align: middle;\n",
              "    }\n",
              "\n",
              "    .dataframe tbody tr th {\n",
              "        vertical-align: top;\n",
              "    }\n",
              "\n",
              "    .dataframe thead th {\n",
              "        text-align: right;\n",
              "    }\n",
              "</style>\n",
              "<table border=\"1\" class=\"dataframe\">\n",
              "  <thead>\n",
              "    <tr style=\"text-align: right;\">\n",
              "      <th></th>\n",
              "      <th>Item_Weight</th>\n",
              "      <th>Item_Visibility</th>\n",
              "      <th>Item_MRP</th>\n",
              "      <th>Outlet_Establishment_Year</th>\n",
              "    </tr>\n",
              "  </thead>\n",
              "  <tbody>\n",
              "    <tr>\n",
              "      <th>0</th>\n",
              "      <td>9.300</td>\n",
              "      <td>0.016047</td>\n",
              "      <td>249.8092</td>\n",
              "      <td>14</td>\n",
              "    </tr>\n",
              "    <tr>\n",
              "      <th>1</th>\n",
              "      <td>5.920</td>\n",
              "      <td>0.019278</td>\n",
              "      <td>48.2692</td>\n",
              "      <td>4</td>\n",
              "    </tr>\n",
              "    <tr>\n",
              "      <th>2</th>\n",
              "      <td>17.500</td>\n",
              "      <td>0.016760</td>\n",
              "      <td>141.6180</td>\n",
              "      <td>14</td>\n",
              "    </tr>\n",
              "    <tr>\n",
              "      <th>3</th>\n",
              "      <td>19.200</td>\n",
              "      <td>0.066132</td>\n",
              "      <td>182.0950</td>\n",
              "      <td>15</td>\n",
              "    </tr>\n",
              "    <tr>\n",
              "      <th>4</th>\n",
              "      <td>8.930</td>\n",
              "      <td>0.066132</td>\n",
              "      <td>53.8614</td>\n",
              "      <td>26</td>\n",
              "    </tr>\n",
              "    <tr>\n",
              "      <th>...</th>\n",
              "      <td>...</td>\n",
              "      <td>...</td>\n",
              "      <td>...</td>\n",
              "      <td>...</td>\n",
              "    </tr>\n",
              "    <tr>\n",
              "      <th>8518</th>\n",
              "      <td>6.865</td>\n",
              "      <td>0.056783</td>\n",
              "      <td>214.5218</td>\n",
              "      <td>26</td>\n",
              "    </tr>\n",
              "    <tr>\n",
              "      <th>8519</th>\n",
              "      <td>8.380</td>\n",
              "      <td>0.046982</td>\n",
              "      <td>108.1570</td>\n",
              "      <td>11</td>\n",
              "    </tr>\n",
              "    <tr>\n",
              "      <th>8520</th>\n",
              "      <td>10.600</td>\n",
              "      <td>0.035186</td>\n",
              "      <td>85.1224</td>\n",
              "      <td>9</td>\n",
              "    </tr>\n",
              "    <tr>\n",
              "      <th>8521</th>\n",
              "      <td>7.210</td>\n",
              "      <td>0.145221</td>\n",
              "      <td>103.1332</td>\n",
              "      <td>4</td>\n",
              "    </tr>\n",
              "    <tr>\n",
              "      <th>8522</th>\n",
              "      <td>14.800</td>\n",
              "      <td>0.044878</td>\n",
              "      <td>75.4670</td>\n",
              "      <td>16</td>\n",
              "    </tr>\n",
              "  </tbody>\n",
              "</table>\n",
              "<p>8523 rows × 4 columns</p>\n",
              "</div>"
            ],
            "text/plain": [
              "      Item_Weight  Item_Visibility  Item_MRP  Outlet_Establishment_Year\n",
              "0           9.300         0.016047  249.8092                         14\n",
              "1           5.920         0.019278   48.2692                          4\n",
              "2          17.500         0.016760  141.6180                         14\n",
              "3          19.200         0.066132  182.0950                         15\n",
              "4           8.930         0.066132   53.8614                         26\n",
              "...           ...              ...       ...                        ...\n",
              "8518        6.865         0.056783  214.5218                         26\n",
              "8519        8.380         0.046982  108.1570                         11\n",
              "8520       10.600         0.035186   85.1224                          9\n",
              "8521        7.210         0.145221  103.1332                          4\n",
              "8522       14.800         0.044878   75.4670                         16\n",
              "\n",
              "[8523 rows x 4 columns]"
            ]
          },
          "metadata": {
            "tags": []
          },
          "execution_count": 39
        }
      ]
    },
    {
      "cell_type": "code",
      "metadata": {
        "id": "RNQOqyATImji"
      },
      "source": [
        "# 스케일링을 하는 경우\n",
        "from sklearn.preprocessing import StandardScaler\n",
        "sc = StandardScaler()\n",
        "X1 = sc.fit_transform(X1)\n",
        "X = pd.concat([pd.DataFrame(X1),dummies], axis =1)"
      ],
      "execution_count": null,
      "outputs": []
    },
    {
      "cell_type": "code",
      "metadata": {
        "colab": {
          "base_uri": "https://localhost:8080/"
        },
        "id": "XtWHXcR6Imjo",
        "outputId": "1c76dea1-31a7-42d1-bb3d-6bdcdab400fe"
      },
      "source": [
        "dummies.shape, X1.shape, X.shape "
      ],
      "execution_count": null,
      "outputs": [
        {
          "output_type": "execute_result",
          "data": {
            "text/plain": [
              "((8523, 41), (8523, 4), (8523, 45))"
            ]
          },
          "metadata": {
            "tags": []
          },
          "execution_count": 48
        }
      ]
    },
    {
      "cell_type": "code",
      "metadata": {
        "colab": {
          "base_uri": "https://localhost:8080/"
        },
        "id": "DrdgHuPRImjt",
        "outputId": "d9e2a8da-7409-4da2-9f3e-b9b8007da9f4"
      },
      "source": [
        "# 4개의 실수로 된 특성만 사용하는 경우\n",
        "np.random.seed(7)\n",
        "x_train, x_test, y_train, y_test = train_test_split(X1,y,test_size =0.3)\n",
        "lreg.fit(x_train,y_train)\n",
        "pred_test = lreg.predict(x_test)\n",
        "mse = np.mean((pred_test - y_test)**2)\n",
        "print(mse**0.5)\n",
        "print(lreg.score(x_test,y_test))"
      ],
      "execution_count": null,
      "outputs": [
        {
          "output_type": "stream",
          "text": [
            "1387.9151553183922\n",
            "0.3459348199771226\n"
          ],
          "name": "stdout"
        }
      ]
    },
    {
      "cell_type": "code",
      "metadata": {
        "colab": {
          "base_uri": "https://localhost:8080/"
        },
        "id": "C8NYVvD9Imj0",
        "outputId": "1afea814-a5b8-46e5-b42f-432559a4e159"
      },
      "source": [
        "# 45개의 모든 특성을 사용하는 경우\n",
        "np.random.seed(7)\n",
        "x_train, x_test, y_train, y_test = train_test_split(X,y,test_size =0.3)\n",
        "lreg.fit(x_train,y_train)\n",
        "pred_test = lreg.predict(x_test)\n",
        "mse = np.mean((pred_test - y_test)**2)\n",
        "print(mse**0.5)\n",
        "print(lreg.score(x_test,y_test))"
      ],
      "execution_count": null,
      "outputs": [
        {
          "output_type": "stream",
          "text": [
            "1152.9415317361227\n",
            "0.5486538305100555\n"
          ],
          "name": "stdout"
        }
      ]
    },
    {
      "cell_type": "markdown",
      "metadata": {
        "id": "XWQXUqrPTMM2"
      },
      "source": [
        "## 오차 플롯"
      ]
    },
    {
      "cell_type": "markdown",
      "metadata": {
        "id": "NHaD0PfbImj7"
      },
      "source": [
        "- 예측값에 대해 오차의 발생 형태가 랜덤하지 않고 비선형 성분이 많이 들어 있다. 그림에서 양수, 음수 그대로 보임."
      ]
    },
    {
      "cell_type": "code",
      "metadata": {
        "colab": {
          "base_uri": "https://localhost:8080/",
          "height": 299
        },
        "id": "bBBkk1y7TMM2",
        "outputId": "51c57bc9-e3a2-4d7c-f8eb-0b01b5d8f6ab"
      },
      "source": [
        "x_plot = plt.scatter(pred_test, (pred_test - y_test), c='b', s=1)\n",
        "plt.hlines(y=0, xmin= -1000, xmax=5000)\n",
        "plt.title('Residual plot')"
      ],
      "execution_count": null,
      "outputs": [
        {
          "output_type": "execute_result",
          "data": {
            "text/plain": [
              "Text(0.5, 1.0, 'Residual plot')"
            ]
          },
          "metadata": {
            "tags": []
          },
          "execution_count": 51
        },
        {
          "output_type": "display_data",
          "data": {
            "image/png": "[encoded data removed]",
            "text/plain": [
              "<Figure size 432x288 with 1 Axes>"
            ]
          },
          "metadata": {
            "tags": [],
            "needs_background": "light"
          }
        }
      ]
    },
    {
      "cell_type": "markdown",
      "metadata": {
        "id": "KxGmFiQwTMM2"
      },
      "source": [
        "- 전체 45개 특성 계수의 크기를 나열해 보자"
      ]
    },
    {
      "cell_type": "code",
      "metadata": {
        "colab": {
          "base_uri": "https://localhost:8080/"
        },
        "id": "ZIsmR9emTMM2",
        "outputId": "ec1b34b9-e2e8-4ade-9efc-9f832fdbdb08"
      },
      "source": [
        "Series(lreg.coef_, index=X.columns)"
      ],
      "execution_count": null,
      "outputs": [
        {
          "output_type": "execute_result",
          "data": {
            "text/plain": [
              "0                                 -7.875144e-01\n",
              "1                                 -6.452769e+00\n",
              "2                                  9.788204e+02\n",
              "3                                 -8.139013e+13\n",
              "Item_Fat_Content_LF                9.020561e+13\n",
              "Item_Fat_Content_Low Fat           9.020561e+13\n",
              "Item_Fat_Content_Regular           9.020561e+13\n",
              "Item_Fat_Content_low fat           9.020561e+13\n",
              "Item_Fat_Content_reg               9.020561e+13\n",
              "Item_Type_Baking Goods            -7.687484e+12\n",
              "Item_Type_Breads                  -7.687484e+12\n",
              "Item_Type_Breakfast               -7.687484e+12\n",
              "Item_Type_Canned                  -7.687484e+12\n",
              "Item_Type_Dairy                   -7.687484e+12\n",
              "Item_Type_Frozen Foods            -7.687484e+12\n",
              "Item_Type_Fruits and Vegetables   -7.687484e+12\n",
              "Item_Type_Hard Drinks             -7.687484e+12\n",
              "Item_Type_Health and Hygiene      -7.687484e+12\n",
              "Item_Type_Household               -7.687484e+12\n",
              "Item_Type_Meat                    -7.687484e+12\n",
              "Item_Type_Others                  -7.687484e+12\n",
              "Item_Type_Seafood                 -7.687484e+12\n",
              "Item_Type_Snack Foods             -7.687484e+12\n",
              "Item_Type_Soft Drinks             -7.687484e+12\n",
              "Item_Type_Starchy Foods           -7.687484e+12\n",
              "Outlet_Identifier_OUT010          -1.265691e+14\n",
              "Outlet_Identifier_OUT013          -3.501751e+13\n",
              "Outlet_Identifier_OUT017           4.986605e+13\n",
              "Outlet_Identifier_OUT018          -1.222185e+14\n",
              "Outlet_Identifier_OUT019           1.057170e+13\n",
              "Outlet_Identifier_OUT027          -8.389770e+12\n",
              "Outlet_Identifier_OUT035           7.903372e+13\n",
              "Outlet_Identifier_OUT045           9.847883e+13\n",
              "Outlet_Identifier_OUT046          -4.954704e+13\n",
              "Outlet_Identifier_OUT049          -3.937705e+13\n",
              "Outlet_Size_High                  -2.775861e+13\n",
              "Outlet_Size_Medium                -1.293221e+14\n",
              "Outlet_Size_Small                 -9.970703e+13\n",
              "Outlet_Location_Type_Tier 1        2.000114e+14\n",
              "Outlet_Location_Type_Tier 2        3.372807e+12\n",
              "Outlet_Location_Type_Tier 3        2.107591e+14\n",
              "Outlet_Type_Grocery Store         -3.926167e+13\n",
              "Outlet_Type_Supermarket Type1     -9.581360e+13\n",
              "Outlet_Type_Supermarket Type2     -1.209454e+14\n",
              "Outlet_Type_Supermarket Type3     -1.432707e+12\n",
              "dtype: float64"
            ]
          },
          "metadata": {
            "tags": []
          },
          "execution_count": 52
        }
      ]
    },
    {
      "cell_type": "code",
      "metadata": {
        "colab": {
          "base_uri": "https://localhost:8080/",
          "height": 779
        },
        "id": "n3-HEIC1ImkA",
        "outputId": "20f304b0-c7a3-4a7d-c284-4fa9715da20f"
      },
      "source": [
        "# checking the magnitude of coefficients\n",
        "plt.figure(figsize= (10,10))\n",
        "predictors = X.columns\n",
        "coef = Series(lreg.coef_, predictors).sort_values()\n",
        "coef.plot(kind='bar', title='Modal Coefficients')"
      ],
      "execution_count": null,
      "outputs": [
        {
          "output_type": "execute_result",
          "data": {
            "text/plain": [
              "<matplotlib.axes._subplots.AxesSubplot at 0x7fa7abbb1978>"
            ]
          },
          "metadata": {
            "tags": []
          },
          "execution_count": 53
        },
        {
          "output_type": "display_data",
          "data": {
            "image/png": "[encoded data removed]",
            "text/plain": [
              "<Figure size 720x720 with 1 Axes>"
            ]
          },
          "metadata": {
            "tags": [],
            "needs_background": "light"
          }
        }
      ]
    },
    {
      "cell_type": "markdown",
      "metadata": {
        "id": "EOzdhwOwTMM2"
      },
      "source": [
        "### 릿지 규제"
      ]
    },
    {
      "cell_type": "code",
      "metadata": {
        "colab": {
          "base_uri": "https://localhost:8080/"
        },
        "id": "DHpkVP4jImkC",
        "outputId": "60b8ad55-b9f7-4d80-c684-90fef930ec07"
      },
      "source": [
        "from sklearn.linear_model import Ridge\n",
        "ridgeReg = Ridge(alpha=0.1, normalize=True) \n",
        "# normalize: the regressors X will be normalized before regression by subtracting \n",
        "# the mean and dividing by the l2-norm\n",
        "ridgeReg.fit(x_train,y_train)\n",
        "pred = ridgeReg.predict(x_test)\n",
        "mse = np.mean((pred_test - y_test)**2)\n",
        "mse**0.5, ridgeReg.score(x_test, y_test)"
      ],
      "execution_count": null,
      "outputs": [
        {
          "output_type": "execute_result",
          "data": {
            "text/plain": [
              "(1152.9415317361227, 0.5480928759746636)"
            ]
          },
          "metadata": {
            "tags": []
          },
          "execution_count": 56
        }
      ]
    },
    {
      "cell_type": "code",
      "metadata": {
        "colab": {
          "base_uri": "https://localhost:8080/",
          "height": 779
        },
        "id": "jsFv6S59ImkG",
        "outputId": "66d329e8-a0c2-491f-cce4-97826b46127d"
      },
      "source": [
        "plt.figure(figsize= (10,10))\n",
        "predictors = X.columns\n",
        "coef = Series(ridgeReg.coef_, predictors).sort_values()\n",
        "coef.plot(kind='bar', title='Ridge Modal Coefficients')"
      ],
      "execution_count": null,
      "outputs": [
        {
          "output_type": "execute_result",
          "data": {
            "text/plain": [
              "<matplotlib.axes._subplots.AxesSubplot at 0x7fa7aba66668>"
            ]
          },
          "metadata": {
            "tags": []
          },
          "execution_count": 57
        },
        {
          "output_type": "display_data",
          "data": {
            "image/png": "[encoded data removed]",
            "text/plain": [
              "<Figure size 720x720 with 1 Axes>"
            ]
          },
          "metadata": {
            "tags": [],
            "needs_background": "light"
          }
        }
      ]
    },
    {
      "cell_type": "markdown",
      "metadata": {
        "id": "tlXMkPsdTMM3"
      },
      "source": [
        "### 위의 결과 -> 큰 계수의 값이 줄어듬 확인."
      ]
    },
    {
      "cell_type": "code",
      "metadata": {
        "colab": {
          "base_uri": "https://localhost:8080/"
        },
        "id": "Se_GWh5yImkN",
        "outputId": "1b033c83-8d1a-4e53-d4e3-392585802ed1"
      },
      "source": [
        "alpha = [0, 0.001, 0.01, 0.05, 0.5, 1, 5]\n",
        "for a in alpha:\n",
        "    ridgeReg = Ridge(alpha=a, normalize=True)\n",
        "    ridgeReg.fit(x_train,y_train)\n",
        "    print(\"a= %3f\" % a, \"R square = \", ridgeReg.score(x_train, y_train),\n",
        "          '\\t', ridgeReg.score(x_test, y_test))"
      ],
      "execution_count": null,
      "outputs": [
        {
          "output_type": "stream",
          "text": [
            "a= 0.000000 R square =  0.5696145821626609 \t 0.5486534404110446\n",
            "a= 0.001000 R square =  0.5696142054709175 \t 0.5486826382589223\n",
            "a= 0.010000 R square =  0.5695775668066005 \t 0.5489082444202531\n",
            "a= 0.050000 R square =  0.5687567236716236 \t 0.5491731608147645\n",
            "a= 0.500000 R square =  0.5262751007295267 \t 0.5137188639777166\n",
            "a= 1.000000 R square =  0.4684628380624163 \t 0.45920700914344165\n",
            "a= 5.000000 R square =  0.23966067409572434 \t 0.23617547945624906\n"
          ],
          "name": "stdout"
        }
      ]
    },
    {
      "cell_type": "markdown",
      "metadata": {
        "id": "0rK-ywnrTMM3"
      },
      "source": [
        "## 라쏘 규제"
      ]
    },
    {
      "cell_type": "code",
      "metadata": {
        "colab": {
          "base_uri": "https://localhost:8080/"
        },
        "id": "Uq-cnVuJImkQ",
        "outputId": "55abbaae-93a9-4182-92a8-90a27695052c"
      },
      "source": [
        "from sklearn.linear_model import Lasso\n",
        "lassoReg = Lasso(alpha=0.1, normalize=True)\n",
        "lassoReg.fit(x_train,y_train)\n",
        "print(lassoReg.score(x_test,y_test))"
      ],
      "execution_count": null,
      "outputs": [
        {
          "output_type": "stream",
          "text": [
            "0.5498557223521042\n"
          ],
          "name": "stdout"
        }
      ]
    },
    {
      "cell_type": "code",
      "metadata": {
        "colab": {
          "base_uri": "https://localhost:8080/",
          "height": 779
        },
        "id": "FQYJihf-ImkS",
        "outputId": "41759831-b06c-42a9-d660-a35e06c269ef"
      },
      "source": [
        "plt.figure(figsize= (10,10))\n",
        "predictors = X.columns\n",
        "coef = Series(lassoReg.coef_, predictors).sort_values()\n",
        "coef.plot(kind='bar', title='Ridge Modal Coefficients')"
      ],
      "execution_count": null,
      "outputs": [
        {
          "output_type": "execute_result",
          "data": {
            "text/plain": [
              "<matplotlib.axes._subplots.AxesSubplot at 0x7fa7ab975ba8>"
            ]
          },
          "metadata": {
            "tags": []
          },
          "execution_count": 60
        },
        {
          "output_type": "display_data",
          "data": {
            "image/png": "[encoded data removed]",
            "text/plain": [
              "<Figure size 720x720 with 1 Axes>"
            ]
          },
          "metadata": {
            "tags": [],
            "needs_background": "light"
          }
        }
      ]
    },
    {
      "cell_type": "code",
      "metadata": {
        "id": "Ao1SGYEHImkV"
      },
      "source": [
        "#### 결과 -> 중요도가 적은 계수의 크기가 줄어든 것 확인, 모델의 성능은 비슷"
      ],
      "execution_count": null,
      "outputs": []
    },
    {
      "cell_type": "code",
      "metadata": {
        "id": "EpFi5xIGTMM3",
        "colab": {
          "base_uri": "https://localhost:8080/"
        },
        "outputId": "00a0b8fd-6386-428a-d024-b6eef5a70e66"
      },
      "source": [
        "alpha = [0, 0.001, 0.01, 0.05, 0.5, 1, 5]\r\n",
        "for a in alpha:\r\n",
        "    ridgeReg = Lasso(alpha=a, normalize=True, max_iter=3000)\r\n",
        "    ridgeReg.fit(x_train,y_train)\r\n",
        "    print(\"a= %3f\" % a, \"R square = \", ridgeReg.score(x_train, y_train),\r\n",
        "          '\\t', ridgeReg.score(x_test, y_test))"
      ],
      "execution_count": null,
      "outputs": [
        {
          "output_type": "stream",
          "text": [
            "/usr/local/lib/python3.6/dist-packages/ipykernel_launcher.py:4: UserWarning: With alpha=0, this algorithm does not converge well. You are advised to use the LinearRegression estimator\n",
            "  after removing the cwd from sys.path.\n",
            "/usr/local/lib/python3.6/dist-packages/sklearn/linear_model/_coordinate_descent.py:476: UserWarning: Coordinate descent with no regularization may lead to unexpected results and is discouraged.\n",
            "  positive)\n",
            "/usr/local/lib/python3.6/dist-packages/sklearn/linear_model/_coordinate_descent.py:476: ConvergenceWarning: Objective did not converge. You might want to increase the number of iterations. Duality gap: 3719580850.142405, tolerance: 1728488.3251078317\n",
            "  positive)\n"
          ],
          "name": "stderr"
        },
        {
          "output_type": "stream",
          "text": [
            "a= 0.000000 R square =  0.5696145821626609 \t 0.5486534404110444\n"
          ],
          "name": "stdout"
        },
        {
          "output_type": "stream",
          "text": [
            "/usr/local/lib/python3.6/dist-packages/sklearn/linear_model/_coordinate_descent.py:476: ConvergenceWarning: Objective did not converge. You might want to increase the number of iterations. Duality gap: 13857749.702571869, tolerance: 1728488.3251078317\n",
            "  positive)\n"
          ],
          "name": "stderr"
        },
        {
          "output_type": "stream",
          "text": [
            "a= 0.001000 R square =  0.5696145238533095 \t 0.5486696325448319\n",
            "a= 0.010000 R square =  0.569608831244861 \t 0.5488184100310158\n",
            "a= 0.050000 R square =  0.5694844675705037 \t 0.5493981055951234\n",
            "a= 0.500000 R square =  0.5653991218584242 \t 0.549002036572264\n",
            "a= 1.000000 R square =  0.5593221175204617 \t 0.5439764554634756\n",
            "a= 5.000000 R square =  0.42032038068172917 \t 0.41254196168233703\n"
          ],
          "name": "stdout"
        }
      ]
    },
    {
      "cell_type": "code",
      "metadata": {
        "id": "7G2EkAd5uHoz",
        "colab": {
          "base_uri": "https://localhost:8080/"
        },
        "outputId": "1c3af2e1-041f-45d8-bb4d-5ecb1d59f57c"
      },
      "source": [
        "from sklearn.ensemble import RandomForestRegressor\r\n",
        "rfr = RandomForestRegressor(300)\r\n",
        "rfr.fit(x_train,y_train)\r\n",
        "rfr.score(x_test, y_test)"
      ],
      "execution_count": null,
      "outputs": [
        {
          "output_type": "execute_result",
          "data": {
            "text/plain": [
              "0.5506195364149531"
            ]
          },
          "metadata": {
            "tags": []
          },
          "execution_count": 67
        }
      ]
    },
    {
      "cell_type": "code",
      "metadata": {
        "id": "4VlTHbjqufci",
        "colab": {
          "base_uri": "https://localhost:8080/"
        },
        "outputId": "6a7f4641-4215-4ce0-94df-e920c1498c1d"
      },
      "source": [
        "train = pd.read_csv('Train_UWu5bXk.txt')\r\n",
        "\r\n",
        "train = train.drop(['Item_Weight', 'Outlet_Size'], axis=1)\r\n",
        "train.drop(\"Item_Identifier\", axis=1, inplace=True)\r\n",
        "train['Outlet_Establishment_Year'] = 2013 - train['Outlet_Establishment_Year']\r\n",
        "\r\n",
        "object_list = list(train.select_dtypes(include=['object']).columns)\r\n",
        "dummies = pd.get_dummies(train[object_list], prefix= object_list)\r\n",
        "\r\n",
        "X1 = train.drop(object_list, axis=1)\r\n",
        "\r\n",
        "X1, y = X1.drop('Item_Outlet_Sales',1), X1.Item_Outlet_Sales\r\n",
        "\r\n",
        "sc = StandardScaler()\r\n",
        "X1 = sc.fit_transform(X1)\r\n",
        "\r\n",
        "X = pd.concat([pd.DataFrame(X1),dummies], axis =1)\r\n",
        "\r\n",
        "x_train, x_test, y_train, y_test = train_test_split(X,y,test_size =0.3)\r\n",
        "\r\n",
        "lreg = LinearRegression()\r\n",
        "lreg.fit(x_train,y_train)\r\n",
        "print(lreg.score(x_test,y_test))"
      ],
      "execution_count": null,
      "outputs": [
        {
          "output_type": "stream",
          "text": [
            "0.5700664628407877\n"
          ],
          "name": "stdout"
        }
      ]
    },
    {
      "cell_type": "code",
      "metadata": {
        "id": "ClGk_Q0ByZhK",
        "colab": {
          "base_uri": "https://localhost:8080/"
        },
        "outputId": "8b921ee5-d2e5-4b9d-9144-208000caa35a"
      },
      "source": [
        "\r\n",
        "rfr = RandomForestRegressor(300)\r\n",
        "rfr.fit(x_train,y_train)\r\n",
        "rfr.score(x_test, y_test)"
      ],
      "execution_count": null,
      "outputs": [
        {
          "output_type": "execute_result",
          "data": {
            "text/plain": [
              "0.5737108101750377"
            ]
          },
          "metadata": {
            "tags": []
          },
          "execution_count": 82
        }
      ]
    }
  ]
}