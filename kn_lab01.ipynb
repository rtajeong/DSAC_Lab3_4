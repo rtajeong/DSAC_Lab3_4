{
  "nbformat": 4,
  "nbformat_minor": 0,
  "metadata": {
    "colab": {
      "name": "kn_lab01.ipynb",
      "provenance": [],
      "collapsed_sections": [],
      "toc_visible": true,
      "authorship_tag": "ABX9TyOBBxK7wIDveCyo4wZ4qZr6",
      "include_colab_link": true
    },
    "kernelspec": {
      "name": "python3",
      "display_name": "Python 3"
    }
  },
  "cells": [
    {
      "cell_type": "markdown",
      "metadata": {
        "id": "view-in-github",
        "colab_type": "text"
      },
      "source": [
        "<a href=\"https://colab.research.google.com/github/rtajeong/DSAC_Lab3_4/blob/master/kn_lab01.ipynb\" target=\"_parent\"><img src=\"https://colab.research.google.com/assets/colab-badge.svg\" alt=\"Open In Colab\"/></a>"
      ]
    },
    {
      "cell_type": "markdown",
      "metadata": {
        "id": "z7V8wlw2J8db"
      },
      "source": [
        "# Linear Regression\r\n",
        "- one feature variable"
      ]
    },
    {
      "cell_type": "code",
      "metadata": {
        "id": "9ldVSUx-p2xa"
      },
      "source": [
        "import numpy as np\r\n",
        "import pandas as pd\r\n",
        "import matplotlib.pyplot as plt\r\n",
        "%matplotlib inline\r\n"
      ],
      "execution_count": null,
      "outputs": []
    },
    {
      "cell_type": "code",
      "metadata": {
        "colab": {
          "base_uri": "https://localhost:8080/",
          "height": 723
        },
        "id": "GQITR-cfAc2r",
        "outputId": "927dba71-1677-49f3-999c-a4d1388d85b6"
      },
      "source": [
        "N = 300\r\n",
        "x1 = np.random.randn(N)\r\n",
        "y = 0.7 * x1 + 0.9    # w1 = 0.7, b=.9\r\n",
        "y = y + np.random.randn(N) * 0.5\r\n",
        "\r\n",
        "plt.scatter(x1, y)\r\n",
        "w1, b = np.random.randn(), np.random.randn()\r\n",
        "lr = 0.2\r\n",
        "n_epoch = 100\r\n",
        "lossList = []\r\n",
        "\r\n",
        "for i in range(n_epoch):\r\n",
        "    y_pred = w1 * x1 + b\r\n",
        "    error = y_pred - y\r\n",
        "    loss = (error **2).mean()\r\n",
        "\r\n",
        "    w1 = w1 - lr * (2 * error * x1).mean()\r\n",
        "    b = b - lr * (2 * error).mean()\r\n",
        "\r\n",
        "    lossList.append(loss)\r\n",
        "    if i % 10 == 0:\r\n",
        "        print(i, w1, b)\r\n",
        "\r\n",
        "# plotting\r\n",
        "xx = np.linspace(-3, 3, 100)\r\n",
        "yy = w1 * xx + b\r\n",
        "plt.plot(xx, yy, c='r') \r\n",
        "plt.show()\r\n",
        "plt.plot(lossList)"
      ],
      "execution_count": 28,
      "outputs": [
        {
          "output_type": "stream",
          "text": [
            "0 0.26256397567924084 -0.38943982442968406\n",
            "10 0.6920018501029787 0.9374905926410081\n",
            "20 0.6955840346059874 0.9458817130471571\n",
            "30 0.6956119532646223 0.9459354111289453\n",
            "40 0.6956121622806801 0.9459357584248085\n",
            "50 0.6956121638053969 0.9459357606918184\n",
            "60 0.6956121638163241 0.945935760706734\n",
            "70 0.6956121638164015 0.9459357607068328\n",
            "80 0.6956121638164019 0.9459357607068334\n",
            "90 0.6956121638164019 0.9459357607068334\n"
          ],
          "name": "stdout"
        },
        {
          "output_type": "display_data",
          "data": {
            "image/png": "[encoded data removed]",
            "text/plain": [
              "<Figure size 432x288 with 1 Axes>"
            ]
          },
          "metadata": {
            "tags": [],
            "needs_background": "light"
          }
        },
        {
          "output_type": "execute_result",
          "data": {
            "text/plain": [
              "[<matplotlib.lines.Line2D at 0x7f5b7a893278>]"
            ]
          },
          "metadata": {
            "tags": []
          },
          "execution_count": 28
        },
        {
          "output_type": "display_data",
          "data": {
            "image/png": "[encoded data removed]",
            "text/plain": [
              "<Figure size 432x288 with 1 Axes>"
            ]
          },
          "metadata": {
            "tags": [],
            "needs_background": "light"
          }
        }
      ]
    },
    {
      "cell_type": "code",
      "metadata": {
        "id": "daS95lfmEIfE"
      },
      "source": [
        ""
      ],
      "execution_count": null,
      "outputs": []
    }
  ]
}