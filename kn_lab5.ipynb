{
  "nbformat": 4,
  "nbformat_minor": 0,
  "metadata": {
    "accelerator": "GPU",
    "colab": {
      "name": "lab38_hyperparameter_rev1.ipynb",
      "provenance": [],
      "collapsed_sections": [],
      "toc_visible": true,
      "include_colab_link": true
    },
    "kernelspec": {
      "display_name": "Python 3",
      "language": "python",
      "name": "python3"
    },
    "language_info": {
      "codemirror_mode": {
        "name": "ipython",
        "version": 3
      },
      "file_extension": ".py",
      "mimetype": "text/x-python",
      "name": "python",
      "nbconvert_exporter": "python",
      "pygments_lexer": "ipython3",
      "version": "3.6.8"
    }
  },
  "cells": [
    {
      "cell_type": "markdown",
      "metadata": {
        "id": "view-in-github",
        "colab_type": "text"
      },
      "source": [
        "<a href=\"https://colab.research.google.com/github/rtajeong/DSAC_Lab3_4/blob/master/kn_lab5.ipynb\" target=\"_parent\"><img src=\"https://colab.research.google.com/assets/colab-badge.svg\" alt=\"Open In Colab\"/></a>"
      ]
    },
    {
      "cell_type": "markdown",
      "metadata": {
        "id": "z3sm3tO66_ul"
      },
      "source": [
        "# Hyperparametr Tuning\n",
        "- to choose a set of optimal hyperparameters for a learning algorithm\n",
        "- example case: Bike Renting Analysis problem (from kaggle)"
      ]
    },
    {
      "cell_type": "code",
      "metadata": {
        "id": "8pvv5VcZ6_un"
      },
      "source": [
        "import numpy as np\n",
        "import pandas as pd\n",
        "import seaborn as sns\n",
        "import matplotlib.pyplot as plt\n",
        "from sklearn.ensemble import RandomForestRegressor\n",
        "from sklearn.linear_model import LinearRegression\n",
        "from sklearn.tree import DecisionTreeRegressor\n",
        "from sklearn import svm\n",
        "from sklearn.model_selection import cross_val_score, train_test_split\n",
        "from sklearn.metrics import make_scorer\n",
        "%matplotlib inline"
      ],
      "execution_count": null,
      "outputs": []
    },
    {
      "cell_type": "code",
      "metadata": {
        "colab": {
          "base_uri": "https://localhost:8080/"
        },
        "id": "8Czy7G2I7DnQ",
        "outputId": "c7159c99-e9ce-43c8-d405-c7c77d731a35"
      },
      "source": [
        "!curl -L https://goo.gl/s8qSL5  -o ./bike_train.csv\n",
        "# !curl https://goo.gl/s8qSL5  -o ../Lab_M2/data/bike_train.csv"
      ],
      "execution_count": null,
      "outputs": [
        {
          "output_type": "stream",
          "text": [
            "  % Total    % Received % Xferd  Average Speed   Time    Time     Time  Current\n",
            "                                 Dload  Upload   Total   Spent    Left  Speed\n",
            "  0     0    0     0    0     0      0      0 --:--:-- --:--:-- --:--:--     0\n",
            "  0     0    0     0    0     0      0      0 --:--:-- --:--:-- --:--:--     0\n",
            "  0     0    0     0    0     0      0      0 --:--:-- --:--:-- --:--:--     0\n",
            "100  643k  100  643k    0     0   691k      0 --:--:-- --:--:-- --:--:--  691k\n"
          ],
          "name": "stdout"
        }
      ]
    },
    {
      "cell_type": "code",
      "metadata": {
        "id": "9oVF55o2Xvfk",
        "colab": {
          "base_uri": "https://localhost:8080/"
        },
        "outputId": "ddb641f6-6036-4982-8263-7da90ea70e96"
      },
      "source": [
        "train = pd.read_csv(\"bike_train.csv\")\n",
        "train.dtypes"
      ],
      "execution_count": null,
      "outputs": [
        {
          "output_type": "execute_result",
          "data": {
            "text/plain": [
              "datetime       object\n",
              "season          int64\n",
              "holiday         int64\n",
              "workingday      int64\n",
              "weather         int64\n",
              "temp          float64\n",
              "atemp         float64\n",
              "humidity        int64\n",
              "windspeed     float64\n",
              "casual          int64\n",
              "registered      int64\n",
              "count           int64\n",
              "dtype: object"
            ]
          },
          "metadata": {
            "tags": []
          },
          "execution_count": 5
        }
      ]
    },
    {
      "cell_type": "markdown",
      "metadata": {
        "id": "gE8uqvTL7FlZ"
      },
      "source": [
        "## Data read and Preprocessing"
      ]
    },
    {
      "cell_type": "code",
      "metadata": {
        "scrolled": true,
        "id": "sYlVVu4pXvfl",
        "colab": {
          "base_uri": "https://localhost:8080/"
        },
        "outputId": "f44f4419-e63d-49fe-91d4-049f28cc000d"
      },
      "source": [
        "train = pd.read_csv(\"bike_train.csv\", parse_dates=[\"datetime\"])\n",
        "train.dtypes"
      ],
      "execution_count": null,
      "outputs": [
        {
          "output_type": "execute_result",
          "data": {
            "text/plain": [
              "datetime      datetime64[ns]\n",
              "season                 int64\n",
              "holiday                int64\n",
              "workingday             int64\n",
              "weather                int64\n",
              "temp                 float64\n",
              "atemp                float64\n",
              "humidity               int64\n",
              "windspeed            float64\n",
              "casual                 int64\n",
              "registered             int64\n",
              "count                  int64\n",
              "dtype: object"
            ]
          },
          "metadata": {
            "tags": []
          },
          "execution_count": 6
        }
      ]
    },
    {
      "cell_type": "code",
      "metadata": {
        "id": "yzCBJoUdXvfl"
      },
      "source": [
        "train.head(3)"
      ],
      "execution_count": null,
      "outputs": []
    },
    {
      "cell_type": "code",
      "metadata": {
        "id": "SedFsYPXXvfl",
        "colab": {
          "base_uri": "https://localhost:8080/"
        },
        "outputId": "195e3f06-d3a0-45f5-8562-bc9ba769fc15"
      },
      "source": [
        "train.shape     # (10886, 12)"
      ],
      "execution_count": null,
      "outputs": [
        {
          "output_type": "execute_result",
          "data": {
            "text/plain": [
              "(10886, 12)"
            ]
          },
          "metadata": {
            "tags": []
          },
          "execution_count": 52
        }
      ]
    },
    {
      "cell_type": "code",
      "metadata": {
        "id": "RpDVzVSo6_ux"
      },
      "source": [
        "train.info()"
      ],
      "execution_count": null,
      "outputs": []
    },
    {
      "cell_type": "markdown",
      "metadata": {
        "id": "w9f22Ah36_u0"
      },
      "source": [
        "- decompose 'datetime' feature"
      ]
    },
    {
      "cell_type": "code",
      "metadata": {
        "id": "GMMzNEvZ6_u2"
      },
      "source": [
        "train[\"d-year\"] = train[\"datetime\"].dt.year\n",
        "train[\"d-month\"] = train[\"datetime\"].dt.month\n",
        "train[\"d-day\"] = train[\"datetime\"].dt.day\n",
        "train[\"d-hour\"] = train[\"datetime\"].dt.hour\n",
        "train[\"d-minute\"] = train[\"datetime\"].dt.minute\n",
        "train[\"d-second\"] = train[\"datetime\"].dt.second"
      ],
      "execution_count": null,
      "outputs": []
    },
    {
      "cell_type": "code",
      "metadata": {
        "id": "ftdzLIQUZ3uo"
      },
      "source": [
        "train[\"d-dayofweek\"] = train[\"datetime\"].dt.dayofweek   # monday(0), ... sunday(6)"
      ],
      "execution_count": null,
      "outputs": []
    },
    {
      "cell_type": "code",
      "metadata": {
        "colab": {
          "base_uri": "https://localhost:8080/",
          "height": 198
        },
        "id": "QeBbSRhaaHoM",
        "outputId": "97bb9f17-85fe-4172-c2b2-9570dbc14348"
      },
      "source": [
        "train[[\"datetime\", \"d-year\", \"d-month\", \"d-day\", \"d-hour\", \n",
        "       \"d-minute\", \"d-second\", \"d-dayofweek\"]].head()"
      ],
      "execution_count": null,
      "outputs": [
        {
          "output_type": "execute_result",
          "data": {
            "text/html": [
              "<div>\n",
              "<style scoped>\n",
              "    .dataframe tbody tr th:only-of-type {\n",
              "        vertical-align: middle;\n",
              "    }\n",
              "\n",
              "    .dataframe tbody tr th {\n",
              "        vertical-align: top;\n",
              "    }\n",
              "\n",
              "    .dataframe thead th {\n",
              "        text-align: right;\n",
              "    }\n",
              "</style>\n",
              "<table border=\"1\" class=\"dataframe\">\n",
              "  <thead>\n",
              "    <tr style=\"text-align: right;\">\n",
              "      <th></th>\n",
              "      <th>datetime</th>\n",
              "      <th>d-year</th>\n",
              "      <th>d-month</th>\n",
              "      <th>d-day</th>\n",
              "      <th>d-hour</th>\n",
              "      <th>d-minute</th>\n",
              "      <th>d-second</th>\n",
              "      <th>d-dayofweek</th>\n",
              "    </tr>\n",
              "  </thead>\n",
              "  <tbody>\n",
              "    <tr>\n",
              "      <th>0</th>\n",
              "      <td>2011-01-01 00:00:00</td>\n",
              "      <td>2011</td>\n",
              "      <td>1</td>\n",
              "      <td>1</td>\n",
              "      <td>0</td>\n",
              "      <td>0</td>\n",
              "      <td>0</td>\n",
              "      <td>5</td>\n",
              "    </tr>\n",
              "    <tr>\n",
              "      <th>1</th>\n",
              "      <td>2011-01-01 01:00:00</td>\n",
              "      <td>2011</td>\n",
              "      <td>1</td>\n",
              "      <td>1</td>\n",
              "      <td>1</td>\n",
              "      <td>0</td>\n",
              "      <td>0</td>\n",
              "      <td>5</td>\n",
              "    </tr>\n",
              "    <tr>\n",
              "      <th>2</th>\n",
              "      <td>2011-01-01 02:00:00</td>\n",
              "      <td>2011</td>\n",
              "      <td>1</td>\n",
              "      <td>1</td>\n",
              "      <td>2</td>\n",
              "      <td>0</td>\n",
              "      <td>0</td>\n",
              "      <td>5</td>\n",
              "    </tr>\n",
              "    <tr>\n",
              "      <th>3</th>\n",
              "      <td>2011-01-01 03:00:00</td>\n",
              "      <td>2011</td>\n",
              "      <td>1</td>\n",
              "      <td>1</td>\n",
              "      <td>3</td>\n",
              "      <td>0</td>\n",
              "      <td>0</td>\n",
              "      <td>5</td>\n",
              "    </tr>\n",
              "    <tr>\n",
              "      <th>4</th>\n",
              "      <td>2011-01-01 04:00:00</td>\n",
              "      <td>2011</td>\n",
              "      <td>1</td>\n",
              "      <td>1</td>\n",
              "      <td>4</td>\n",
              "      <td>0</td>\n",
              "      <td>0</td>\n",
              "      <td>5</td>\n",
              "    </tr>\n",
              "  </tbody>\n",
              "</table>\n",
              "</div>"
            ],
            "text/plain": [
              "             datetime  d-year  d-month  ...  d-minute  d-second  d-dayofweek\n",
              "0 2011-01-01 00:00:00    2011        1  ...         0         0            5\n",
              "1 2011-01-01 01:00:00    2011        1  ...         0         0            5\n",
              "2 2011-01-01 02:00:00    2011        1  ...         0         0            5\n",
              "3 2011-01-01 03:00:00    2011        1  ...         0         0            5\n",
              "4 2011-01-01 04:00:00    2011        1  ...         0         0            5\n",
              "\n",
              "[5 rows x 8 columns]"
            ]
          },
          "metadata": {
            "tags": []
          },
          "execution_count": 9
        }
      ]
    },
    {
      "cell_type": "code",
      "metadata": {
        "id": "-7aRyOMs6_u6",
        "scrolled": true,
        "colab": {
          "base_uri": "https://localhost:8080/",
          "height": 406
        },
        "outputId": "d33c4cf9-1465-4904-f810-acb0a488fa5d"
      },
      "source": [
        "figure, ((ax1, ax2), (ax3, ax4)) = plt.subplots(nrows=2, ncols=2)\n",
        "figure.set_size_inches(12, 6)\n",
        "\n",
        "sns.barplot(data=train, x=\"d-year\", y=\"count\", ax=ax1)\n",
        "sns.barplot(data=train, x=\"d-month\", y=\"count\", ax=ax2)\n",
        "sns.barplot(data=train, x=\"d-day\", y=\"count\", ax=ax3)\n",
        "sns.barplot(data=train, x=\"d-hour\", y=\"count\", ax=ax4)"
      ],
      "execution_count": null,
      "outputs": [
        {
          "output_type": "execute_result",
          "data": {
            "text/plain": [
              "<matplotlib.axes._subplots.AxesSubplot at 0x7ff864837f98>"
            ]
          },
          "metadata": {
            "tags": []
          },
          "execution_count": 10
        },
        {
          "output_type": "display_data",
          "data": {
            "image/png": "[encoded data removed]",
            "text/plain": [
              "<Figure size 864x432 with 4 Axes>"
            ]
          },
          "metadata": {
            "tags": [],
            "needs_background": "light"
          }
        }
      ]
    },
    {
      "cell_type": "markdown",
      "metadata": {
        "id": "TvaI3kPr7L5g"
      },
      "source": [
        "## Data Analysis"
      ]
    },
    {
      "cell_type": "markdown",
      "metadata": {
        "id": "VkaLS0mH6_u9"
      },
      "source": [
        "#### average numbers of rentals by hour (weekdays and weekends)\n",
        "- pointplot():point estimates and confidence intervals using scatter plot\n",
        "- It is important to keep in mind that a point plot shows only the mean (or other estimator) value, but in many cases it may be more informative to show the distribution of values at each level of the categorical variables. In that case, other approaches such as a box or violin plot may be more appropriate."
      ]
    },
    {
      "cell_type": "code",
      "metadata": {
        "colab": {
          "base_uri": "https://localhost:8080/",
          "height": 296
        },
        "id": "YSlHZAMd6_u-",
        "scrolled": false,
        "outputId": "af0d4a2f-b041-4102-fdce-a57d7e14a928"
      },
      "source": [
        "plt.figure(figsize=(12,4))\n",
        "# sns.pointplot(data=train, x=\"d-hour\", y=\"count\", hue=\"workingday\")\n",
        "sns.pointplot(data=train, x=\"d-hour\", y=\"count\")"
      ],
      "execution_count": null,
      "outputs": [
        {
          "output_type": "execute_result",
          "data": {
            "text/plain": [
              "<matplotlib.axes._subplots.AxesSubplot at 0x7f4a795802e8>"
            ]
          },
          "metadata": {
            "tags": []
          },
          "execution_count": 26
        },
        {
          "output_type": "display_data",
          "data": {
            "image/png": "[encoded data removed]",
            "text/plain": [
              "<Figure size 864x288 with 1 Axes>"
            ]
          },
          "metadata": {
            "tags": [],
            "needs_background": "light"
          }
        }
      ]
    },
    {
      "cell_type": "code",
      "metadata": {
        "id": "Ht9f0JVJXvfl",
        "outputId": "7067988a-a5fd-4b9f-cac3-812207f19655"
      },
      "source": [
        "plt.figure(figsize=(12,4))\n",
        "sns.pointplot(data=train, x=\"d-hour\", y=\"count\", hue=\"workingday\")"
      ],
      "execution_count": null,
      "outputs": [
        {
          "output_type": "execute_result",
          "data": {
            "text/plain": [
              "<matplotlib.axes._subplots.AxesSubplot at 0x2c55fe9d1d0>"
            ]
          },
          "metadata": {
            "tags": []
          },
          "execution_count": 36
        },
        {
          "output_type": "display_data",
          "data": {
            "image/png": "[encoded data removed]",
            "text/plain": [
              "<Figure size 864x288 with 1 Axes>"
            ]
          },
          "metadata": {
            "tags": [],
            "needs_background": "light"
          }
        }
      ]
    },
    {
      "cell_type": "markdown",
      "metadata": {
        "id": "SVydGWER6_vB"
      },
      "source": [
        "#### average number of rentals (weekdays)\n",
        "- dayofweek: return the day of the week. It is assumed the week starts on Monday, which is denoted by 0 and ends on Sunday which is denoted by 6. This method is available on both Series with datetime values (using the dt accessor) or DatetimeIndex."
      ]
    },
    {
      "cell_type": "code",
      "metadata": {
        "colab": {
          "base_uri": "https://localhost:8080/",
          "height": 216
        },
        "id": "d7PJftHE6_vC",
        "outputId": "8b291e34-7a48-4e3e-c840-417f4cdf69bc"
      },
      "source": [
        "print(train.shape)\n",
        "train[[\"datetime\", \"d-dayofweek\"]].head()"
      ],
      "execution_count": null,
      "outputs": [
        {
          "output_type": "stream",
          "text": [
            "(10886, 20)\n"
          ],
          "name": "stdout"
        },
        {
          "output_type": "execute_result",
          "data": {
            "text/html": [
              "<div>\n",
              "<style scoped>\n",
              "    .dataframe tbody tr th:only-of-type {\n",
              "        vertical-align: middle;\n",
              "    }\n",
              "\n",
              "    .dataframe tbody tr th {\n",
              "        vertical-align: top;\n",
              "    }\n",
              "\n",
              "    .dataframe thead th {\n",
              "        text-align: right;\n",
              "    }\n",
              "</style>\n",
              "<table border=\"1\" class=\"dataframe\">\n",
              "  <thead>\n",
              "    <tr style=\"text-align: right;\">\n",
              "      <th></th>\n",
              "      <th>datetime</th>\n",
              "      <th>d-dayofweek</th>\n",
              "    </tr>\n",
              "  </thead>\n",
              "  <tbody>\n",
              "    <tr>\n",
              "      <th>0</th>\n",
              "      <td>2011-01-01 00:00:00</td>\n",
              "      <td>5</td>\n",
              "    </tr>\n",
              "    <tr>\n",
              "      <th>1</th>\n",
              "      <td>2011-01-01 01:00:00</td>\n",
              "      <td>5</td>\n",
              "    </tr>\n",
              "    <tr>\n",
              "      <th>2</th>\n",
              "      <td>2011-01-01 02:00:00</td>\n",
              "      <td>5</td>\n",
              "    </tr>\n",
              "    <tr>\n",
              "      <th>3</th>\n",
              "      <td>2011-01-01 03:00:00</td>\n",
              "      <td>5</td>\n",
              "    </tr>\n",
              "    <tr>\n",
              "      <th>4</th>\n",
              "      <td>2011-01-01 04:00:00</td>\n",
              "      <td>5</td>\n",
              "    </tr>\n",
              "  </tbody>\n",
              "</table>\n",
              "</div>"
            ],
            "text/plain": [
              "             datetime  d-dayofweek\n",
              "0 2011-01-01 00:00:00            5\n",
              "1 2011-01-01 01:00:00            5\n",
              "2 2011-01-01 02:00:00            5\n",
              "3 2011-01-01 03:00:00            5\n",
              "4 2011-01-01 04:00:00            5"
            ]
          },
          "metadata": {
            "tags": []
          },
          "execution_count": 27
        }
      ]
    },
    {
      "cell_type": "code",
      "metadata": {
        "colab": {
          "base_uri": "https://localhost:8080/",
          "height": 441
        },
        "id": "U7Mmk7j-6_vF",
        "outputId": "1eb59402-5749-454f-878b-f9ed904b930d"
      },
      "source": [
        "figure, (ax1, ax2) = plt.subplots(nrows=2, ncols=1)\n",
        "figure.set_size_inches(18, 8)\n",
        "\n",
        "sns.pointplot(data=train, x=\"d-hour\", y=\"count\", hue=\"workingday\", ax=ax1)\n",
        "sns.pointplot(data=train, x=\"d-hour\", y=\"count\", hue=\"d-dayofweek\", ax=ax2)"
      ],
      "execution_count": null,
      "outputs": [
        {
          "output_type": "execute_result",
          "data": {
            "text/plain": [
              "<matplotlib.axes._subplots.AxesSubplot at 0x7f4a789c4320>"
            ]
          },
          "metadata": {
            "tags": []
          },
          "execution_count": 28
        },
        {
          "output_type": "display_data",
          "data": {
            "image/png": "[encoded data removed]",
            "text/plain": [
              "<Figure size 1296x576 with 2 Axes>"
            ]
          },
          "metadata": {
            "tags": [],
            "needs_background": "light"
          }
        }
      ]
    },
    {
      "cell_type": "markdown",
      "metadata": {
        "id": "ygGV3bOS6_vI"
      },
      "source": [
        "#### generating a new feature by combining year and month"
      ]
    },
    {
      "cell_type": "code",
      "metadata": {
        "colab": {
          "base_uri": "https://localhost:8080/",
          "height": 216
        },
        "id": "QDR3zmN96_vJ",
        "outputId": "7899d1aa-2c5d-4952-e1fa-bbf94074e578"
      },
      "source": [
        "def concatenate_year_month(datetime):\n",
        "    return \"{0}-{1}\".format(datetime.year, datetime.month)\n",
        "\n",
        "train[\"d-year_month\"] = train[\"datetime\"].apply(concatenate_year_month)\n",
        "\n",
        "print(train.shape)\n",
        "train[[\"datetime\", \"d-year_month\"]].head()"
      ],
      "execution_count": null,
      "outputs": [
        {
          "output_type": "stream",
          "text": [
            "(10886, 20)\n"
          ],
          "name": "stdout"
        },
        {
          "output_type": "execute_result",
          "data": {
            "text/html": [
              "<div>\n",
              "<style scoped>\n",
              "    .dataframe tbody tr th:only-of-type {\n",
              "        vertical-align: middle;\n",
              "    }\n",
              "\n",
              "    .dataframe tbody tr th {\n",
              "        vertical-align: top;\n",
              "    }\n",
              "\n",
              "    .dataframe thead th {\n",
              "        text-align: right;\n",
              "    }\n",
              "</style>\n",
              "<table border=\"1\" class=\"dataframe\">\n",
              "  <thead>\n",
              "    <tr style=\"text-align: right;\">\n",
              "      <th></th>\n",
              "      <th>datetime</th>\n",
              "      <th>d-year_month</th>\n",
              "    </tr>\n",
              "  </thead>\n",
              "  <tbody>\n",
              "    <tr>\n",
              "      <th>0</th>\n",
              "      <td>2011-01-01 00:00:00</td>\n",
              "      <td>2011-1</td>\n",
              "    </tr>\n",
              "    <tr>\n",
              "      <th>1</th>\n",
              "      <td>2011-01-01 01:00:00</td>\n",
              "      <td>2011-1</td>\n",
              "    </tr>\n",
              "    <tr>\n",
              "      <th>2</th>\n",
              "      <td>2011-01-01 02:00:00</td>\n",
              "      <td>2011-1</td>\n",
              "    </tr>\n",
              "    <tr>\n",
              "      <th>3</th>\n",
              "      <td>2011-01-01 03:00:00</td>\n",
              "      <td>2011-1</td>\n",
              "    </tr>\n",
              "    <tr>\n",
              "      <th>4</th>\n",
              "      <td>2011-01-01 04:00:00</td>\n",
              "      <td>2011-1</td>\n",
              "    </tr>\n",
              "  </tbody>\n",
              "</table>\n",
              "</div>"
            ],
            "text/plain": [
              "             datetime d-year_month\n",
              "0 2011-01-01 00:00:00       2011-1\n",
              "1 2011-01-01 01:00:00       2011-1\n",
              "2 2011-01-01 02:00:00       2011-1\n",
              "3 2011-01-01 03:00:00       2011-1\n",
              "4 2011-01-01 04:00:00       2011-1"
            ]
          },
          "metadata": {
            "tags": []
          },
          "execution_count": 29
        }
      ]
    },
    {
      "cell_type": "code",
      "metadata": {
        "colab": {
          "base_uri": "https://localhost:8080/",
          "height": 479
        },
        "id": "3ykQv12B6_vN",
        "scrolled": false,
        "outputId": "5fdf6295-585f-4a89-992d-25f194caa9c8"
      },
      "source": [
        "figure, (ax1, ax2) = plt.subplots(nrows=1, ncols=2)\n",
        "figure.set_size_inches(18, 4)\n",
        "\n",
        "sns.barplot(data=train, x=\"d-year\", y=\"count\", ax=ax1)\n",
        "sns.barplot(data=train, x=\"d-month\", y=\"count\", ax=ax2)\n",
        "\n",
        "figure, ax3 = plt.subplots(nrows=1, ncols=1)\n",
        "figure.set_size_inches(18, 4)\n",
        "\n",
        "sns.barplot(data=train, x=\"d-year_month\", y=\"count\", ax=ax3)"
      ],
      "execution_count": null,
      "outputs": [
        {
          "output_type": "execute_result",
          "data": {
            "text/plain": [
              "<matplotlib.axes._subplots.AxesSubplot at 0x7f4a75b439b0>"
            ]
          },
          "metadata": {
            "tags": []
          },
          "execution_count": 30
        },
        {
          "output_type": "display_data",
          "data": {
            "image/png": "[encoded data removed]",
            "text/plain": [
              "<Figure size 1296x288 with 2 Axes>"
            ]
          },
          "metadata": {
            "tags": [],
            "needs_background": "light"
          }
        },
        {
          "output_type": "display_data",
          "data": {
            "image/png": "[encoded data removed]",
            "text/plain": [
              "<Figure size 1296x288 with 1 Axes>"
            ]
          },
          "metadata": {
            "tags": [],
            "needs_background": "light"
          }
        }
      ]
    },
    {
      "cell_type": "markdown",
      "metadata": {
        "id": "Ty7wbQ0L6_vS"
      },
      "source": [
        "## select features to use for training"
      ]
    },
    {
      "cell_type": "code",
      "metadata": {
        "colab": {
          "base_uri": "https://localhost:8080/"
        },
        "id": "2JZAxjE56_vT",
        "scrolled": true,
        "outputId": "27d9e21c-230b-466d-9b2f-fc3c4329800d"
      },
      "source": [
        "train.columns"
      ],
      "execution_count": null,
      "outputs": [
        {
          "output_type": "execute_result",
          "data": {
            "text/plain": [
              "Index(['datetime', 'season', 'holiday', 'workingday', 'weather', 'temp',\n",
              "       'atemp', 'humidity', 'windspeed', 'casual', 'registered', 'count',\n",
              "       'd-year', 'd-month', 'd-day', 'd-hour', 'd-minute', 'd-second',\n",
              "       'd-dayofweek'],\n",
              "      dtype='object')"
            ]
          },
          "metadata": {
            "tags": []
          },
          "execution_count": 11
        }
      ]
    },
    {
      "cell_type": "code",
      "metadata": {
        "id": "wzKGw40W6_vX"
      },
      "source": [
        "features = [\"season\", \"holiday\", \"workingday\", \"weather\",\n",
        "            \"temp\", \"atemp\", \"humidity\", \"windspeed\",\n",
        "            \"d-year\", \"d-hour\", \"d-dayofweek\"]"
      ],
      "execution_count": null,
      "outputs": []
    },
    {
      "cell_type": "code",
      "metadata": {
        "colab": {
          "base_uri": "https://localhost:8080/",
          "height": 216
        },
        "id": "QoSBlvzZ6_vb",
        "outputId": "a5682b11-7ba4-47a2-94c0-397d144d93b8"
      },
      "source": [
        "X = train[features]\n",
        "y = train['count']\n",
        "print(X.shape, y.shape)\n",
        "X.head()"
      ],
      "execution_count": null,
      "outputs": [
        {
          "output_type": "stream",
          "text": [
            "(10886, 11) (10886,)\n"
          ],
          "name": "stdout"
        },
        {
          "output_type": "execute_result",
          "data": {
            "text/html": [
              "<div>\n",
              "<style scoped>\n",
              "    .dataframe tbody tr th:only-of-type {\n",
              "        vertical-align: middle;\n",
              "    }\n",
              "\n",
              "    .dataframe tbody tr th {\n",
              "        vertical-align: top;\n",
              "    }\n",
              "\n",
              "    .dataframe thead th {\n",
              "        text-align: right;\n",
              "    }\n",
              "</style>\n",
              "<table border=\"1\" class=\"dataframe\">\n",
              "  <thead>\n",
              "    <tr style=\"text-align: right;\">\n",
              "      <th></th>\n",
              "      <th>season</th>\n",
              "      <th>holiday</th>\n",
              "      <th>workingday</th>\n",
              "      <th>weather</th>\n",
              "      <th>temp</th>\n",
              "      <th>atemp</th>\n",
              "      <th>humidity</th>\n",
              "      <th>windspeed</th>\n",
              "      <th>d-year</th>\n",
              "      <th>d-hour</th>\n",
              "      <th>d-dayofweek</th>\n",
              "    </tr>\n",
              "  </thead>\n",
              "  <tbody>\n",
              "    <tr>\n",
              "      <th>0</th>\n",
              "      <td>1</td>\n",
              "      <td>0</td>\n",
              "      <td>0</td>\n",
              "      <td>1</td>\n",
              "      <td>9.84</td>\n",
              "      <td>14.395</td>\n",
              "      <td>81</td>\n",
              "      <td>0.0</td>\n",
              "      <td>2011</td>\n",
              "      <td>0</td>\n",
              "      <td>5</td>\n",
              "    </tr>\n",
              "    <tr>\n",
              "      <th>1</th>\n",
              "      <td>1</td>\n",
              "      <td>0</td>\n",
              "      <td>0</td>\n",
              "      <td>1</td>\n",
              "      <td>9.02</td>\n",
              "      <td>13.635</td>\n",
              "      <td>80</td>\n",
              "      <td>0.0</td>\n",
              "      <td>2011</td>\n",
              "      <td>1</td>\n",
              "      <td>5</td>\n",
              "    </tr>\n",
              "    <tr>\n",
              "      <th>2</th>\n",
              "      <td>1</td>\n",
              "      <td>0</td>\n",
              "      <td>0</td>\n",
              "      <td>1</td>\n",
              "      <td>9.02</td>\n",
              "      <td>13.635</td>\n",
              "      <td>80</td>\n",
              "      <td>0.0</td>\n",
              "      <td>2011</td>\n",
              "      <td>2</td>\n",
              "      <td>5</td>\n",
              "    </tr>\n",
              "    <tr>\n",
              "      <th>3</th>\n",
              "      <td>1</td>\n",
              "      <td>0</td>\n",
              "      <td>0</td>\n",
              "      <td>1</td>\n",
              "      <td>9.84</td>\n",
              "      <td>14.395</td>\n",
              "      <td>75</td>\n",
              "      <td>0.0</td>\n",
              "      <td>2011</td>\n",
              "      <td>3</td>\n",
              "      <td>5</td>\n",
              "    </tr>\n",
              "    <tr>\n",
              "      <th>4</th>\n",
              "      <td>1</td>\n",
              "      <td>0</td>\n",
              "      <td>0</td>\n",
              "      <td>1</td>\n",
              "      <td>9.84</td>\n",
              "      <td>14.395</td>\n",
              "      <td>75</td>\n",
              "      <td>0.0</td>\n",
              "      <td>2011</td>\n",
              "      <td>4</td>\n",
              "      <td>5</td>\n",
              "    </tr>\n",
              "  </tbody>\n",
              "</table>\n",
              "</div>"
            ],
            "text/plain": [
              "   season  holiday  workingday  weather  ...  windspeed  d-year  d-hour  d-dayofweek\n",
              "0       1        0           0        1  ...        0.0    2011       0            5\n",
              "1       1        0           0        1  ...        0.0    2011       1            5\n",
              "2       1        0           0        1  ...        0.0    2011       2            5\n",
              "3       1        0           0        1  ...        0.0    2011       3            5\n",
              "4       1        0           0        1  ...        0.0    2011       4            5\n",
              "\n",
              "[5 rows x 11 columns]"
            ]
          },
          "metadata": {
            "tags": []
          },
          "execution_count": 13
        }
      ]
    },
    {
      "cell_type": "markdown",
      "metadata": {
        "id": "lDY_6y7p6_vs"
      },
      "source": [
        "## A simple prediction model"
      ]
    },
    {
      "cell_type": "code",
      "metadata": {
        "id": "dcHGn-wPXvfm",
        "colab": {
          "base_uri": "https://localhost:8080/"
        },
        "outputId": "d540c848-4662-40e2-9911-4c45cf0ed33e"
      },
      "source": [
        "np.random.seed(11)\n",
        "X_train, X_test, y_train, y_test = train_test_split(X, y, test_size = 0.2)\n",
        "\n",
        "model = RandomForestRegressor(n_estimators= 30)\n",
        "model.fit(X_train, y_train)\n",
        "model.score(X_test, y_test)"
      ],
      "execution_count": null,
      "outputs": [
        {
          "output_type": "execute_result",
          "data": {
            "text/plain": [
              "0.9483758264489849"
            ]
          },
          "metadata": {
            "tags": []
          },
          "execution_count": 14
        }
      ]
    },
    {
      "cell_type": "code",
      "metadata": {
        "id": "qPcpw0aWXvfm"
      },
      "source": [
        "# list(zip(y_test, model.predict(X_test)))[:10]"
      ],
      "execution_count": null,
      "outputs": []
    },
    {
      "cell_type": "code",
      "metadata": {
        "id": "QUjiGWgC6_vz",
        "colab": {
          "base_uri": "https://localhost:8080/"
        },
        "outputId": "cb62a35f-dc37-4e19-bf97-e41e96736a15"
      },
      "source": [
        "from sklearn.metrics import mean_squared_error\n",
        "np.random.seed(11)\n",
        "X_train, X_test, y_train, y_test = train_test_split(X, np.log(1+y), test_size = 0.2)   # y -> log(1 + y)\n",
        "\n",
        "model = RandomForestRegressor(n_estimators= 30)\n",
        "model.fit(X_train, y_train)\n",
        "print(\"score: \", model.score(X_test, y_test))\n",
        "print(\"MSE: \", mean_squared_error(y_test, model.predict(X_test)))"
      ],
      "execution_count": null,
      "outputs": [
        {
          "output_type": "stream",
          "text": [
            "score:  0.9580883210969734\n",
            "MSE:  0.08353623971542504\n"
          ],
          "name": "stdout"
        }
      ]
    },
    {
      "cell_type": "markdown",
      "metadata": {
        "id": "zs0CFgpTXvfm"
      },
      "source": [
        "- we can see that log(1+y) gives better performance than y."
      ]
    },
    {
      "cell_type": "code",
      "metadata": {
        "id": "gv2k__Dh6_v6",
        "scrolled": true
      },
      "source": [
        "# list(zip(y_test, model.predict(X_test)))[:10]\n",
        "# X_train[:5]"
      ],
      "execution_count": null,
      "outputs": []
    },
    {
      "cell_type": "markdown",
      "metadata": {
        "id": "rYV_3yZW6_wA"
      },
      "source": [
        "## other models: linear and decision tree models"
      ]
    },
    {
      "cell_type": "code",
      "metadata": {
        "colab": {
          "base_uri": "https://localhost:8080/"
        },
        "id": "RSrOtZyJ6_wB",
        "outputId": "fa111eed-5840-40c8-9a9d-dc99f6017bce"
      },
      "source": [
        "model = LinearRegression()\n",
        "model.fit(X_train, y_train)\n",
        "print(model.score(X_test, y_test))\n",
        "\n",
        "model = DecisionTreeRegressor()\n",
        "model.fit(X_train, y_train)\n",
        "print(model.score(X_test, y_test))"
      ],
      "execution_count": null,
      "outputs": [
        {
          "output_type": "stream",
          "text": [
            "0.47259501985060887\n",
            "0.915749021768606\n"
          ],
          "name": "stdout"
        }
      ]
    },
    {
      "cell_type": "markdown",
      "metadata": {
        "id": "Yzq_C7NE6_wI"
      },
      "source": [
        "#### change the performance score (rmse --> rmsle)\n",
        "- robust to outliers\n",
        "- RMSLE incurs a larger penalty for the underestimation of the Actual variable than the Overestimation.\n",
        "- This is especially useful for business cases where the underestimation of the target variable is not acceptable but overestimation can be tolerated.\n",
        "- to be used in GridSearch() (The less, the better.)\n",
        "- $$ \\sqrt{\\frac{1}{n} \\sum_{i=1}^n (\\log(p_i + 1) - \\log(a_i+1))^2 } $$"
      ]
    },
    {
      "cell_type": "code",
      "metadata": {
        "colab": {
          "base_uri": "https://localhost:8080/"
        },
        "id": "e0kRQgIC6_wK",
        "outputId": "c33d65a2-f360-47f6-d243-2ee500707055"
      },
      "source": [
        "def rmsle(predict, actual):\n",
        "    predict = np.array(predict)\n",
        "    actual = np.array(actual)\n",
        "    \n",
        "    predict = np.log(predict + 1)\n",
        "    actual = np.log(actual + 1)\n",
        "    \n",
        "    difference_square_mean = np.square(predict - actual).mean()\n",
        "    score = np.sqrt(difference_square_mean)\n",
        "    return score\n",
        "\n",
        "rmsle_scorer = make_scorer(rmsle)    #  make your own scoring function\n",
        "rmsle_scorer"
      ],
      "execution_count": null,
      "outputs": [
        {
          "output_type": "execute_result",
          "data": {
            "text/plain": [
              "make_scorer(rmsle)"
            ]
          },
          "metadata": {
            "tags": []
          },
          "execution_count": 20
        }
      ]
    },
    {
      "cell_type": "markdown",
      "metadata": {
        "id": "jb9NOYEZ6_wN"
      },
      "source": [
        "## selecting hyperparameters\n",
        "- Grid search\n",
        "- Random search"
      ]
    },
    {
      "cell_type": "markdown",
      "metadata": {
        "id": "jIPma9odXvfn"
      },
      "source": [
        "##### Grid search"
      ]
    },
    {
      "cell_type": "code",
      "metadata": {
        "colab": {
          "base_uri": "https://localhost:8080/"
        },
        "id": "Najht9c66_wP",
        "outputId": "b8c590d8-09cb-4f12-e0b7-c734bf366efa"
      },
      "source": [
        "# Grid Search for the random forest\n",
        "\n",
        "n_estimators = 30\n",
        "\n",
        "max_depth_list = [10, 20, 30, 50, 100]\n",
        "max_features_list = [0.1, 0.3, 0.5, 0.7,  0.9]\n",
        "\n",
        "hyperparameters_list = []\n",
        "\n",
        "for max_depth in max_depth_list:\n",
        "    for max_features in max_features_list:\n",
        "        model = RandomForestRegressor(n_estimators=n_estimators,\n",
        "                                      max_depth=max_depth,\n",
        "                                      max_features=max_features,\n",
        "                                      random_state=11,\n",
        "                                      n_jobs=-1)\n",
        "\n",
        "        score = cross_val_score(model, X_train, y_train, cv=5,\n",
        "                                scoring=rmsle_scorer).mean()\n",
        "\n",
        "        hyperparameters_list.append({\n",
        "            'score': score,\n",
        "            'n_estimators': n_estimators,\n",
        "            'max_depth': max_depth,\n",
        "            'max_features': max_features,\n",
        "        })\n",
        "\n",
        "        print(\"Score = {0:.5f}\".format(score))\n",
        "\n",
        "hyperparameters_list"
      ],
      "execution_count": null,
      "outputs": [
        {
          "output_type": "stream",
          "text": [
            "Score = 0.16951\n",
            "Score = 0.12306\n",
            "Score = 0.09950\n",
            "Score = 0.09258\n",
            "Score = 0.08983\n",
            "Score = 0.14066\n",
            "Score = 0.10606\n",
            "Score = 0.09078\n",
            "Score = 0.08726\n",
            "Score = 0.08667\n",
            "Score = 0.14091\n",
            "Score = 0.10716\n",
            "Score = 0.09140\n",
            "Score = 0.08776\n",
            "Score = 0.08699\n",
            "Score = 0.14081\n",
            "Score = 0.10713\n",
            "Score = 0.09136\n",
            "Score = 0.08784\n",
            "Score = 0.08697\n",
            "Score = 0.14081\n",
            "Score = 0.10713\n",
            "Score = 0.09136\n",
            "Score = 0.08784\n",
            "Score = 0.08697\n"
          ],
          "name": "stdout"
        },
        {
          "output_type": "execute_result",
          "data": {
            "text/plain": [
              "[{'max_depth': 10,\n",
              "  'max_features': 0.1,\n",
              "  'n_estimators': 30,\n",
              "  'score': 0.16950633165191492},\n",
              " {'max_depth': 10,\n",
              "  'max_features': 0.3,\n",
              "  'n_estimators': 30,\n",
              "  'score': 0.12306276038916239},\n",
              " {'max_depth': 10,\n",
              "  'max_features': 0.5,\n",
              "  'n_estimators': 30,\n",
              "  'score': 0.09949546271969718},\n",
              " {'max_depth': 10,\n",
              "  'max_features': 0.7,\n",
              "  'n_estimators': 30,\n",
              "  'score': 0.0925814502854659},\n",
              " {'max_depth': 10,\n",
              "  'max_features': 0.9,\n",
              "  'n_estimators': 30,\n",
              "  'score': 0.08982572027937767},\n",
              " {'max_depth': 20,\n",
              "  'max_features': 0.1,\n",
              "  'n_estimators': 30,\n",
              "  'score': 0.14065919256437312},\n",
              " {'max_depth': 20,\n",
              "  'max_features': 0.3,\n",
              "  'n_estimators': 30,\n",
              "  'score': 0.10606278664903024},\n",
              " {'max_depth': 20,\n",
              "  'max_features': 0.5,\n",
              "  'n_estimators': 30,\n",
              "  'score': 0.0907818421555459},\n",
              " {'max_depth': 20,\n",
              "  'max_features': 0.7,\n",
              "  'n_estimators': 30,\n",
              "  'score': 0.08726420623588688},\n",
              " {'max_depth': 20,\n",
              "  'max_features': 0.9,\n",
              "  'n_estimators': 30,\n",
              "  'score': 0.08666639731103369},\n",
              " {'max_depth': 30,\n",
              "  'max_features': 0.1,\n",
              "  'n_estimators': 30,\n",
              "  'score': 0.1409055682727031},\n",
              " {'max_depth': 30,\n",
              "  'max_features': 0.3,\n",
              "  'n_estimators': 30,\n",
              "  'score': 0.10716177056607852},\n",
              " {'max_depth': 30,\n",
              "  'max_features': 0.5,\n",
              "  'n_estimators': 30,\n",
              "  'score': 0.09140018501612991},\n",
              " {'max_depth': 30,\n",
              "  'max_features': 0.7,\n",
              "  'n_estimators': 30,\n",
              "  'score': 0.08776245563406743},\n",
              " {'max_depth': 30,\n",
              "  'max_features': 0.9,\n",
              "  'n_estimators': 30,\n",
              "  'score': 0.08698818547171935},\n",
              " {'max_depth': 50,\n",
              "  'max_features': 0.1,\n",
              "  'n_estimators': 30,\n",
              "  'score': 0.140808100394297},\n",
              " {'max_depth': 50,\n",
              "  'max_features': 0.3,\n",
              "  'n_estimators': 30,\n",
              "  'score': 0.10712933094913146},\n",
              " {'max_depth': 50,\n",
              "  'max_features': 0.5,\n",
              "  'n_estimators': 30,\n",
              "  'score': 0.09136187324491203},\n",
              " {'max_depth': 50,\n",
              "  'max_features': 0.7,\n",
              "  'n_estimators': 30,\n",
              "  'score': 0.08783550977129463},\n",
              " {'max_depth': 50,\n",
              "  'max_features': 0.9,\n",
              "  'n_estimators': 30,\n",
              "  'score': 0.08696886817484431},\n",
              " {'max_depth': 100,\n",
              "  'max_features': 0.1,\n",
              "  'n_estimators': 30,\n",
              "  'score': 0.140808100394297},\n",
              " {'max_depth': 100,\n",
              "  'max_features': 0.3,\n",
              "  'n_estimators': 30,\n",
              "  'score': 0.10712933094913146},\n",
              " {'max_depth': 100,\n",
              "  'max_features': 0.5,\n",
              "  'n_estimators': 30,\n",
              "  'score': 0.09136187324491203},\n",
              " {'max_depth': 100,\n",
              "  'max_features': 0.7,\n",
              "  'n_estimators': 30,\n",
              "  'score': 0.08783550977129463},\n",
              " {'max_depth': 100,\n",
              "  'max_features': 0.9,\n",
              "  'n_estimators': 30,\n",
              "  'score': 0.08696886817484431}]"
            ]
          },
          "metadata": {
            "tags": []
          },
          "execution_count": 21
        }
      ]
    },
    {
      "cell_type": "code",
      "metadata": {
        "colab": {
          "base_uri": "https://localhost:8080/",
          "height": 216
        },
        "id": "sjBMQWVl6_wS",
        "outputId": "823cbcda-6579-4642-a5a1-1f74793f57bb"
      },
      "source": [
        "hyperparameters_list = pd.DataFrame.from_dict(hyperparameters_list)  # make dataframe from dictionary\n",
        "hyperparameters_list = hyperparameters_list.sort_values(by=\"score\")\n",
        "\n",
        "print(hyperparameters_list.shape)\n",
        "hyperparameters_list.head()"
      ],
      "execution_count": null,
      "outputs": [
        {
          "output_type": "stream",
          "text": [
            "(25, 4)\n"
          ],
          "name": "stdout"
        },
        {
          "output_type": "execute_result",
          "data": {
            "text/html": [
              "<div>\n",
              "<style scoped>\n",
              "    .dataframe tbody tr th:only-of-type {\n",
              "        vertical-align: middle;\n",
              "    }\n",
              "\n",
              "    .dataframe tbody tr th {\n",
              "        vertical-align: top;\n",
              "    }\n",
              "\n",
              "    .dataframe thead th {\n",
              "        text-align: right;\n",
              "    }\n",
              "</style>\n",
              "<table border=\"1\" class=\"dataframe\">\n",
              "  <thead>\n",
              "    <tr style=\"text-align: right;\">\n",
              "      <th></th>\n",
              "      <th>score</th>\n",
              "      <th>n_estimators</th>\n",
              "      <th>max_depth</th>\n",
              "      <th>max_features</th>\n",
              "    </tr>\n",
              "  </thead>\n",
              "  <tbody>\n",
              "    <tr>\n",
              "      <th>9</th>\n",
              "      <td>0.086666</td>\n",
              "      <td>30</td>\n",
              "      <td>20</td>\n",
              "      <td>0.9</td>\n",
              "    </tr>\n",
              "    <tr>\n",
              "      <th>24</th>\n",
              "      <td>0.086969</td>\n",
              "      <td>30</td>\n",
              "      <td>100</td>\n",
              "      <td>0.9</td>\n",
              "    </tr>\n",
              "    <tr>\n",
              "      <th>19</th>\n",
              "      <td>0.086969</td>\n",
              "      <td>30</td>\n",
              "      <td>50</td>\n",
              "      <td>0.9</td>\n",
              "    </tr>\n",
              "    <tr>\n",
              "      <th>14</th>\n",
              "      <td>0.086988</td>\n",
              "      <td>30</td>\n",
              "      <td>30</td>\n",
              "      <td>0.9</td>\n",
              "    </tr>\n",
              "    <tr>\n",
              "      <th>8</th>\n",
              "      <td>0.087264</td>\n",
              "      <td>30</td>\n",
              "      <td>20</td>\n",
              "      <td>0.7</td>\n",
              "    </tr>\n",
              "  </tbody>\n",
              "</table>\n",
              "</div>"
            ],
            "text/plain": [
              "       score  n_estimators  max_depth  max_features\n",
              "9   0.086666            30         20           0.9\n",
              "24  0.086969            30        100           0.9\n",
              "19  0.086969            30         50           0.9\n",
              "14  0.086988            30         30           0.9\n",
              "8   0.087264            30         20           0.7"
            ]
          },
          "metadata": {
            "tags": []
          },
          "execution_count": 41
        }
      ]
    },
    {
      "cell_type": "markdown",
      "metadata": {
        "id": "GKDqE8isXvfn"
      },
      "source": [
        "##### Random search\n",
        "- 2 stages: random selection and fine tuning"
      ]
    },
    {
      "cell_type": "code",
      "metadata": {
        "colab": {
          "base_uri": "https://localhost:8080/",
          "height": 388
        },
        "id": "-FRpjDfX6_wV",
        "outputId": "169dd0d6-3af3-4d67-caab-de582018450f"
      },
      "source": [
        "# Random selection\n",
        "\n",
        "import numpy as np\n",
        "from sklearn.ensemble import RandomForestRegressor\n",
        "from sklearn.model_selection import cross_val_score\n",
        "\n",
        "hyperparameters_list = []\n",
        "\n",
        "n_estimators = 30\n",
        "num_epoch = 10\n",
        "\n",
        "for epoch in range(num_epoch):\n",
        "    max_depth = np.random.randint(low=2, high=100)\n",
        "    max_features = np.random.uniform(low=0.1, high=1.0)\n",
        "\n",
        "    model = RandomForestRegressor(n_estimators=n_estimators,\n",
        "                                  max_depth=max_depth,\n",
        "                                  max_features=max_features,\n",
        "                                  random_state=37,\n",
        "                                  n_jobs=-1)\n",
        "\n",
        "    score = cross_val_score(model, X_train, y_train, cv=5,\n",
        "                            scoring=rmsle_scorer).mean()\n",
        "\n",
        "    hyperparameters_list.append({\n",
        "        'score': score,\n",
        "        'n_estimators': n_estimators,\n",
        "        'max_depth': max_depth,\n",
        "        'max_features': max_features,\n",
        "    })\n",
        "\n",
        "    print(\"Score = {0:.5f}\".format(score))\n",
        "\n",
        "hyperparameters_list = pd.DataFrame.from_dict(hyperparameters_list)\n",
        "hyperparameters_list = hyperparameters_list.sort_values(by=\"score\")\n",
        "\n",
        "print(hyperparameters_list.shape)\n",
        "hyperparameters_list.head()"
      ],
      "execution_count": null,
      "outputs": [
        {
          "output_type": "stream",
          "text": [
            "Score = 0.10727\n",
            "Score = 0.10727\n",
            "Score = 0.09112\n",
            "Score = 0.10727\n",
            "Score = 0.08892\n",
            "Score = 0.08671\n",
            "Score = 0.10760\n",
            "Score = 0.10727\n",
            "Score = 0.08708\n",
            "Score = 0.08708\n",
            "(10, 4)\n"
          ],
          "name": "stdout"
        },
        {
          "output_type": "execute_result",
          "data": {
            "text/html": [
              "<div>\n",
              "<style scoped>\n",
              "    .dataframe tbody tr th:only-of-type {\n",
              "        vertical-align: middle;\n",
              "    }\n",
              "\n",
              "    .dataframe tbody tr th {\n",
              "        vertical-align: top;\n",
              "    }\n",
              "\n",
              "    .dataframe thead th {\n",
              "        text-align: right;\n",
              "    }\n",
              "</style>\n",
              "<table border=\"1\" class=\"dataframe\">\n",
              "  <thead>\n",
              "    <tr style=\"text-align: right;\">\n",
              "      <th></th>\n",
              "      <th>score</th>\n",
              "      <th>n_estimators</th>\n",
              "      <th>max_depth</th>\n",
              "      <th>max_features</th>\n",
              "    </tr>\n",
              "  </thead>\n",
              "  <tbody>\n",
              "    <tr>\n",
              "      <th>5</th>\n",
              "      <td>0.086712</td>\n",
              "      <td>30</td>\n",
              "      <td>52</td>\n",
              "      <td>0.991445</td>\n",
              "    </tr>\n",
              "    <tr>\n",
              "      <th>8</th>\n",
              "      <td>0.087076</td>\n",
              "      <td>30</td>\n",
              "      <td>94</td>\n",
              "      <td>0.793496</td>\n",
              "    </tr>\n",
              "    <tr>\n",
              "      <th>9</th>\n",
              "      <td>0.087076</td>\n",
              "      <td>30</td>\n",
              "      <td>67</td>\n",
              "      <td>0.753001</td>\n",
              "    </tr>\n",
              "    <tr>\n",
              "      <th>4</th>\n",
              "      <td>0.088916</td>\n",
              "      <td>30</td>\n",
              "      <td>74</td>\n",
              "      <td>0.627469</td>\n",
              "    </tr>\n",
              "    <tr>\n",
              "      <th>2</th>\n",
              "      <td>0.091121</td>\n",
              "      <td>30</td>\n",
              "      <td>79</td>\n",
              "      <td>0.536514</td>\n",
              "    </tr>\n",
              "  </tbody>\n",
              "</table>\n",
              "</div>"
            ],
            "text/plain": [
              "      score  n_estimators  max_depth  max_features\n",
              "5  0.086712            30         52      0.991445\n",
              "8  0.087076            30         94      0.793496\n",
              "9  0.087076            30         67      0.753001\n",
              "4  0.088916            30         74      0.627469\n",
              "2  0.091121            30         79      0.536514"
            ]
          },
          "metadata": {
            "tags": []
          },
          "execution_count": 43
        }
      ]
    },
    {
      "cell_type": "code",
      "metadata": {
        "scrolled": true,
        "id": "4xQ0dKO0Xvfn",
        "outputId": "1ac47072-2a07-4751-fd89-c573505780d6"
      },
      "source": [
        "X_train.shape"
      ],
      "execution_count": null,
      "outputs": [
        {
          "output_type": "execute_result",
          "data": {
            "text/plain": [
              "(8708, 11)"
            ]
          },
          "metadata": {
            "tags": []
          },
          "execution_count": 62
        }
      ]
    },
    {
      "cell_type": "code",
      "metadata": {
        "colab": {
          "base_uri": "https://localhost:8080/",
          "height": 539
        },
        "id": "PEB5_4xS6_wb",
        "outputId": "de01c79e-df43-4099-fafa-82cb5faf9b0d"
      },
      "source": [
        "# fine search\n",
        "\n",
        "import numpy as np\n",
        "from sklearn.ensemble import RandomForestRegressor\n",
        "from sklearn.model_selection import cross_val_score\n",
        "\n",
        "hyperparameters_list = []\n",
        "\n",
        "n_estimators = 30\n",
        "num_epoch = 10\n",
        "\n",
        "for epoch in range(num_epoch):\n",
        "    max_depth = np.random.randint(low=30, high=90)\n",
        "    max_features = np.random.uniform(low=0.5, high=1.0)\n",
        "\n",
        "    model = RandomForestRegressor(n_estimators=n_estimators,\n",
        "                                  max_depth=max_depth,\n",
        "                                  max_features=max_features,\n",
        "                                  random_state=37,\n",
        "                                  n_jobs=-1)\n",
        "\n",
        "    score = cross_val_score(model, X_train, y_train, cv=5,\n",
        "                            scoring=rmsle_scorer).mean()\n",
        "\n",
        "    hyperparameters_list.append({\n",
        "        'score': score,\n",
        "        'n_estimators': n_estimators,\n",
        "        'max_depth': max_depth,\n",
        "        'max_features': max_features,\n",
        "    })\n",
        "\n",
        "    print(\"Score = {0:.5f}\".format(score))\n",
        "\n",
        "hyperparameters_list = pd.DataFrame.from_dict(hyperparameters_list)\n",
        "hyperparameters_list = hyperparameters_list.sort_values(by=\"score\")\n",
        "\n",
        "print(hyperparameters_list.shape)\n",
        "hyperparameters_list"
      ],
      "execution_count": null,
      "outputs": [
        {
          "output_type": "stream",
          "text": [
            "Score = 0.08661\n",
            "Score = 0.08892\n",
            "Score = 0.08671\n",
            "Score = 0.08708\n",
            "Score = 0.08760\n",
            "Score = 0.08708\n",
            "Score = 0.08661\n",
            "Score = 0.08892\n",
            "Score = 0.08671\n",
            "Score = 0.08760\n",
            "(10, 4)\n"
          ],
          "name": "stdout"
        },
        {
          "output_type": "execute_result",
          "data": {
            "text/html": [
              "<div>\n",
              "<style scoped>\n",
              "    .dataframe tbody tr th:only-of-type {\n",
              "        vertical-align: middle;\n",
              "    }\n",
              "\n",
              "    .dataframe tbody tr th {\n",
              "        vertical-align: top;\n",
              "    }\n",
              "\n",
              "    .dataframe thead th {\n",
              "        text-align: right;\n",
              "    }\n",
              "</style>\n",
              "<table border=\"1\" class=\"dataframe\">\n",
              "  <thead>\n",
              "    <tr style=\"text-align: right;\">\n",
              "      <th></th>\n",
              "      <th>score</th>\n",
              "      <th>n_estimators</th>\n",
              "      <th>max_depth</th>\n",
              "      <th>max_features</th>\n",
              "    </tr>\n",
              "  </thead>\n",
              "  <tbody>\n",
              "    <tr>\n",
              "      <th>0</th>\n",
              "      <td>0.086608</td>\n",
              "      <td>30</td>\n",
              "      <td>59</td>\n",
              "      <td>0.847356</td>\n",
              "    </tr>\n",
              "    <tr>\n",
              "      <th>6</th>\n",
              "      <td>0.086608</td>\n",
              "      <td>30</td>\n",
              "      <td>39</td>\n",
              "      <td>0.830026</td>\n",
              "    </tr>\n",
              "    <tr>\n",
              "      <th>2</th>\n",
              "      <td>0.086712</td>\n",
              "      <td>30</td>\n",
              "      <td>54</td>\n",
              "      <td>0.949200</td>\n",
              "    </tr>\n",
              "    <tr>\n",
              "      <th>8</th>\n",
              "      <td>0.086712</td>\n",
              "      <td>30</td>\n",
              "      <td>83</td>\n",
              "      <td>0.930264</td>\n",
              "    </tr>\n",
              "    <tr>\n",
              "      <th>3</th>\n",
              "      <td>0.087076</td>\n",
              "      <td>30</td>\n",
              "      <td>48</td>\n",
              "      <td>0.765320</td>\n",
              "    </tr>\n",
              "    <tr>\n",
              "      <th>5</th>\n",
              "      <td>0.087076</td>\n",
              "      <td>30</td>\n",
              "      <td>64</td>\n",
              "      <td>0.728243</td>\n",
              "    </tr>\n",
              "    <tr>\n",
              "      <th>4</th>\n",
              "      <td>0.087604</td>\n",
              "      <td>30</td>\n",
              "      <td>85</td>\n",
              "      <td>0.661769</td>\n",
              "    </tr>\n",
              "    <tr>\n",
              "      <th>9</th>\n",
              "      <td>0.087604</td>\n",
              "      <td>30</td>\n",
              "      <td>65</td>\n",
              "      <td>0.688243</td>\n",
              "    </tr>\n",
              "    <tr>\n",
              "      <th>1</th>\n",
              "      <td>0.088916</td>\n",
              "      <td>30</td>\n",
              "      <td>89</td>\n",
              "      <td>0.598500</td>\n",
              "    </tr>\n",
              "    <tr>\n",
              "      <th>7</th>\n",
              "      <td>0.088916</td>\n",
              "      <td>30</td>\n",
              "      <td>65</td>\n",
              "      <td>0.578285</td>\n",
              "    </tr>\n",
              "  </tbody>\n",
              "</table>\n",
              "</div>"
            ],
            "text/plain": [
              "      score  n_estimators  max_depth  max_features\n",
              "0  0.086608            30         59      0.847356\n",
              "6  0.086608            30         39      0.830026\n",
              "2  0.086712            30         54      0.949200\n",
              "8  0.086712            30         83      0.930264\n",
              "3  0.087076            30         48      0.765320\n",
              "5  0.087076            30         64      0.728243\n",
              "4  0.087604            30         85      0.661769\n",
              "9  0.087604            30         65      0.688243\n",
              "1  0.088916            30         89      0.598500\n",
              "7  0.088916            30         65      0.578285"
            ]
          },
          "metadata": {
            "tags": []
          },
          "execution_count": 44
        }
      ]
    },
    {
      "cell_type": "code",
      "metadata": {
        "colab": {
          "base_uri": "https://localhost:8080/",
          "height": 115
        },
        "id": "2jd93hCn6_wi",
        "outputId": "5a870e7b-58d0-4664-b6e9-531eecb2b1d0"
      },
      "source": [
        "# final selection of hyperparameters (최종모델 선택)\n",
        "\n",
        "from sklearn.ensemble import RandomForestRegressor\n",
        "\n",
        "model = RandomForestRegressor(n_estimators=300,\n",
        "                              max_depth=65,\n",
        "                              max_features=0.9309,\n",
        "                              random_state=37,\n",
        "                              n_jobs=-1)\n",
        "model.fit(X_train, y_train)\n",
        "score = cross_val_score(model, X_train, y_train, cv=5,\n",
        "                        scoring=rmsle_scorer).mean()\n",
        "print(\"Score = {0:.5f}\".format(score))"
      ],
      "execution_count": null,
      "outputs": [
        {
          "output_type": "stream",
          "text": [
            "Score = 0.08490\n"
          ],
          "name": "stdout"
        }
      ]
    },
    {
      "cell_type": "markdown",
      "metadata": {
        "id": "dEYPDvKn6_wt"
      },
      "source": [
        "#### Most significant features"
      ]
    },
    {
      "cell_type": "code",
      "metadata": {
        "id": "0kCeoi1DXvfn",
        "outputId": "85bac500-df26-40ac-f0af-10136adba5df"
      },
      "source": [
        "model.feature_importances_    # he higher, the more important the feature."
      ],
      "execution_count": null,
      "outputs": [
        {
          "output_type": "execute_result",
          "data": {
            "text/plain": [
              "array([0.02899721, 0.00159625, 0.03754561, 0.01084869, 0.05063554,\n",
              "       0.02838283, 0.02159215, 0.01110294, 0.03009873, 0.75053236,\n",
              "       0.0286677 ])"
            ]
          },
          "metadata": {
            "tags": []
          },
          "execution_count": 68
        }
      ]
    },
    {
      "cell_type": "code",
      "metadata": {
        "colab": {
          "base_uri": "https://localhost:8080/",
          "height": 442
        },
        "id": "LF_ik_es6_w-",
        "outputId": "dcacc195-3c56-4ec5-97ef-ebeae3dc06be"
      },
      "source": [
        "df = pd.DataFrame({'feature':features,'importance':model.feature_importances_ }) \n",
        "df=df.sort_values('importance', ascending=False)\n",
        "x = df.feature\n",
        "y = df.importance\n",
        "ypos = np.arange(len(x))\n",
        "plt.figure(figsize=(10,7))\n",
        "plt.barh(x, y)\n",
        "plt.yticks(ypos, x)\n",
        "plt.xlabel('Importance')\n",
        "plt.ylabel('Variable')\n",
        "plt.xlim(0, 1)\n",
        "plt.ylim(-1, len(x))\n",
        "plt.show()"
      ],
      "execution_count": null,
      "outputs": [
        {
          "output_type": "display_data",
          "data": {
            "image/png": "[encoded data removed]",
            "text/plain": [
              "<Figure size 720x504 with 1 Axes>"
            ]
          },
          "metadata": {
            "tags": [],
            "needs_background": "light"
          }
        }
      ]
    },
    {
      "cell_type": "code",
      "metadata": {
        "id": "DP8r8NYJCcKo"
      },
      "source": [
        "## GridSearchCV() function"
      ],
      "execution_count": null,
      "outputs": []
    },
    {
      "cell_type": "code",
      "metadata": {
        "id": "g432BuFsXvfn",
        "outputId": "aa28f779-fffb-4e3b-975a-7090414f30f6"
      },
      "source": [
        "print(X_train.shape, X_test.shape, y_train.shape, y_test.shape)"
      ],
      "execution_count": null,
      "outputs": [
        {
          "output_type": "stream",
          "text": [
            "(8708, 11) (2178, 11) (8708,) (2178,)\n"
          ],
          "name": "stdout"
        }
      ]
    },
    {
      "cell_type": "code",
      "metadata": {
        "id": "ap_IdxEDXvfn",
        "outputId": "6aeed295-b582-477e-be1e-8a5ded8b5bc8"
      },
      "source": [
        "rcf = RandomForestRegressor(n_estimators=100)\n",
        "rcf.fit(X_train, y_train)\n",
        "rcf.score(X_test, y_test)"
      ],
      "execution_count": null,
      "outputs": [
        {
          "output_type": "execute_result",
          "data": {
            "text/plain": [
              "0.9589764387583691"
            ]
          },
          "metadata": {
            "tags": []
          },
          "execution_count": 71
        }
      ]
    },
    {
      "cell_type": "markdown",
      "metadata": {
        "id": "0fneYrKUXvfn"
      },
      "source": [
        "# GridSearchCV()\n",
        "- 그리드 탐색을 하며 동시에 교차 검증 수행\n",
        "- fit, model, score 함수를 제공하며 fit 를 호출할 때 여러 파라미터 조합에 대해 교차 검증을 수행\n",
        "- Exhaustive search over specified parameter values for an estimator.\n",
        "- it implements a “fit” and a “score” method. It also implements “predict”, “predict_proba”, “decision_function”, \n",
        " “transform” and “inverse_transform” if they are implemented in the estimator used.\n",
        "- The parameters of the estimator used to apply these methods are optimized by cross-validated grid-search over a parameter grid.\n",
        "- 그리드 탐색과 교차 검증을 동시에 수행"
      ]
    },
    {
      "cell_type": "code",
      "metadata": {
        "id": "uUIgYsbRXvfn",
        "colab": {
          "base_uri": "https://localhost:8080/"
        },
        "outputId": "ea9b0d18-b75d-4c01-a784-747c96d34429"
      },
      "source": [
        "from sklearn.model_selection import GridSearchCV\n",
        "\n",
        "params = [{\"max_depth\":[10, 20, 30], \n",
        "           \"max_features\":[0.3, 0.5, 0.9]}]\n",
        "\n",
        "# grid search\n",
        "clf = GridSearchCV(RandomForestRegressor(), params, cv=3, n_jobs=-1)\n",
        "clf.fit(X_train, y_train)\n",
        "print(\"best values: \", clf.best_estimator_)\n",
        "print(\"best score: \", clf.best_score_)\n",
        "\n",
        "# final evaluation on test data\n",
        "score = clf.score(X_test, y_test)\n",
        "print(\"final score: \", score)"
      ],
      "execution_count": null,
      "outputs": [
        {
          "output_type": "stream",
          "text": [
            "best values:  RandomForestRegressor(bootstrap=True, ccp_alpha=0.0, criterion='mse',\n",
            "                      max_depth=20, max_features=0.9, max_leaf_nodes=None,\n",
            "                      max_samples=None, min_impurity_decrease=0.0,\n",
            "                      min_impurity_split=None, min_samples_leaf=1,\n",
            "                      min_samples_split=2, min_weight_fraction_leaf=0.0,\n",
            "                      n_estimators=100, n_jobs=None, oob_score=False,\n",
            "                      random_state=None, verbose=0, warm_start=False)\n",
            "best score:  0.9468521162478559\n",
            "final score:  0.9596003476298797\n"
          ],
          "name": "stdout"
        }
      ]
    },
    {
      "cell_type": "markdown",
      "metadata": {
        "id": "0Zar9LcSXvfn"
      },
      "source": [
        "# RandomizedSearchCV() function\n",
        "- In contrast to GridSearchCV, not all parameter values are tried out, but rather a fixed number \n",
        "of parameter settings is sampled from the specified distributions. The number of parameter settings\n",
        "that are tried is given by n_iter."
      ]
    },
    {
      "cell_type": "code",
      "metadata": {
        "id": "ta5KTZI-Xvfn",
        "colab": {
          "base_uri": "https://localhost:8080/"
        },
        "outputId": "d2ec6b64-174f-4b2b-a745-3454fd59044a"
      },
      "source": [
        "from sklearn.model_selection import RandomizedSearchCV\n",
        "\n",
        "n_estimators = [int(x) for x in np.linspace(start = 200, stop = 2000, num = 10)]\n",
        "max_features = ['auto', 'sqrt']\n",
        "max_depth = [int(x) for x in np.linspace(10, 110, num = 11)]\n",
        "max_depth.append(None)\n",
        "min_samples_split = [2, 5, 10]\n",
        "min_samples_leaf = [1, 2, 4]\n",
        "bootstrap = [True, False]\n",
        "\n",
        "random_grid = {'n_estimators': n_estimators,\n",
        "               'max_features': max_features,\n",
        "               'max_depth': max_depth,\n",
        "               'min_samples_split': min_samples_split,\n",
        "               'min_samples_leaf': min_samples_leaf,\n",
        "               'bootstrap': bootstrap}\n",
        "\n",
        "rf = RandomizedSearchCV(RandomForestRegressor(), random_grid, \n",
        "                               cv = 3, n_jobs = -1)\n",
        "# Fit the random search model\n",
        "rf.fit(X_train, y_train)\n",
        "\n",
        "print(rf.best_params_, rf.best_estimator_, rf.best_score_)\n",
        "score = rf.score(X_test, y_test)\n",
        "print(score)"
      ],
      "execution_count": null,
      "outputs": [
        {
          "output_type": "stream",
          "text": [
            "{'n_estimators': 200, 'min_samples_split': 2, 'min_samples_leaf': 2, 'max_features': 'auto', 'max_depth': 60, 'bootstrap': True} RandomForestRegressor(bootstrap=True, ccp_alpha=0.0, criterion='mse',\n",
            "                      max_depth=60, max_features='auto', max_leaf_nodes=None,\n",
            "                      max_samples=None, min_impurity_decrease=0.0,\n",
            "                      min_impurity_split=None, min_samples_leaf=2,\n",
            "                      min_samples_split=2, min_weight_fraction_leaf=0.0,\n",
            "                      n_estimators=200, n_jobs=None, oob_score=False,\n",
            "                      random_state=None, verbose=0, warm_start=False) 0.9463491679427386\n",
            "0.9592999583759886\n"
          ],
          "name": "stdout"
        }
      ]
    },
    {
      "cell_type": "code",
      "metadata": {
        "id": "RYDpc2q8Xvfn"
      },
      "source": [
        ""
      ],
      "execution_count": null,
      "outputs": []
    }
  ]
}