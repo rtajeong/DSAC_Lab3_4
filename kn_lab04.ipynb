{
  "nbformat": 4,
  "nbformat_minor": 0,
  "metadata": {
    "colab": {
      "name": "kn_lab04.ipynb",
      "provenance": [],
      "collapsed_sections": [],
      "mount_file_id": "1vFir82Hz8O_IXHl5lOTdB-bUuvxkFZJH",
      "authorship_tag": "ABX9TyPy4LFr1UTQkp6jeGrFs6WS",
      "include_colab_link": true
    },
    "kernelspec": {
      "name": "python3",
      "display_name": "Python 3"
    }
  },
  "cells": [
    {
      "cell_type": "markdown",
      "metadata": {
        "id": "view-in-github",
        "colab_type": "text"
      },
      "source": [
        "<a href=\"https://colab.research.google.com/github/rtajeong/DSAC_Lab3_4/blob/master/kn_lab04.ipynb\" target=\"_parent\"><img src=\"https://colab.research.google.com/assets/colab-badge.svg\" alt=\"Open In Colab\"/></a>"
      ]
    },
    {
      "cell_type": "markdown",
      "metadata": {
        "id": "TGhAi37Lytnp"
      },
      "source": [
        "# SVM"
      ]
    },
    {
      "cell_type": "code",
      "metadata": {
        "id": "SMGrPrbTM1zd"
      },
      "source": [
        "import numpy as np\r\n",
        "import pandas as pd\r\n",
        "import matplotlib.pyplot as plt\r\n",
        "%matplotlib inline"
      ],
      "execution_count": 41,
      "outputs": []
    },
    {
      "cell_type": "code",
      "metadata": {
        "id": "rHrtcc_CPX0I"
      },
      "source": [
        "from sklearn.datasets import load_iris\r\n",
        "iris = load_iris()"
      ],
      "execution_count": 42,
      "outputs": []
    },
    {
      "cell_type": "code",
      "metadata": {
        "id": "nJqDA9FKP0yh"
      },
      "source": [
        "X, y = iris.data, iris.target"
      ],
      "execution_count": 43,
      "outputs": []
    },
    {
      "cell_type": "code",
      "metadata": {
        "colab": {
          "base_uri": "https://localhost:8080/"
        },
        "id": "QfnxwvQLP2aP",
        "outputId": "6c9e03a5-f869-4adc-d714-3a72be544fd5"
      },
      "source": [
        "X.shape, y.shape"
      ],
      "execution_count": 44,
      "outputs": [
        {
          "output_type": "execute_result",
          "data": {
            "text/plain": [
              "((150, 4), (150,))"
            ]
          },
          "metadata": {
            "tags": []
          },
          "execution_count": 44
        }
      ]
    },
    {
      "cell_type": "code",
      "metadata": {
        "id": "M66ORDQnQmbS"
      },
      "source": [
        "X2 = X[:,:2]"
      ],
      "execution_count": 45,
      "outputs": []
    },
    {
      "cell_type": "code",
      "metadata": {
        "id": "t5XqtC03Q-y3"
      },
      "source": [
        "y2 = y.copy()"
      ],
      "execution_count": 46,
      "outputs": []
    },
    {
      "cell_type": "code",
      "metadata": {
        "colab": {
          "base_uri": "https://localhost:8080/"
        },
        "id": "7Iwd52gcQ_t6",
        "outputId": "b0af783c-5464-4d52-cf31-3914f68038b4"
      },
      "source": [
        "y2[(y2==2)] = 1\r\n",
        "y2"
      ],
      "execution_count": 47,
      "outputs": [
        {
          "output_type": "execute_result",
          "data": {
            "text/plain": [
              "array([0, 0, 0, 0, 0, 0, 0, 0, 0, 0, 0, 0, 0, 0, 0, 0, 0, 0, 0, 0, 0, 0,\n",
              "       0, 0, 0, 0, 0, 0, 0, 0, 0, 0, 0, 0, 0, 0, 0, 0, 0, 0, 0, 0, 0, 0,\n",
              "       0, 0, 0, 0, 0, 0, 1, 1, 1, 1, 1, 1, 1, 1, 1, 1, 1, 1, 1, 1, 1, 1,\n",
              "       1, 1, 1, 1, 1, 1, 1, 1, 1, 1, 1, 1, 1, 1, 1, 1, 1, 1, 1, 1, 1, 1,\n",
              "       1, 1, 1, 1, 1, 1, 1, 1, 1, 1, 1, 1, 1, 1, 1, 1, 1, 1, 1, 1, 1, 1,\n",
              "       1, 1, 1, 1, 1, 1, 1, 1, 1, 1, 1, 1, 1, 1, 1, 1, 1, 1, 1, 1, 1, 1,\n",
              "       1, 1, 1, 1, 1, 1, 1, 1, 1, 1, 1, 1, 1, 1, 1, 1, 1, 1])"
            ]
          },
          "metadata": {
            "tags": []
          },
          "execution_count": 47
        }
      ]
    },
    {
      "cell_type": "code",
      "metadata": {
        "id": "9dmpcmnsYXJ5"
      },
      "source": [
        "from sklearn.linear_model import SGDClassifier\r\n",
        "from sklearn.model_selection import train_test_split"
      ],
      "execution_count": 64,
      "outputs": []
    },
    {
      "cell_type": "code",
      "metadata": {
        "colab": {
          "base_uri": "https://localhost:8080/",
          "height": 315
        },
        "id": "cdRXudDNRKkW",
        "outputId": "526e4a48-e99a-40bf-917f-111701d5aae8"
      },
      "source": [
        "np.random.seed(5)\r\n",
        "X_train, X_test, y_train, y_test = train_test_split(X2, y2, test_size=0.3)\r\n",
        "\r\n",
        "markers = ['o','+']\r\n",
        "\r\n",
        "for i in range(2):\r\n",
        "    xs = X_train[:,0][y_train == i]\r\n",
        "    ys = X_train[:,1][y_train == i]\r\n",
        "    plt.scatter(xs, ys, marker=markers[i])\r\n",
        "plt.legend(['setosa','non-setosa'])\r\n",
        "plt.xlabel('sepal length')\r\n",
        "plt.ylabel('sepal width')\r\n",
        "\r\n",
        "clf = SGDClassifier()\r\n",
        "clf.fit(X_train, y_train)\r\n",
        "print(clf.score(X_train, y_train), clf.score(X_test, y_test))\r\n",
        "\r\n",
        "clf.coef_, clf.intercept_\r\n",
        "w1 = clf.coef_[0,0]\r\n",
        "w2 = clf.coef_[0,1]\r\n",
        "b = clf.intercept_\r\n",
        "\r\n",
        "xx = np.linspace(4, 8, 100)\r\n",
        "yy = -w1/w2 * xx - b/w2\r\n",
        "plt.plot(xx, yy)"
      ],
      "execution_count": 73,
      "outputs": [
        {
          "output_type": "stream",
          "text": [
            "0.9904761904761905 1.0\n"
          ],
          "name": "stdout"
        },
        {
          "output_type": "execute_result",
          "data": {
            "text/plain": [
              "[<matplotlib.lines.Line2D at 0x7fc13d1f9748>]"
            ]
          },
          "metadata": {
            "tags": []
          },
          "execution_count": 73
        },
        {
          "output_type": "display_data",
          "data": {
            "image/png": "[encoded data removed]",
            "text/plain": [
              "<Figure size 432x288 with 1 Axes>"
            ]
          },
          "metadata": {
            "tags": [],
            "needs_background": "light"
          }
        }
      ]
    },
    {
      "cell_type": "markdown",
      "metadata": {
        "id": "Yt-q8BjEWYDX"
      },
      "source": [
        "# use all classes"
      ]
    },
    {
      "cell_type": "code",
      "metadata": {
        "colab": {
          "base_uri": "https://localhost:8080/",
          "height": 352
        },
        "id": "G8z2Gd5oZkIh",
        "outputId": "da04d2d6-e3c3-4884-a30f-b8dd946b3515"
      },
      "source": [
        "np.random.seed(5)\r\n",
        "X_train, X_test, y_train, y_test = train_test_split(X2, y, test_size=0.3)\r\n",
        "\r\n",
        "markers = ['o','+', '^']\r\n",
        "\r\n",
        "for i in range(3):\r\n",
        "    xs = X_train[:,0][y_train == i]\r\n",
        "    ys = X_train[:,1][y_train == i]\r\n",
        "    plt.scatter(xs, ys, marker=markers[i])\r\n",
        "plt.legend(iris.target_names)\r\n",
        "plt.xlabel('sepal length')\r\n",
        "plt.ylabel('sepal width')\r\n",
        "\r\n",
        "clf = SGDClassifier()\r\n",
        "clf.fit(X_train, y_train)\r\n",
        "print(clf.score(X_train, y_train), clf.score(X_test, y_test))\r\n",
        "\r\n",
        "print(clf.coef_, clf.intercept_)\r\n",
        "\r\n",
        "for i in range(3):\r\n",
        "    w1 = clf.coef_[i, 0]\r\n",
        "    w2 = clf.coef_[i, 1]\r\n",
        "    b = clf.intercept_[i]\r\n",
        "    xx = np.linspace(4, 8, 100)\r\n",
        "    yy = -w1/w2 * xx - b/w2\r\n",
        "    plt.plot(xx, yy, c='r')\r\n"
      ],
      "execution_count": 79,
      "outputs": [
        {
          "output_type": "stream",
          "text": [
            "0.7523809523809524 0.7555555555555555\n",
            "[[-108.74475637  144.56276218]\n",
            " [  12.53314052  -80.50132562]\n",
            " [  51.88679245  -27.95248078]] [  74.17373957  118.51762316 -252.67961901]\n"
          ],
          "name": "stdout"
        },
        {
          "output_type": "display_data",
          "data": {
            "image/png": "[encoded data removed]",
            "text/plain": [
              "<Figure size 432x288 with 1 Axes>"
            ]
          },
          "metadata": {
            "tags": [],
            "needs_background": "light"
          }
        }
      ]
    }
  ]
}